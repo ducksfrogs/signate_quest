{
 "cells": [
  {
   "cell_type": "code",
   "execution_count": 1,
   "metadata": {},
   "outputs": [],
   "source": [
    "import os\n",
    "import zipfile\n",
    "from sklearn.model_selection import train_test_split\n",
    "import  glob\n",
    "import shutil\n"
   ]
  },
  {
   "cell_type": "code",
   "execution_count": 2,
   "metadata": {},
   "outputs": [],
   "source": [
    "def unzip_dataset(INPATH, OUTPATH):\n",
    "    with zipfile.ZipFile(INPATH) as zf:\n",
    "        zf.extractall(OUTPATH)\n",
    "        \n",
    "\n",
    "tmpdir = '../input/train_tmp'\n",
    "\n",
    "ok_dir = '../input/train/ok'\n",
    "ng_dir = '../input/train/ng'\n",
    "\n",
    "val_ok_dir = '../input/val/ok'\n",
    "val_ng_dir = '../input/val/ng'\n",
    "\n",
    "os.mkdir(tmpdir)\n"
   ]
  },
  {
   "cell_type": "code",
   "execution_count": 3,
   "metadata": {},
   "outputs": [],
   "source": [
    "unzip_dataset(INPATH='../input/train_data.zip', OUTPATH=tmpdir)\n"
   ]
  },
  {
   "cell_type": "code",
   "execution_count": 4,
   "metadata": {},
   "outputs": [],
   "source": [
    "files = glob.glob(tmpdir+'/*/*')\n"
   ]
  },
  {
   "cell_type": "code",
   "execution_count": 5,
   "metadata": {},
   "outputs": [],
   "source": [
    "train_files, test_files = train_test_split(files)\n"
   ]
  },
  {
   "cell_type": "code",
   "execution_count": 6,
   "metadata": {},
   "outputs": [],
   "source": [
    "os.mkdir(ok_dir)\n",
    "os.mkdir(ng_dir)\n",
    "\n",
    "os.mkdir(val_ok_dir)\n",
    "os.mkdir(val_ng_dir)\n"
   ]
  },
  {
   "cell_type": "code",
   "execution_count": 7,
   "metadata": {},
   "outputs": [],
   "source": [
    "for file in train_files:\n",
    "    if 'ok' in file:\n",
    "        shutil.copy2(file, ok_dir)\n",
    "    elif 'def' in file:\n",
    "        shutil.copy2(file, ng_dir)\n",
    "    else:\n",
    "        pass"
   ]
  },
  {
   "cell_type": "code",
   "execution_count": 8,
   "metadata": {},
   "outputs": [],
   "source": [
    "for file in test_files:\n",
    "    if 'ok' in file:\n",
    "        shutil.copy2(file, val_ok_dir)\n",
    "    elif 'def' in file:\n",
    "        shutil.copy2(file, val_ng_dir)\n",
    "    else:\n",
    "        pass"
   ]
  },
  {
   "cell_type": "code",
   "execution_count": 10,
   "metadata": {},
   "outputs": [],
   "source": [
    "ok_image_name_list = os.listdir('../input/train/ok/')\n",
    "ng_image_name_list = os.listdir('../input/train/ng')"
   ]
  },
  {
   "cell_type": "code",
   "execution_count": null,
   "metadata": {},
   "outputs": [],
   "source": []
  }
 ],
 "metadata": {
  "kernelspec": {
   "display_name": "Python 3",
   "language": "python",
   "name": "python3"
  },
  "language_info": {
   "codemirror_mode": {
    "name": "ipython",
    "version": 3
   },
   "file_extension": ".py",
   "mimetype": "text/x-python",
   "name": "python",
   "nbconvert_exporter": "python",
   "pygments_lexer": "ipython3",
   "version": "3.7.9"
  }
 },
 "nbformat": 4,
 "nbformat_minor": 4
}
