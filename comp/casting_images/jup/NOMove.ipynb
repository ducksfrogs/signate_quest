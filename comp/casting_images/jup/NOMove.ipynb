{
 "cells": [
  {
   "cell_type": "code",
   "execution_count": 1,
   "metadata": {},
   "outputs": [],
   "source": [
    "import torch\n",
    "from torchvision import transforms, datasets\n"
   ]
  },
  {
   "cell_type": "code",
   "execution_count": 2,
   "metadata": {},
   "outputs": [],
   "source": [
    "data_transforms = {\n",
    "    'train': transforms.Compose([\n",
    "        transforms.Resize(256),\n",
    "        transforms.RandomHorizontalFlip(p=0.5),\n",
    "        transforms.ToTensor(),\n",
    "        transforms.Normalize([0.485, 0.456, 0.406],[.229, 0.224, 0.225])\n",
    "    ]),\n",
    "    'val': transforms.Compose([\n",
    "        transforms.Resize(256),\n",
    "        transforms.ToTensor(),\n",
    "        transforms.Normalize([0.485, 0.456, 0.406],[.229, 0.224, 0.225])\n",
    "    ])\n",
    "}\n"
   ]
  },
  {
   "cell_type": "code",
   "execution_count": 3,
   "metadata": {},
   "outputs": [],
   "source": [
    "image_datasets = {\n",
    "    'train': datasets.ImageFolder(\"../input/train\", data_transforms['train']),\n",
    "    'val': datasets.ImageFolder(\"../input/val\", data_transforms['val'])\n",
    "}\n"
   ]
  },
  {
   "cell_type": "code",
   "execution_count": 4,
   "metadata": {},
   "outputs": [
    {
     "data": {
      "text/plain": [
       "{'train': Dataset ImageFolder\n",
       "     Number of datapoints: 188\n",
       "     Root location: ../input/train\n",
       "     StandardTransform\n",
       " Transform: Compose(\n",
       "                Resize(size=256, interpolation=PIL.Image.BILINEAR)\n",
       "                RandomHorizontalFlip(p=0.5)\n",
       "                ToTensor()\n",
       "                Normalize(mean=[0.485, 0.456, 0.406], std=[0.229, 0.224, 0.225])\n",
       "            ),\n",
       " 'val': Dataset ImageFolder\n",
       "     Number of datapoints: 62\n",
       "     Root location: ../input/val\n",
       "     StandardTransform\n",
       " Transform: Compose(\n",
       "                Resize(size=256, interpolation=PIL.Image.BILINEAR)\n",
       "                ToTensor()\n",
       "                Normalize(mean=[0.485, 0.456, 0.406], std=[0.229, 0.224, 0.225])\n",
       "            )}"
      ]
     },
     "execution_count": 4,
     "metadata": {},
     "output_type": "execute_result"
    }
   ],
   "source": [
    "image_datasets"
   ]
  },
  {
   "cell_type": "code",
   "execution_count": 5,
   "metadata": {},
   "outputs": [],
   "source": [
    "image_dataloaders = {\n",
    "    'train': torch.utils.data.DataLoader(image_datasets['train'], batch_size=4, shuffle=True, num_workers=0, drop_last=True),\n",
    "    'val': torch.utils.data.DataLoader(image_datasets['val'], batch_size=4, shuffle=False, num_workers=0, drop_last=True),\n",
    "    }\n"
   ]
  },
  {
   "cell_type": "code",
   "execution_count": 6,
   "metadata": {},
   "outputs": [
    {
     "data": {
      "text/plain": [
       "{'train': <torch.utils.data.dataloader.DataLoader at 0x7f605f708e10>,\n",
       " 'val': <torch.utils.data.dataloader.DataLoader at 0x7f605f708ed0>}"
      ]
     },
     "execution_count": 6,
     "metadata": {},
     "output_type": "execute_result"
    }
   ],
   "source": [
    "image_dataloaders"
   ]
  },
  {
   "cell_type": "code",
   "execution_count": 7,
   "metadata": {},
   "outputs": [
    {
     "data": {
      "text/plain": [
       "Dataset ImageFolder\n",
       "    Number of datapoints: 188\n",
       "    Root location: ../input/train\n",
       "    StandardTransform\n",
       "Transform: Compose(\n",
       "               Resize(size=256, interpolation=PIL.Image.BILINEAR)\n",
       "               RandomHorizontalFlip(p=0.5)\n",
       "               ToTensor()\n",
       "               Normalize(mean=[0.485, 0.456, 0.406], std=[0.229, 0.224, 0.225])\n",
       "           )"
      ]
     },
     "execution_count": 7,
     "metadata": {},
     "output_type": "execute_result"
    }
   ],
   "source": [
    "image_datasets['train']"
   ]
  },
  {
   "cell_type": "code",
   "execution_count": 8,
   "metadata": {},
   "outputs": [
    {
     "name": "stdout",
     "output_type": "stream",
     "text": [
      "tensor([[[[0.8276, 0.8961, 0.8447,  ..., 1.1015, 1.1015, 1.1015],\n",
      "          [0.8276, 0.8789, 0.8447,  ..., 1.1015, 1.1015, 1.1015],\n",
      "          [0.8104, 0.8618, 0.8447,  ..., 1.0844, 1.0844, 1.0844],\n",
      "          ...,\n",
      "          [0.3138, 0.3138, 0.3309,  ..., 0.6734, 0.6734, 0.6734],\n",
      "          [0.3138, 0.3309, 0.3309,  ..., 0.6734, 0.6734, 0.6734],\n",
      "          [0.3309, 0.3309, 0.3309,  ..., 0.6734, 0.6734, 0.6734]],\n",
      "\n",
      "         [[0.9755, 1.0455, 0.9930,  ..., 1.2556, 1.2556, 1.2556],\n",
      "          [0.9755, 1.0280, 0.9930,  ..., 1.2556, 1.2556, 1.2556],\n",
      "          [0.9580, 1.0105, 0.9930,  ..., 1.2381, 1.2381, 1.2381],\n",
      "          ...,\n",
      "          [0.4503, 0.4503, 0.4678,  ..., 0.8179, 0.8179, 0.8179],\n",
      "          [0.4503, 0.4678, 0.4678,  ..., 0.8179, 0.8179, 0.8179],\n",
      "          [0.4678, 0.4678, 0.4678,  ..., 0.8179, 0.8179, 0.8179]],\n",
      "\n",
      "         [[1.1934, 1.2631, 1.2108,  ..., 1.4722, 1.4722, 1.4722],\n",
      "          [1.1934, 1.2457, 1.2108,  ..., 1.4722, 1.4722, 1.4722],\n",
      "          [1.1759, 1.2282, 1.2108,  ..., 1.4548, 1.4548, 1.4548],\n",
      "          ...,\n",
      "          [0.6705, 0.6705, 0.6879,  ..., 1.0365, 1.0365, 1.0365],\n",
      "          [0.6705, 0.6879, 0.6879,  ..., 1.0365, 1.0365, 1.0365],\n",
      "          [0.6879, 0.6879, 0.6879,  ..., 1.0365, 1.0365, 1.0365]]],\n",
      "\n",
      "\n",
      "        [[[0.1426, 0.1939, 0.2624,  ..., 0.3652, 0.3652, 0.3652],\n",
      "          [0.1939, 0.2111, 0.2453,  ..., 0.3652, 0.3652, 0.3652],\n",
      "          [0.2282, 0.2111, 0.2282,  ..., 0.3652, 0.3652, 0.3652],\n",
      "          ...,\n",
      "          [0.4851, 0.4851, 0.4851,  ..., 0.5878, 0.6049, 0.6049],\n",
      "          [0.4851, 0.4851, 0.4851,  ..., 0.5707, 0.5878, 0.6049],\n",
      "          [0.4851, 0.4851, 0.4851,  ..., 0.5707, 0.5878, 0.6049]],\n",
      "\n",
      "         [[0.2752, 0.3277, 0.3978,  ..., 0.5028, 0.5028, 0.5028],\n",
      "          [0.3277, 0.3452, 0.3803,  ..., 0.5028, 0.5028, 0.5028],\n",
      "          [0.3627, 0.3452, 0.3627,  ..., 0.5028, 0.5028, 0.5028],\n",
      "          ...,\n",
      "          [0.6254, 0.6254, 0.6254,  ..., 0.7304, 0.7479, 0.7479],\n",
      "          [0.6254, 0.6254, 0.6254,  ..., 0.7129, 0.7304, 0.7479],\n",
      "          [0.6254, 0.6254, 0.6254,  ..., 0.7129, 0.7304, 0.7479]],\n",
      "\n",
      "         [[0.4962, 0.5485, 0.6182,  ..., 0.7228, 0.7228, 0.7228],\n",
      "          [0.5485, 0.5659, 0.6008,  ..., 0.7228, 0.7228, 0.7228],\n",
      "          [0.5834, 0.5659, 0.5834,  ..., 0.7228, 0.7228, 0.7228],\n",
      "          ...,\n",
      "          [0.8448, 0.8448, 0.8448,  ..., 0.9494, 0.9668, 0.9668],\n",
      "          [0.8448, 0.8448, 0.8448,  ..., 0.9319, 0.9494, 0.9668],\n",
      "          [0.8448, 0.8448, 0.8448,  ..., 0.9319, 0.9494, 0.9668]]],\n",
      "\n",
      "\n",
      "        [[[1.1700, 1.1700, 1.1700,  ..., 0.4508, 0.4508, 0.4508],\n",
      "          [1.1529, 1.1529, 1.1529,  ..., 0.4508, 0.4508, 0.4508],\n",
      "          [1.1015, 1.1015, 1.1015,  ..., 0.4508, 0.4508, 0.4508],\n",
      "          ...,\n",
      "          [1.1529, 1.1358, 1.1358,  ..., 0.5536, 0.5536, 0.5536],\n",
      "          [1.1529, 1.1358, 1.1358,  ..., 0.5536, 0.5536, 0.5536],\n",
      "          [1.1529, 1.1358, 1.1358,  ..., 0.5536, 0.5536, 0.5536]],\n",
      "\n",
      "         [[1.3256, 1.3256, 1.3256,  ..., 0.5903, 0.5903, 0.5903],\n",
      "          [1.3081, 1.3081, 1.3081,  ..., 0.5903, 0.5903, 0.5903],\n",
      "          [1.2556, 1.2556, 1.2556,  ..., 0.5903, 0.5903, 0.5903],\n",
      "          ...,\n",
      "          [1.3081, 1.2906, 1.2906,  ..., 0.6954, 0.6954, 0.6954],\n",
      "          [1.3081, 1.2906, 1.2906,  ..., 0.6954, 0.6954, 0.6954],\n",
      "          [1.3081, 1.2906, 1.2906,  ..., 0.6954, 0.6954, 0.6954]],\n",
      "\n",
      "         [[1.5420, 1.5420, 1.5420,  ..., 0.8099, 0.8099, 0.8099],\n",
      "          [1.5245, 1.5245, 1.5245,  ..., 0.8099, 0.8099, 0.8099],\n",
      "          [1.4722, 1.4722, 1.4722,  ..., 0.8099, 0.8099, 0.8099],\n",
      "          ...,\n",
      "          [1.5245, 1.5071, 1.5071,  ..., 0.9145, 0.9145, 0.9145],\n",
      "          [1.5245, 1.5071, 1.5071,  ..., 0.9145, 0.9145, 0.9145],\n",
      "          [1.5245, 1.5071, 1.5071,  ..., 0.9145, 0.9145, 0.9145]]],\n",
      "\n",
      "\n",
      "        [[[0.3823, 0.3823, 0.3823,  ..., 0.6906, 0.6906, 0.6906],\n",
      "          [0.3823, 0.3823, 0.3823,  ..., 0.6906, 0.6906, 0.6906],\n",
      "          [0.3823, 0.3823, 0.3823,  ..., 0.6906, 0.6906, 0.6906],\n",
      "          ...,\n",
      "          [0.8789, 0.8789, 0.8789,  ..., 1.1529, 1.1529, 1.1529],\n",
      "          [0.8789, 0.8789, 0.8789,  ..., 1.1529, 1.1529, 1.1529],\n",
      "          [0.8789, 0.8789, 0.8789,  ..., 1.1529, 1.1529, 1.1529]],\n",
      "\n",
      "         [[0.5203, 0.5203, 0.5203,  ..., 0.8354, 0.8354, 0.8354],\n",
      "          [0.5203, 0.5203, 0.5203,  ..., 0.8354, 0.8354, 0.8354],\n",
      "          [0.5203, 0.5203, 0.5203,  ..., 0.8354, 0.8354, 0.8354],\n",
      "          ...,\n",
      "          [1.0280, 1.0280, 1.0280,  ..., 1.3081, 1.3081, 1.3081],\n",
      "          [1.0280, 1.0280, 1.0280,  ..., 1.3081, 1.3081, 1.3081],\n",
      "          [1.0280, 1.0280, 1.0280,  ..., 1.3081, 1.3081, 1.3081]],\n",
      "\n",
      "         [[0.7402, 0.7402, 0.7402,  ..., 1.0539, 1.0539, 1.0539],\n",
      "          [0.7402, 0.7402, 0.7402,  ..., 1.0539, 1.0539, 1.0539],\n",
      "          [0.7402, 0.7402, 0.7402,  ..., 1.0539, 1.0539, 1.0539],\n",
      "          ...,\n",
      "          [1.2457, 1.2457, 1.2457,  ..., 1.5245, 1.5245, 1.5245],\n",
      "          [1.2457, 1.2457, 1.2457,  ..., 1.5245, 1.5245, 1.5245],\n",
      "          [1.2457, 1.2457, 1.2457,  ..., 1.5245, 1.5245, 1.5245]]]])\n",
      "tensor([0, 0, 0, 0])\n"
     ]
    }
   ],
   "source": [
    "for i, (inputs, labels) in enumerate(image_dataloaders['train']):\n",
    "    print(inputs)\n",
    "    print(labels)\n",
    "    if i == 0:\n",
    "        break"
   ]
  },
  {
   "cell_type": "code",
   "execution_count": 9,
   "metadata": {},
   "outputs": [],
   "source": [
    "from torchvision import datasets, models, transforms\n",
    "\n",
    "model_ft = models.resnet18(pretrained=False)\n"
   ]
  },
  {
   "cell_type": "code",
   "execution_count": 10,
   "metadata": {},
   "outputs": [
    {
     "data": {
      "text/plain": [
       "ResNet(\n",
       "  (conv1): Conv2d(3, 64, kernel_size=(7, 7), stride=(2, 2), padding=(3, 3), bias=False)\n",
       "  (bn1): BatchNorm2d(64, eps=1e-05, momentum=0.1, affine=True, track_running_stats=True)\n",
       "  (relu): ReLU(inplace=True)\n",
       "  (maxpool): MaxPool2d(kernel_size=3, stride=2, padding=1, dilation=1, ceil_mode=False)\n",
       "  (layer1): Sequential(\n",
       "    (0): BasicBlock(\n",
       "      (conv1): Conv2d(64, 64, kernel_size=(3, 3), stride=(1, 1), padding=(1, 1), bias=False)\n",
       "      (bn1): BatchNorm2d(64, eps=1e-05, momentum=0.1, affine=True, track_running_stats=True)\n",
       "      (relu): ReLU(inplace=True)\n",
       "      (conv2): Conv2d(64, 64, kernel_size=(3, 3), stride=(1, 1), padding=(1, 1), bias=False)\n",
       "      (bn2): BatchNorm2d(64, eps=1e-05, momentum=0.1, affine=True, track_running_stats=True)\n",
       "    )\n",
       "    (1): BasicBlock(\n",
       "      (conv1): Conv2d(64, 64, kernel_size=(3, 3), stride=(1, 1), padding=(1, 1), bias=False)\n",
       "      (bn1): BatchNorm2d(64, eps=1e-05, momentum=0.1, affine=True, track_running_stats=True)\n",
       "      (relu): ReLU(inplace=True)\n",
       "      (conv2): Conv2d(64, 64, kernel_size=(3, 3), stride=(1, 1), padding=(1, 1), bias=False)\n",
       "      (bn2): BatchNorm2d(64, eps=1e-05, momentum=0.1, affine=True, track_running_stats=True)\n",
       "    )\n",
       "  )\n",
       "  (layer2): Sequential(\n",
       "    (0): BasicBlock(\n",
       "      (conv1): Conv2d(64, 128, kernel_size=(3, 3), stride=(2, 2), padding=(1, 1), bias=False)\n",
       "      (bn1): BatchNorm2d(128, eps=1e-05, momentum=0.1, affine=True, track_running_stats=True)\n",
       "      (relu): ReLU(inplace=True)\n",
       "      (conv2): Conv2d(128, 128, kernel_size=(3, 3), stride=(1, 1), padding=(1, 1), bias=False)\n",
       "      (bn2): BatchNorm2d(128, eps=1e-05, momentum=0.1, affine=True, track_running_stats=True)\n",
       "      (downsample): Sequential(\n",
       "        (0): Conv2d(64, 128, kernel_size=(1, 1), stride=(2, 2), bias=False)\n",
       "        (1): BatchNorm2d(128, eps=1e-05, momentum=0.1, affine=True, track_running_stats=True)\n",
       "      )\n",
       "    )\n",
       "    (1): BasicBlock(\n",
       "      (conv1): Conv2d(128, 128, kernel_size=(3, 3), stride=(1, 1), padding=(1, 1), bias=False)\n",
       "      (bn1): BatchNorm2d(128, eps=1e-05, momentum=0.1, affine=True, track_running_stats=True)\n",
       "      (relu): ReLU(inplace=True)\n",
       "      (conv2): Conv2d(128, 128, kernel_size=(3, 3), stride=(1, 1), padding=(1, 1), bias=False)\n",
       "      (bn2): BatchNorm2d(128, eps=1e-05, momentum=0.1, affine=True, track_running_stats=True)\n",
       "    )\n",
       "  )\n",
       "  (layer3): Sequential(\n",
       "    (0): BasicBlock(\n",
       "      (conv1): Conv2d(128, 256, kernel_size=(3, 3), stride=(2, 2), padding=(1, 1), bias=False)\n",
       "      (bn1): BatchNorm2d(256, eps=1e-05, momentum=0.1, affine=True, track_running_stats=True)\n",
       "      (relu): ReLU(inplace=True)\n",
       "      (conv2): Conv2d(256, 256, kernel_size=(3, 3), stride=(1, 1), padding=(1, 1), bias=False)\n",
       "      (bn2): BatchNorm2d(256, eps=1e-05, momentum=0.1, affine=True, track_running_stats=True)\n",
       "      (downsample): Sequential(\n",
       "        (0): Conv2d(128, 256, kernel_size=(1, 1), stride=(2, 2), bias=False)\n",
       "        (1): BatchNorm2d(256, eps=1e-05, momentum=0.1, affine=True, track_running_stats=True)\n",
       "      )\n",
       "    )\n",
       "    (1): BasicBlock(\n",
       "      (conv1): Conv2d(256, 256, kernel_size=(3, 3), stride=(1, 1), padding=(1, 1), bias=False)\n",
       "      (bn1): BatchNorm2d(256, eps=1e-05, momentum=0.1, affine=True, track_running_stats=True)\n",
       "      (relu): ReLU(inplace=True)\n",
       "      (conv2): Conv2d(256, 256, kernel_size=(3, 3), stride=(1, 1), padding=(1, 1), bias=False)\n",
       "      (bn2): BatchNorm2d(256, eps=1e-05, momentum=0.1, affine=True, track_running_stats=True)\n",
       "    )\n",
       "  )\n",
       "  (layer4): Sequential(\n",
       "    (0): BasicBlock(\n",
       "      (conv1): Conv2d(256, 512, kernel_size=(3, 3), stride=(2, 2), padding=(1, 1), bias=False)\n",
       "      (bn1): BatchNorm2d(512, eps=1e-05, momentum=0.1, affine=True, track_running_stats=True)\n",
       "      (relu): ReLU(inplace=True)\n",
       "      (conv2): Conv2d(512, 512, kernel_size=(3, 3), stride=(1, 1), padding=(1, 1), bias=False)\n",
       "      (bn2): BatchNorm2d(512, eps=1e-05, momentum=0.1, affine=True, track_running_stats=True)\n",
       "      (downsample): Sequential(\n",
       "        (0): Conv2d(256, 512, kernel_size=(1, 1), stride=(2, 2), bias=False)\n",
       "        (1): BatchNorm2d(512, eps=1e-05, momentum=0.1, affine=True, track_running_stats=True)\n",
       "      )\n",
       "    )\n",
       "    (1): BasicBlock(\n",
       "      (conv1): Conv2d(512, 512, kernel_size=(3, 3), stride=(1, 1), padding=(1, 1), bias=False)\n",
       "      (bn1): BatchNorm2d(512, eps=1e-05, momentum=0.1, affine=True, track_running_stats=True)\n",
       "      (relu): ReLU(inplace=True)\n",
       "      (conv2): Conv2d(512, 512, kernel_size=(3, 3), stride=(1, 1), padding=(1, 1), bias=False)\n",
       "      (bn2): BatchNorm2d(512, eps=1e-05, momentum=0.1, affine=True, track_running_stats=True)\n",
       "    )\n",
       "  )\n",
       "  (avgpool): AdaptiveAvgPool2d(output_size=(1, 1))\n",
       "  (fc): Linear(in_features=512, out_features=1000, bias=True)\n",
       ")"
      ]
     },
     "execution_count": 10,
     "metadata": {},
     "output_type": "execute_result"
    }
   ],
   "source": [
    "model_ft"
   ]
  },
  {
   "cell_type": "code",
   "execution_count": 11,
   "metadata": {},
   "outputs": [],
   "source": [
    "import torch.nn as nn\n",
    "import torch.optim as optim\n",
    "\n",
    "\n",
    "device = 'cpu'\n",
    "TARGET_NUM = 10\n",
    "\n",
    "def get_model(target_num, isPretrained=False):\n",
    "\n",
    "    model_ft = models.resnet18(pretrained=isPretrained)\n",
    "    model_ft.fc = nn.Linear(512, target_num)\n",
    "    model_ft = model_ft.to(device)\n",
    "\n",
    "model = get_model(TARGET_NUM, isPretrained=False)\n"
   ]
  },
  {
   "cell_type": "code",
   "execution_count": 12,
   "metadata": {},
   "outputs": [],
   "source": [
    "optimizer = optim.SGD(model_ft.parameters(), lr=0.001, momentum=0.9)\n",
    "\n",
    "criterion = nn.CrossEntropyLoss()\n"
   ]
  },
  {
   "cell_type": "code",
   "execution_count": 13,
   "metadata": {},
   "outputs": [],
   "source": [
    "def train_model(model, criterion, optimizer, num_epochs=5, is_saved=False):\n",
    "    best_acc = 0.0\n",
    "\n",
    "    for epoch in range(num_epochs):\n",
    "\n",
    "        for phase in ['train', 'val']:\n",
    "            print(\"{}: phase\".format(phase))\n",
    "\n",
    "            if phase == 'train':\n",
    "                model.train()\n",
    "            else:\n",
    "                model.eval()\n",
    "\n",
    "            running_loss = 0.0\n",
    "            running_corrects = 0\n",
    "\n",
    "            for i,(inputs, labels) in enumerate(image_dataloders[phase]):\n",
    "                inputs = inputs.to(DEVICE)\n",
    "                labels = labels.to(DEVICE)\n",
    "\n",
    "                optimizer.zero_grad()\n",
    "\n",
    "                outputs = model(inputs)\n",
    "                _, preds = torch.max(outputs, 1)\n",
    "\n",
    "                loss = criterion(outputs, labels)\n",
    "                print('   loaders:{} kaime'.format(i+1),' loss: {}'.format(loss))\n",
    "\n",
    "                if phase == 'train':\n",
    "                    loss.backward()\n",
    "                    optimizer.step()\n",
    "\n",
    "                running_loss += loss.item() * inputs.size(0)\n",
    "                running_corrects += torch.sum(preds==labels.data)\n",
    "\n",
    "            epoch_loss = running_loss / dataset_sizes[phase]\n",
    "            epoch_acc = running_corrects.double() / dataset_sizes[phase]\n",
    "            print(\"{} Loss: {:.4f} ACC: {:.4f}\".format(phase, epoch_loss, epoch_acc))\n",
    "\n",
    "            if phase == 'val' and epoch_acc > best_acc:\n",
    "                best_acc = epoch_acc\n",
    "                if(is_saved):\n",
    "                    torch.save(model.state_dict(), './original_model_{}.pth'.format(epoch))\n",
    "    print(\"Best val Acc: {:.4f}\".format(best_acc))\n"
   ]
  },
  {
   "cell_type": "code",
   "execution_count": 2,
   "metadata": {},
   "outputs": [],
   "source": [
    "import pandas as pd\n",
    "import os"
   ]
  },
  {
   "cell_type": "code",
   "execution_count": 3,
   "metadata": {},
   "outputs": [],
   "source": [
    "df_test = pd.DataFrame(data=os.listdir('../input/val/'))"
   ]
  },
  {
   "cell_type": "code",
   "execution_count": 4,
   "metadata": {},
   "outputs": [
    {
     "data": {
      "text/html": [
       "<div>\n",
       "<style scoped>\n",
       "    .dataframe tbody tr th:only-of-type {\n",
       "        vertical-align: middle;\n",
       "    }\n",
       "\n",
       "    .dataframe tbody tr th {\n",
       "        vertical-align: top;\n",
       "    }\n",
       "\n",
       "    .dataframe thead th {\n",
       "        text-align: right;\n",
       "    }\n",
       "</style>\n",
       "<table border=\"1\" class=\"dataframe\">\n",
       "  <thead>\n",
       "    <tr style=\"text-align: right;\">\n",
       "      <th></th>\n",
       "      <th>0</th>\n",
       "    </tr>\n",
       "  </thead>\n",
       "  <tbody>\n",
       "    <tr>\n",
       "      <th>0</th>\n",
       "      <td>459909.jpeg</td>\n",
       "    </tr>\n",
       "    <tr>\n",
       "      <th>1</th>\n",
       "      <td>119892.jpeg</td>\n",
       "    </tr>\n",
       "    <tr>\n",
       "      <th>2</th>\n",
       "      <td>419909.jpeg</td>\n",
       "    </tr>\n",
       "    <tr>\n",
       "      <th>3</th>\n",
       "      <td>339986.jpeg</td>\n",
       "    </tr>\n",
       "    <tr>\n",
       "      <th>4</th>\n",
       "      <td>29934.jpeg</td>\n",
       "    </tr>\n",
       "    <tr>\n",
       "      <th>...</th>\n",
       "      <td>...</td>\n",
       "    </tr>\n",
       "    <tr>\n",
       "      <th>95</th>\n",
       "      <td>59918.jpeg</td>\n",
       "    </tr>\n",
       "    <tr>\n",
       "      <th>96</th>\n",
       "      <td>769946.jpeg</td>\n",
       "    </tr>\n",
       "    <tr>\n",
       "      <th>97</th>\n",
       "      <td>279912.jpeg</td>\n",
       "    </tr>\n",
       "    <tr>\n",
       "      <th>98</th>\n",
       "      <td>269945.jpeg</td>\n",
       "    </tr>\n",
       "    <tr>\n",
       "      <th>99</th>\n",
       "      <td>289969.jpeg</td>\n",
       "    </tr>\n",
       "  </tbody>\n",
       "</table>\n",
       "<p>100 rows × 1 columns</p>\n",
       "</div>"
      ],
      "text/plain": [
       "              0\n",
       "0   459909.jpeg\n",
       "1   119892.jpeg\n",
       "2   419909.jpeg\n",
       "3   339986.jpeg\n",
       "4    29934.jpeg\n",
       "..          ...\n",
       "95   59918.jpeg\n",
       "96  769946.jpeg\n",
       "97  279912.jpeg\n",
       "98  269945.jpeg\n",
       "99  289969.jpeg\n",
       "\n",
       "[100 rows x 1 columns]"
      ]
     },
     "execution_count": 4,
     "metadata": {},
     "output_type": "execute_result"
    }
   ],
   "source": [
    "df_test"
   ]
  },
  {
   "cell_type": "code",
   "execution_count": 5,
   "metadata": {},
   "outputs": [],
   "source": [
    "df_test = df_test.rename(columns={0: 'filename'})"
   ]
  },
  {
   "cell_type": "code",
   "execution_count": 7,
   "metadata": {},
   "outputs": [],
   "source": [
    "df_test['target'] = 0"
   ]
  },
  {
   "cell_type": "code",
   "execution_count": 8,
   "metadata": {},
   "outputs": [],
   "source": [
    "df_test.loc[df_test['filename'].str.contains('ok'), 'target'] = 1"
   ]
  },
  {
   "cell_type": "code",
   "execution_count": 9,
   "metadata": {},
   "outputs": [],
   "source": [
    "df_test.to_csv('dd.csv', index=False)"
   ]
  },
  {
   "cell_type": "code",
   "execution_count": null,
   "metadata": {},
   "outputs": [],
   "source": []
  }
 ],
 "metadata": {
  "kernelspec": {
   "display_name": "Python 3",
   "language": "python",
   "name": "python3"
  },
  "language_info": {
   "codemirror_mode": {
    "name": "ipython",
    "version": 3
   },
   "file_extension": ".py",
   "mimetype": "text/x-python",
   "name": "python",
   "nbconvert_exporter": "python",
   "pygments_lexer": "ipython3",
   "version": "3.7.9"
  }
 },
 "nbformat": 4,
 "nbformat_minor": 4
}
