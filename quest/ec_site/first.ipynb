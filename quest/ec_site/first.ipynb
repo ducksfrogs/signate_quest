{
 "cells": [
  {
   "cell_type": "code",
   "execution_count": 1,
   "metadata": {},
   "outputs": [
    {
     "name": "stdout",
     "output_type": "stream",
     "text": [
      "sample_submit.tsv  train_A.tsv\ttrain_B.tsv  train_C.tsv  train_D.tsv\n"
     ]
    }
   ],
   "source": [
    "!ls input/"
   ]
  },
  {
   "cell_type": "code",
   "execution_count": 2,
   "metadata": {},
   "outputs": [],
   "source": [
    "import pandas as pd"
   ]
  },
  {
   "cell_type": "code",
   "execution_count": 3,
   "metadata": {},
   "outputs": [],
   "source": [
    "data = pd.read_csv('input/train_B.tsv', sep='\\t')"
   ]
  },
  {
   "cell_type": "code",
   "execution_count": 4,
   "metadata": {},
   "outputs": [
    {
     "data": {
      "text/plain": [
       "<bound method NDFrame.head of            user_id  product_id  event_type  ad               time_stamp\n",
       "0        0000000_B  00004491_b           1  -1  2017-04-01 03:57:12.488\n",
       "1        0000000_B  00004491_b           1  -1  2017-04-01 10:15:21.492\n",
       "2        0000000_B  00004491_b           1  -1  2017-04-01 03:56:31.945\n",
       "3        0000000_B  00004491_b           1  -1  2017-04-24 03:36:28.216\n",
       "4        0000000_B  00009992_b           1  -1  2017-04-01 10:18:00.540\n",
       "...            ...         ...         ...  ..                      ...\n",
       "1113420  0023498_B  00014942_b           1  -1  2017-04-25 05:38:05.889\n",
       "1113421  0023498_B  00009823_b           1  -1  2017-04-28 00:40:57.531\n",
       "1113422  0023498_B  00004706_b           1  -1  2017-04-28 00:31:15.306\n",
       "1113423  0023498_B  00004706_b           1  -1  2017-04-28 00:25:47.358\n",
       "1113424  0023498_B  00000148_b           1  -1  2017-04-28 00:17:56.048\n",
       "\n",
       "[1113425 rows x 5 columns]>"
      ]
     },
     "execution_count": 4,
     "metadata": {},
     "output_type": "execute_result"
    }
   ],
   "source": [
    "data.head"
   ]
  },
  {
   "cell_type": "code",
   "execution_count": 6,
   "metadata": {},
   "outputs": [
    {
     "data": {
      "text/html": [
       "<div>\n",
       "<style scoped>\n",
       "    .dataframe tbody tr th:only-of-type {\n",
       "        vertical-align: middle;\n",
       "    }\n",
       "\n",
       "    .dataframe tbody tr th {\n",
       "        vertical-align: top;\n",
       "    }\n",
       "\n",
       "    .dataframe thead th {\n",
       "        text-align: right;\n",
       "    }\n",
       "</style>\n",
       "<table border=\"1\" class=\"dataframe\">\n",
       "  <thead>\n",
       "    <tr style=\"text-align: right;\">\n",
       "      <th></th>\n",
       "      <th>user_id</th>\n",
       "      <th>product_id</th>\n",
       "      <th>event_type</th>\n",
       "      <th>ad</th>\n",
       "      <th>time_stamp</th>\n",
       "    </tr>\n",
       "  </thead>\n",
       "  <tbody>\n",
       "    <tr>\n",
       "      <th>0</th>\n",
       "      <td>0000000_B</td>\n",
       "      <td>00004491_b</td>\n",
       "      <td>1</td>\n",
       "      <td>-1</td>\n",
       "      <td>2017-04-01 03:57:12.488</td>\n",
       "    </tr>\n",
       "    <tr>\n",
       "      <th>1</th>\n",
       "      <td>0000000_B</td>\n",
       "      <td>00004491_b</td>\n",
       "      <td>1</td>\n",
       "      <td>-1</td>\n",
       "      <td>2017-04-01 10:15:21.492</td>\n",
       "    </tr>\n",
       "    <tr>\n",
       "      <th>2</th>\n",
       "      <td>0000000_B</td>\n",
       "      <td>00004491_b</td>\n",
       "      <td>1</td>\n",
       "      <td>-1</td>\n",
       "      <td>2017-04-01 03:56:31.945</td>\n",
       "    </tr>\n",
       "    <tr>\n",
       "      <th>3</th>\n",
       "      <td>0000000_B</td>\n",
       "      <td>00004491_b</td>\n",
       "      <td>1</td>\n",
       "      <td>-1</td>\n",
       "      <td>2017-04-24 03:36:28.216</td>\n",
       "    </tr>\n",
       "    <tr>\n",
       "      <th>4</th>\n",
       "      <td>0000000_B</td>\n",
       "      <td>00009992_b</td>\n",
       "      <td>1</td>\n",
       "      <td>-1</td>\n",
       "      <td>2017-04-01 10:18:00.540</td>\n",
       "    </tr>\n",
       "  </tbody>\n",
       "</table>\n",
       "</div>"
      ],
      "text/plain": [
       "     user_id  product_id  event_type  ad               time_stamp\n",
       "0  0000000_B  00004491_b           1  -1  2017-04-01 03:57:12.488\n",
       "1  0000000_B  00004491_b           1  -1  2017-04-01 10:15:21.492\n",
       "2  0000000_B  00004491_b           1  -1  2017-04-01 03:56:31.945\n",
       "3  0000000_B  00004491_b           1  -1  2017-04-24 03:36:28.216\n",
       "4  0000000_B  00009992_b           1  -1  2017-04-01 10:18:00.540"
      ]
     },
     "execution_count": 6,
     "metadata": {},
     "output_type": "execute_result"
    }
   ],
   "source": [
    "data.head()"
   ]
  },
  {
   "cell_type": "code",
   "execution_count": 7,
   "metadata": {},
   "outputs": [
    {
     "data": {
      "text/plain": [
       "user_id       object\n",
       "product_id    object\n",
       "event_type     int64\n",
       "ad             int64\n",
       "time_stamp    object\n",
       "dtype: object"
      ]
     },
     "execution_count": 7,
     "metadata": {},
     "output_type": "execute_result"
    }
   ],
   "source": [
    "data.dtypes"
   ]
  },
  {
   "cell_type": "code",
   "execution_count": 8,
   "metadata": {},
   "outputs": [],
   "source": [
    "ts = pd.to_datetime(data['time_stamp'])\n",
    "\n",
    "Max = max(ts)\n",
    "Min = min(ts)\n"
   ]
  },
  {
   "cell_type": "code",
   "execution_count": 9,
   "metadata": {},
   "outputs": [
    {
     "name": "stdout",
     "output_type": "stream",
     "text": [
      "29 days 23:59:56.287000\n"
     ]
    }
   ],
   "source": [
    "print(Max-Min)"
   ]
  },
  {
   "cell_type": "code",
   "execution_count": 10,
   "metadata": {},
   "outputs": [
    {
     "data": {
      "text/plain": [
       "array(['0000000_B', '0000196_B', '0000306_B', ..., '0010566_B',\n",
       "       '0006446_B', '0023498_B'], dtype=object)"
      ]
     },
     "execution_count": 10,
     "metadata": {},
     "output_type": "execute_result"
    }
   ],
   "source": [
    "users = data['user_id'].unique()\n",
    "users"
   ]
  },
  {
   "cell_type": "code",
   "execution_count": 11,
   "metadata": {},
   "outputs": [
    {
     "data": {
      "text/plain": [
       "23843"
      ]
     },
     "execution_count": 11,
     "metadata": {},
     "output_type": "execute_result"
    }
   ],
   "source": [
    "len(users)"
   ]
  },
  {
   "cell_type": "code",
   "execution_count": 12,
   "metadata": {},
   "outputs": [
    {
     "data": {
      "text/plain": [
       "1    1035637\n",
       "0      52639\n",
       "3      21710\n",
       "2       3439\n",
       "Name: event_type, dtype: int64"
      ]
     },
     "execution_count": 12,
     "metadata": {},
     "output_type": "execute_result"
    }
   ],
   "source": [
    "data['event_type'].value_counts()\n"
   ]
  },
  {
   "cell_type": "code",
   "execution_count": 13,
   "metadata": {},
   "outputs": [],
   "source": [
    "data['time_stamp'] = ts\n"
   ]
  },
  {
   "cell_type": "code",
   "execution_count": 14,
   "metadata": {},
   "outputs": [
    {
     "data": {
      "text/plain": [
       "dtype('<M8[ns]')"
      ]
     },
     "execution_count": 14,
     "metadata": {},
     "output_type": "execute_result"
    }
   ],
   "source": [
    "data['time_stamp'].dtype"
   ]
  },
  {
   "cell_type": "code",
   "execution_count": 15,
   "metadata": {},
   "outputs": [
    {
     "data": {
      "text/plain": [
       "0         2017-04-01 03:57:12.488\n",
       "1         2017-04-01 10:15:21.492\n",
       "2         2017-04-01 03:56:31.945\n",
       "3         2017-04-24 03:36:28.216\n",
       "4         2017-04-01 10:18:00.540\n",
       "                    ...          \n",
       "1113420   2017-04-25 05:38:05.889\n",
       "1113421   2017-04-28 00:40:57.531\n",
       "1113422   2017-04-28 00:31:15.306\n",
       "1113423   2017-04-28 00:25:47.358\n",
       "1113424   2017-04-28 00:17:56.048\n",
       "Name: time_stamp, Length: 1113425, dtype: datetime64[ns]"
      ]
     },
     "execution_count": 15,
     "metadata": {},
     "output_type": "execute_result"
    }
   ],
   "source": [
    "ts"
   ]
  },
  {
   "cell_type": "code",
   "execution_count": null,
   "metadata": {},
   "outputs": [],
   "source": []
  },
  {
   "cell_type": "code",
   "execution_count": 16,
   "metadata": {},
   "outputs": [],
   "source": [
    "data_u = data.groupby('user_id').apply(lambda x: x.sort_values('time_stamp'))"
   ]
  },
  {
   "cell_type": "code",
   "execution_count": 17,
   "metadata": {},
   "outputs": [
    {
     "data": {
      "text/html": [
       "<div>\n",
       "<style scoped>\n",
       "    .dataframe tbody tr th:only-of-type {\n",
       "        vertical-align: middle;\n",
       "    }\n",
       "\n",
       "    .dataframe tbody tr th {\n",
       "        vertical-align: top;\n",
       "    }\n",
       "\n",
       "    .dataframe thead th {\n",
       "        text-align: right;\n",
       "    }\n",
       "</style>\n",
       "<table border=\"1\" class=\"dataframe\">\n",
       "  <thead>\n",
       "    <tr style=\"text-align: right;\">\n",
       "      <th></th>\n",
       "      <th></th>\n",
       "      <th>user_id</th>\n",
       "      <th>product_id</th>\n",
       "      <th>event_type</th>\n",
       "      <th>ad</th>\n",
       "      <th>time_stamp</th>\n",
       "    </tr>\n",
       "    <tr>\n",
       "      <th>user_id</th>\n",
       "      <th></th>\n",
       "      <th></th>\n",
       "      <th></th>\n",
       "      <th></th>\n",
       "      <th></th>\n",
       "      <th></th>\n",
       "    </tr>\n",
       "  </thead>\n",
       "  <tbody>\n",
       "    <tr>\n",
       "      <th rowspan=\"5\" valign=\"top\">0000000_B</th>\n",
       "      <th>28</th>\n",
       "      <td>0000000_B</td>\n",
       "      <td>00013403_b</td>\n",
       "      <td>1</td>\n",
       "      <td>-1</td>\n",
       "      <td>2017-04-01 03:55:17.110</td>\n",
       "    </tr>\n",
       "    <tr>\n",
       "      <th>2</th>\n",
       "      <td>0000000_B</td>\n",
       "      <td>00004491_b</td>\n",
       "      <td>1</td>\n",
       "      <td>-1</td>\n",
       "      <td>2017-04-01 03:56:31.945</td>\n",
       "    </tr>\n",
       "    <tr>\n",
       "      <th>0</th>\n",
       "      <td>0000000_B</td>\n",
       "      <td>00004491_b</td>\n",
       "      <td>1</td>\n",
       "      <td>-1</td>\n",
       "      <td>2017-04-01 03:57:12.488</td>\n",
       "    </tr>\n",
       "    <tr>\n",
       "      <th>12</th>\n",
       "      <td>0000000_B</td>\n",
       "      <td>00011210_b</td>\n",
       "      <td>1</td>\n",
       "      <td>-1</td>\n",
       "      <td>2017-04-01 03:58:26.498</td>\n",
       "    </tr>\n",
       "    <tr>\n",
       "      <th>11</th>\n",
       "      <td>0000000_B</td>\n",
       "      <td>00011210_b</td>\n",
       "      <td>1</td>\n",
       "      <td>-1</td>\n",
       "      <td>2017-04-01 03:59:06.620</td>\n",
       "    </tr>\n",
       "    <tr>\n",
       "      <th>...</th>\n",
       "      <th>...</th>\n",
       "      <td>...</td>\n",
       "      <td>...</td>\n",
       "      <td>...</td>\n",
       "      <td>...</td>\n",
       "      <td>...</td>\n",
       "    </tr>\n",
       "    <tr>\n",
       "      <th rowspan=\"5\" valign=\"top\">0023842_B</th>\n",
       "      <th>663815</th>\n",
       "      <td>0023842_B</td>\n",
       "      <td>00003862_b</td>\n",
       "      <td>1</td>\n",
       "      <td>-1</td>\n",
       "      <td>2017-04-22 10:21:44.053</td>\n",
       "    </tr>\n",
       "    <tr>\n",
       "      <th>663800</th>\n",
       "      <td>0023842_B</td>\n",
       "      <td>00009300_b</td>\n",
       "      <td>1</td>\n",
       "      <td>-1</td>\n",
       "      <td>2017-04-22 10:22:15.865</td>\n",
       "    </tr>\n",
       "    <tr>\n",
       "      <th>663814</th>\n",
       "      <td>0023842_B</td>\n",
       "      <td>00003862_b</td>\n",
       "      <td>1</td>\n",
       "      <td>-1</td>\n",
       "      <td>2017-04-22 10:23:18.563</td>\n",
       "    </tr>\n",
       "    <tr>\n",
       "      <th>663802</th>\n",
       "      <td>0023842_B</td>\n",
       "      <td>00007943_b</td>\n",
       "      <td>1</td>\n",
       "      <td>-1</td>\n",
       "      <td>2017-04-22 10:24:12.534</td>\n",
       "    </tr>\n",
       "    <tr>\n",
       "      <th>663821</th>\n",
       "      <td>0023842_B</td>\n",
       "      <td>00013301_b</td>\n",
       "      <td>1</td>\n",
       "      <td>-1</td>\n",
       "      <td>2017-04-22 10:29:30.122</td>\n",
       "    </tr>\n",
       "  </tbody>\n",
       "</table>\n",
       "<p>1113425 rows × 5 columns</p>\n",
       "</div>"
      ],
      "text/plain": [
       "                    user_id  product_id  event_type  ad  \\\n",
       "user_id                                                   \n",
       "0000000_B 28      0000000_B  00013403_b           1  -1   \n",
       "          2       0000000_B  00004491_b           1  -1   \n",
       "          0       0000000_B  00004491_b           1  -1   \n",
       "          12      0000000_B  00011210_b           1  -1   \n",
       "          11      0000000_B  00011210_b           1  -1   \n",
       "...                     ...         ...         ...  ..   \n",
       "0023842_B 663815  0023842_B  00003862_b           1  -1   \n",
       "          663800  0023842_B  00009300_b           1  -1   \n",
       "          663814  0023842_B  00003862_b           1  -1   \n",
       "          663802  0023842_B  00007943_b           1  -1   \n",
       "          663821  0023842_B  00013301_b           1  -1   \n",
       "\n",
       "                              time_stamp  \n",
       "user_id                                   \n",
       "0000000_B 28     2017-04-01 03:55:17.110  \n",
       "          2      2017-04-01 03:56:31.945  \n",
       "          0      2017-04-01 03:57:12.488  \n",
       "          12     2017-04-01 03:58:26.498  \n",
       "          11     2017-04-01 03:59:06.620  \n",
       "...                                  ...  \n",
       "0023842_B 663815 2017-04-22 10:21:44.053  \n",
       "          663800 2017-04-22 10:22:15.865  \n",
       "          663814 2017-04-22 10:23:18.563  \n",
       "          663802 2017-04-22 10:24:12.534  \n",
       "          663821 2017-04-22 10:29:30.122  \n",
       "\n",
       "[1113425 rows x 5 columns]"
      ]
     },
     "execution_count": 17,
     "metadata": {},
     "output_type": "execute_result"
    }
   ],
   "source": [
    "data_u"
   ]
  },
  {
   "cell_type": "code",
   "execution_count": 20,
   "metadata": {},
   "outputs": [
    {
     "data": {
      "text/html": [
       "<div>\n",
       "<style scoped>\n",
       "    .dataframe tbody tr th:only-of-type {\n",
       "        vertical-align: middle;\n",
       "    }\n",
       "\n",
       "    .dataframe tbody tr th {\n",
       "        vertical-align: top;\n",
       "    }\n",
       "\n",
       "    .dataframe thead th {\n",
       "        text-align: right;\n",
       "    }\n",
       "</style>\n",
       "<table border=\"1\" class=\"dataframe\">\n",
       "  <thead>\n",
       "    <tr style=\"text-align: right;\">\n",
       "      <th></th>\n",
       "      <th>user_id</th>\n",
       "      <th>product_id</th>\n",
       "      <th>event_type</th>\n",
       "      <th>ad</th>\n",
       "      <th>time_stamp</th>\n",
       "    </tr>\n",
       "  </thead>\n",
       "  <tbody>\n",
       "    <tr>\n",
       "      <th>351280</th>\n",
       "      <td>0000010_B</td>\n",
       "      <td>00007375_b</td>\n",
       "      <td>1</td>\n",
       "      <td>-1</td>\n",
       "      <td>2017-04-02 12:18:14.810</td>\n",
       "    </tr>\n",
       "    <tr>\n",
       "      <th>351276</th>\n",
       "      <td>0000010_B</td>\n",
       "      <td>00016319_b</td>\n",
       "      <td>1</td>\n",
       "      <td>-1</td>\n",
       "      <td>2017-04-02 12:22:12.114</td>\n",
       "    </tr>\n",
       "    <tr>\n",
       "      <th>351275</th>\n",
       "      <td>0000010_B</td>\n",
       "      <td>00016319_b</td>\n",
       "      <td>1</td>\n",
       "      <td>-1</td>\n",
       "      <td>2017-04-02 12:22:24.641</td>\n",
       "    </tr>\n",
       "    <tr>\n",
       "      <th>351277</th>\n",
       "      <td>0000010_B</td>\n",
       "      <td>00011168_b</td>\n",
       "      <td>1</td>\n",
       "      <td>-1</td>\n",
       "      <td>2017-04-02 12:25:53.274</td>\n",
       "    </tr>\n",
       "    <tr>\n",
       "      <th>351278</th>\n",
       "      <td>0000010_B</td>\n",
       "      <td>00011599_b</td>\n",
       "      <td>1</td>\n",
       "      <td>-1</td>\n",
       "      <td>2017-04-02 12:30:17.062</td>\n",
       "    </tr>\n",
       "    <tr>\n",
       "      <th>351279</th>\n",
       "      <td>0000010_B</td>\n",
       "      <td>00011599_b</td>\n",
       "      <td>1</td>\n",
       "      <td>-1</td>\n",
       "      <td>2017-04-02 12:31:03.607</td>\n",
       "    </tr>\n",
       "    <tr>\n",
       "      <th>351298</th>\n",
       "      <td>0000010_B</td>\n",
       "      <td>00003683_b</td>\n",
       "      <td>1</td>\n",
       "      <td>-1</td>\n",
       "      <td>2017-04-19 10:58:09.689</td>\n",
       "    </tr>\n",
       "    <tr>\n",
       "      <th>351297</th>\n",
       "      <td>0000010_B</td>\n",
       "      <td>00003683_b</td>\n",
       "      <td>1</td>\n",
       "      <td>-1</td>\n",
       "      <td>2017-04-19 11:00:30.468</td>\n",
       "    </tr>\n",
       "    <tr>\n",
       "      <th>351281</th>\n",
       "      <td>0000010_B</td>\n",
       "      <td>00010114_b</td>\n",
       "      <td>1</td>\n",
       "      <td>-1</td>\n",
       "      <td>2017-04-19 11:05:55.209</td>\n",
       "    </tr>\n",
       "    <tr>\n",
       "      <th>351301</th>\n",
       "      <td>0000010_B</td>\n",
       "      <td>00013685_b</td>\n",
       "      <td>1</td>\n",
       "      <td>-1</td>\n",
       "      <td>2017-04-19 11:11:55.395</td>\n",
       "    </tr>\n",
       "    <tr>\n",
       "      <th>351302</th>\n",
       "      <td>0000010_B</td>\n",
       "      <td>00013685_b</td>\n",
       "      <td>1</td>\n",
       "      <td>-1</td>\n",
       "      <td>2017-04-19 11:14:41.199</td>\n",
       "    </tr>\n",
       "    <tr>\n",
       "      <th>351289</th>\n",
       "      <td>0000010_B</td>\n",
       "      <td>00013635_b</td>\n",
       "      <td>1</td>\n",
       "      <td>-1</td>\n",
       "      <td>2017-04-19 11:16:26.713</td>\n",
       "    </tr>\n",
       "    <tr>\n",
       "      <th>351288</th>\n",
       "      <td>0000010_B</td>\n",
       "      <td>00013635_b</td>\n",
       "      <td>1</td>\n",
       "      <td>-1</td>\n",
       "      <td>2017-04-19 11:17:51.380</td>\n",
       "    </tr>\n",
       "    <tr>\n",
       "      <th>351287</th>\n",
       "      <td>0000010_B</td>\n",
       "      <td>00013635_b</td>\n",
       "      <td>1</td>\n",
       "      <td>-1</td>\n",
       "      <td>2017-04-19 11:18:37.307</td>\n",
       "    </tr>\n",
       "    <tr>\n",
       "      <th>351291</th>\n",
       "      <td>0000010_B</td>\n",
       "      <td>00009248_b</td>\n",
       "      <td>1</td>\n",
       "      <td>-1</td>\n",
       "      <td>2017-04-19 11:20:54.628</td>\n",
       "    </tr>\n",
       "    <tr>\n",
       "      <th>351290</th>\n",
       "      <td>0000010_B</td>\n",
       "      <td>00009248_b</td>\n",
       "      <td>1</td>\n",
       "      <td>-1</td>\n",
       "      <td>2017-04-19 11:23:53.308</td>\n",
       "    </tr>\n",
       "    <tr>\n",
       "      <th>351292</th>\n",
       "      <td>0000010_B</td>\n",
       "      <td>00009248_b</td>\n",
       "      <td>1</td>\n",
       "      <td>-1</td>\n",
       "      <td>2017-04-19 11:24:50.419</td>\n",
       "    </tr>\n",
       "    <tr>\n",
       "      <th>351299</th>\n",
       "      <td>0000010_B</td>\n",
       "      <td>00009153_b</td>\n",
       "      <td>1</td>\n",
       "      <td>-1</td>\n",
       "      <td>2017-04-19 11:30:33.432</td>\n",
       "    </tr>\n",
       "    <tr>\n",
       "      <th>351300</th>\n",
       "      <td>0000010_B</td>\n",
       "      <td>00009153_b</td>\n",
       "      <td>1</td>\n",
       "      <td>-1</td>\n",
       "      <td>2017-04-19 11:31:22.740</td>\n",
       "    </tr>\n",
       "    <tr>\n",
       "      <th>351303</th>\n",
       "      <td>0000010_B</td>\n",
       "      <td>00011060_b</td>\n",
       "      <td>1</td>\n",
       "      <td>-1</td>\n",
       "      <td>2017-04-19 11:41:38.930</td>\n",
       "    </tr>\n",
       "    <tr>\n",
       "      <th>351296</th>\n",
       "      <td>0000010_B</td>\n",
       "      <td>00003227_b</td>\n",
       "      <td>1</td>\n",
       "      <td>-1</td>\n",
       "      <td>2017-04-19 11:45:16.815</td>\n",
       "    </tr>\n",
       "    <tr>\n",
       "      <th>351294</th>\n",
       "      <td>0000010_B</td>\n",
       "      <td>00008693_b</td>\n",
       "      <td>1</td>\n",
       "      <td>-1</td>\n",
       "      <td>2017-04-19 12:11:48.798</td>\n",
       "    </tr>\n",
       "    <tr>\n",
       "      <th>351295</th>\n",
       "      <td>0000010_B</td>\n",
       "      <td>00008693_b</td>\n",
       "      <td>1</td>\n",
       "      <td>-1</td>\n",
       "      <td>2017-04-19 12:12:41.692</td>\n",
       "    </tr>\n",
       "    <tr>\n",
       "      <th>351293</th>\n",
       "      <td>0000010_B</td>\n",
       "      <td>00008693_b</td>\n",
       "      <td>1</td>\n",
       "      <td>-1</td>\n",
       "      <td>2017-04-19 12:14:28.429</td>\n",
       "    </tr>\n",
       "    <tr>\n",
       "      <th>351285</th>\n",
       "      <td>0000010_B</td>\n",
       "      <td>00010114_b</td>\n",
       "      <td>1</td>\n",
       "      <td>-1</td>\n",
       "      <td>2017-04-19 12:17:19.959</td>\n",
       "    </tr>\n",
       "    <tr>\n",
       "      <th>351283</th>\n",
       "      <td>0000010_B</td>\n",
       "      <td>00010114_b</td>\n",
       "      <td>1</td>\n",
       "      <td>-1</td>\n",
       "      <td>2017-04-19 12:17:35.118</td>\n",
       "    </tr>\n",
       "    <tr>\n",
       "      <th>351284</th>\n",
       "      <td>0000010_B</td>\n",
       "      <td>00010114_b</td>\n",
       "      <td>1</td>\n",
       "      <td>-1</td>\n",
       "      <td>2017-04-19 12:19:06.406</td>\n",
       "    </tr>\n",
       "    <tr>\n",
       "      <th>351282</th>\n",
       "      <td>0000010_B</td>\n",
       "      <td>00010114_b</td>\n",
       "      <td>1</td>\n",
       "      <td>-1</td>\n",
       "      <td>2017-04-19 12:19:40.056</td>\n",
       "    </tr>\n",
       "    <tr>\n",
       "      <th>351286</th>\n",
       "      <td>0000010_B</td>\n",
       "      <td>00010114_b</td>\n",
       "      <td>1</td>\n",
       "      <td>-1</td>\n",
       "      <td>2017-04-19 12:19:51.171</td>\n",
       "    </tr>\n",
       "  </tbody>\n",
       "</table>\n",
       "</div>"
      ],
      "text/plain": [
       "          user_id  product_id  event_type  ad              time_stamp\n",
       "351280  0000010_B  00007375_b           1  -1 2017-04-02 12:18:14.810\n",
       "351276  0000010_B  00016319_b           1  -1 2017-04-02 12:22:12.114\n",
       "351275  0000010_B  00016319_b           1  -1 2017-04-02 12:22:24.641\n",
       "351277  0000010_B  00011168_b           1  -1 2017-04-02 12:25:53.274\n",
       "351278  0000010_B  00011599_b           1  -1 2017-04-02 12:30:17.062\n",
       "351279  0000010_B  00011599_b           1  -1 2017-04-02 12:31:03.607\n",
       "351298  0000010_B  00003683_b           1  -1 2017-04-19 10:58:09.689\n",
       "351297  0000010_B  00003683_b           1  -1 2017-04-19 11:00:30.468\n",
       "351281  0000010_B  00010114_b           1  -1 2017-04-19 11:05:55.209\n",
       "351301  0000010_B  00013685_b           1  -1 2017-04-19 11:11:55.395\n",
       "351302  0000010_B  00013685_b           1  -1 2017-04-19 11:14:41.199\n",
       "351289  0000010_B  00013635_b           1  -1 2017-04-19 11:16:26.713\n",
       "351288  0000010_B  00013635_b           1  -1 2017-04-19 11:17:51.380\n",
       "351287  0000010_B  00013635_b           1  -1 2017-04-19 11:18:37.307\n",
       "351291  0000010_B  00009248_b           1  -1 2017-04-19 11:20:54.628\n",
       "351290  0000010_B  00009248_b           1  -1 2017-04-19 11:23:53.308\n",
       "351292  0000010_B  00009248_b           1  -1 2017-04-19 11:24:50.419\n",
       "351299  0000010_B  00009153_b           1  -1 2017-04-19 11:30:33.432\n",
       "351300  0000010_B  00009153_b           1  -1 2017-04-19 11:31:22.740\n",
       "351303  0000010_B  00011060_b           1  -1 2017-04-19 11:41:38.930\n",
       "351296  0000010_B  00003227_b           1  -1 2017-04-19 11:45:16.815\n",
       "351294  0000010_B  00008693_b           1  -1 2017-04-19 12:11:48.798\n",
       "351295  0000010_B  00008693_b           1  -1 2017-04-19 12:12:41.692\n",
       "351293  0000010_B  00008693_b           1  -1 2017-04-19 12:14:28.429\n",
       "351285  0000010_B  00010114_b           1  -1 2017-04-19 12:17:19.959\n",
       "351283  0000010_B  00010114_b           1  -1 2017-04-19 12:17:35.118\n",
       "351284  0000010_B  00010114_b           1  -1 2017-04-19 12:19:06.406\n",
       "351282  0000010_B  00010114_b           1  -1 2017-04-19 12:19:40.056\n",
       "351286  0000010_B  00010114_b           1  -1 2017-04-19 12:19:51.171"
      ]
     },
     "execution_count": 20,
     "metadata": {},
     "output_type": "execute_result"
    }
   ],
   "source": [
    "data_u.loc['0000010_B']"
   ]
  },
  {
   "cell_type": "code",
   "execution_count": 21,
   "metadata": {},
   "outputs": [
    {
     "data": {
      "text/plain": [
       "array(['00007375_b', '00016319_b', '00011168_b', '00011599_b',\n",
       "       '00003683_b', '00010114_b', '00013685_b', '00013635_b',\n",
       "       '00009248_b', '00009153_b', '00011060_b', '00003227_b',\n",
       "       '00008693_b'], dtype=object)"
      ]
     },
     "execution_count": 21,
     "metadata": {},
     "output_type": "execute_result"
    }
   ],
   "source": [
    "data_u.loc['0000010_B']['product_id'].unique()"
   ]
  },
  {
   "cell_type": "code",
   "execution_count": 22,
   "metadata": {},
   "outputs": [
    {
     "data": {
      "text/plain": [
       "16894"
      ]
     },
     "execution_count": 22,
     "metadata": {},
     "output_type": "execute_result"
    }
   ],
   "source": [
    "len(data['product_id'].unique())"
   ]
  },
  {
   "cell_type": "code",
   "execution_count": 23,
   "metadata": {},
   "outputs": [
    {
     "data": {
      "text/plain": [
       "1    29\n",
       "Name: event_type, dtype: int64"
      ]
     },
     "execution_count": 23,
     "metadata": {},
     "output_type": "execute_result"
    }
   ],
   "source": [
    "data_u.loc['0000010_B']['event_type'].value_counts()"
   ]
  },
  {
   "cell_type": "code",
   "execution_count": 24,
   "metadata": {},
   "outputs": [],
   "source": [
    "ymd = data_u.loc['0000010_B']['time_stamp'].unique()"
   ]
  },
  {
   "cell_type": "code",
   "execution_count": 25,
   "metadata": {},
   "outputs": [
    {
     "data": {
      "text/plain": [
       "array(['2017-04-02T12:18:14.810000000', '2017-04-02T12:22:12.114000000',\n",
       "       '2017-04-02T12:22:24.641000000', '2017-04-02T12:25:53.274000000',\n",
       "       '2017-04-02T12:30:17.062000000', '2017-04-02T12:31:03.607000000',\n",
       "       '2017-04-19T10:58:09.689000000', '2017-04-19T11:00:30.468000000',\n",
       "       '2017-04-19T11:05:55.209000000', '2017-04-19T11:11:55.395000000',\n",
       "       '2017-04-19T11:14:41.199000000', '2017-04-19T11:16:26.713000000',\n",
       "       '2017-04-19T11:17:51.380000000', '2017-04-19T11:18:37.307000000',\n",
       "       '2017-04-19T11:20:54.628000000', '2017-04-19T11:23:53.308000000',\n",
       "       '2017-04-19T11:24:50.419000000', '2017-04-19T11:30:33.432000000',\n",
       "       '2017-04-19T11:31:22.740000000', '2017-04-19T11:41:38.930000000',\n",
       "       '2017-04-19T11:45:16.815000000', '2017-04-19T12:11:48.798000000',\n",
       "       '2017-04-19T12:12:41.692000000', '2017-04-19T12:14:28.429000000',\n",
       "       '2017-04-19T12:17:19.959000000', '2017-04-19T12:17:35.118000000',\n",
       "       '2017-04-19T12:19:06.406000000', '2017-04-19T12:19:40.056000000',\n",
       "       '2017-04-19T12:19:51.171000000'], dtype='datetime64[ns]')"
      ]
     },
     "execution_count": 25,
     "metadata": {},
     "output_type": "execute_result"
    }
   ],
   "source": [
    "ymd"
   ]
  },
  {
   "cell_type": "code",
   "execution_count": null,
   "metadata": {},
   "outputs": [],
   "source": []
  },
  {
   "cell_type": "code",
   "execution_count": 31,
   "metadata": {},
   "outputs": [],
   "source": [
    "ymd = data_u.loc['0000010_B']['time_stamp'].apply(lambda x: x.date()).unique()"
   ]
  },
  {
   "cell_type": "code",
   "execution_count": 32,
   "metadata": {},
   "outputs": [
    {
     "data": {
      "text/plain": [
       "array([datetime.date(2017, 4, 2), datetime.date(2017, 4, 19)],\n",
       "      dtype=object)"
      ]
     },
     "execution_count": 32,
     "metadata": {},
     "output_type": "execute_result"
    }
   ],
   "source": [
    "ymd"
   ]
  },
  {
   "cell_type": "code",
   "execution_count": 30,
   "metadata": {},
   "outputs": [
    {
     "data": {
      "text/plain": [
       "351280    2017-04-02\n",
       "351276    2017-04-02\n",
       "351275    2017-04-02\n",
       "351277    2017-04-02\n",
       "351278    2017-04-02\n",
       "351279    2017-04-02\n",
       "351298    2017-04-19\n",
       "351297    2017-04-19\n",
       "351281    2017-04-19\n",
       "351301    2017-04-19\n",
       "351302    2017-04-19\n",
       "351289    2017-04-19\n",
       "351288    2017-04-19\n",
       "351287    2017-04-19\n",
       "351291    2017-04-19\n",
       "351290    2017-04-19\n",
       "351292    2017-04-19\n",
       "351299    2017-04-19\n",
       "351300    2017-04-19\n",
       "351303    2017-04-19\n",
       "351296    2017-04-19\n",
       "351294    2017-04-19\n",
       "351295    2017-04-19\n",
       "351293    2017-04-19\n",
       "351285    2017-04-19\n",
       "351283    2017-04-19\n",
       "351284    2017-04-19\n",
       "351282    2017-04-19\n",
       "351286    2017-04-19\n",
       "Name: time_stamp, dtype: object"
      ]
     },
     "execution_count": 30,
     "metadata": {},
     "output_type": "execute_result"
    }
   ],
   "source": [
    "data_u.loc['0000010_B']['time_stamp'].apply(lambda x: x.date())"
   ]
  },
  {
   "cell_type": "code",
   "execution_count": 35,
   "metadata": {},
   "outputs": [
    {
     "ename": "KeyError",
     "evalue": "'00000010_B'",
     "output_type": "error",
     "traceback": [
      "\u001b[0;31m---------------------------------------------------------------------------\u001b[0m",
      "\u001b[0;31mKeyError\u001b[0m                                  Traceback (most recent call last)",
      "\u001b[0;32m~/.bin/anaconda3/lib/python3.8/site-packages/pandas/core/indexes/base.py\u001b[0m in \u001b[0;36mget_loc\u001b[0;34m(self, key, method, tolerance)\u001b[0m\n\u001b[1;32m   2894\u001b[0m             \u001b[0;32mtry\u001b[0m\u001b[0;34m:\u001b[0m\u001b[0;34m\u001b[0m\u001b[0;34m\u001b[0m\u001b[0m\n\u001b[0;32m-> 2895\u001b[0;31m                 \u001b[0;32mreturn\u001b[0m \u001b[0mself\u001b[0m\u001b[0;34m.\u001b[0m\u001b[0m_engine\u001b[0m\u001b[0;34m.\u001b[0m\u001b[0mget_loc\u001b[0m\u001b[0;34m(\u001b[0m\u001b[0mcasted_key\u001b[0m\u001b[0;34m)\u001b[0m\u001b[0;34m\u001b[0m\u001b[0;34m\u001b[0m\u001b[0m\n\u001b[0m\u001b[1;32m   2896\u001b[0m             \u001b[0;32mexcept\u001b[0m \u001b[0mKeyError\u001b[0m \u001b[0;32mas\u001b[0m \u001b[0merr\u001b[0m\u001b[0;34m:\u001b[0m\u001b[0;34m\u001b[0m\u001b[0;34m\u001b[0m\u001b[0m\n",
      "\u001b[0;32mpandas/_libs/index.pyx\u001b[0m in \u001b[0;36mpandas._libs.index.IndexEngine.get_loc\u001b[0;34m()\u001b[0m\n",
      "\u001b[0;32mpandas/_libs/index.pyx\u001b[0m in \u001b[0;36mpandas._libs.index.IndexEngine.get_loc\u001b[0;34m()\u001b[0m\n",
      "\u001b[0;32mpandas/_libs/hashtable_class_helper.pxi\u001b[0m in \u001b[0;36mpandas._libs.hashtable.PyObjectHashTable.get_item\u001b[0;34m()\u001b[0m\n",
      "\u001b[0;32mpandas/_libs/hashtable_class_helper.pxi\u001b[0m in \u001b[0;36mpandas._libs.hashtable.PyObjectHashTable.get_item\u001b[0;34m()\u001b[0m\n",
      "\u001b[0;31mKeyError\u001b[0m: '00000010_B'",
      "\nThe above exception was the direct cause of the following exception:\n",
      "\u001b[0;31mKeyError\u001b[0m                                  Traceback (most recent call last)",
      "\u001b[0;32m<ipython-input-35-ba98a095c2f8>\u001b[0m in \u001b[0;36m<module>\u001b[0;34m\u001b[0m\n\u001b[0;32m----> 1\u001b[0;31m \u001b[0mdata_u\u001b[0m\u001b[0;34m.\u001b[0m\u001b[0mloc\u001b[0m\u001b[0;34m[\u001b[0m\u001b[0;34m'00000010_B'\u001b[0m\u001b[0;34m]\u001b[0m\u001b[0;34m[\u001b[0m\u001b[0;34m'time_stamp'\u001b[0m\u001b[0;34m]\u001b[0m\u001b[0;34m\u001b[0m\u001b[0;34m\u001b[0m\u001b[0m\n\u001b[0m",
      "\u001b[0;32m~/.bin/anaconda3/lib/python3.8/site-packages/pandas/core/indexing.py\u001b[0m in \u001b[0;36m__getitem__\u001b[0;34m(self, key)\u001b[0m\n\u001b[1;32m    877\u001b[0m \u001b[0;34m\u001b[0m\u001b[0m\n\u001b[1;32m    878\u001b[0m             \u001b[0mmaybe_callable\u001b[0m \u001b[0;34m=\u001b[0m \u001b[0mcom\u001b[0m\u001b[0;34m.\u001b[0m\u001b[0mapply_if_callable\u001b[0m\u001b[0;34m(\u001b[0m\u001b[0mkey\u001b[0m\u001b[0;34m,\u001b[0m \u001b[0mself\u001b[0m\u001b[0;34m.\u001b[0m\u001b[0mobj\u001b[0m\u001b[0;34m)\u001b[0m\u001b[0;34m\u001b[0m\u001b[0;34m\u001b[0m\u001b[0m\n\u001b[0;32m--> 879\u001b[0;31m             \u001b[0;32mreturn\u001b[0m \u001b[0mself\u001b[0m\u001b[0;34m.\u001b[0m\u001b[0m_getitem_axis\u001b[0m\u001b[0;34m(\u001b[0m\u001b[0mmaybe_callable\u001b[0m\u001b[0;34m,\u001b[0m \u001b[0maxis\u001b[0m\u001b[0;34m=\u001b[0m\u001b[0maxis\u001b[0m\u001b[0;34m)\u001b[0m\u001b[0;34m\u001b[0m\u001b[0;34m\u001b[0m\u001b[0m\n\u001b[0m\u001b[1;32m    880\u001b[0m \u001b[0;34m\u001b[0m\u001b[0m\n\u001b[1;32m    881\u001b[0m     \u001b[0;32mdef\u001b[0m \u001b[0m_is_scalar_access\u001b[0m\u001b[0;34m(\u001b[0m\u001b[0mself\u001b[0m\u001b[0;34m,\u001b[0m \u001b[0mkey\u001b[0m\u001b[0;34m:\u001b[0m \u001b[0mTuple\u001b[0m\u001b[0;34m)\u001b[0m\u001b[0;34m:\u001b[0m\u001b[0;34m\u001b[0m\u001b[0;34m\u001b[0m\u001b[0m\n",
      "\u001b[0;32m~/.bin/anaconda3/lib/python3.8/site-packages/pandas/core/indexing.py\u001b[0m in \u001b[0;36m_getitem_axis\u001b[0;34m(self, key, axis)\u001b[0m\n\u001b[1;32m   1108\u001b[0m         \u001b[0;31m# fall thru to straight lookup\u001b[0m\u001b[0;34m\u001b[0m\u001b[0;34m\u001b[0m\u001b[0;34m\u001b[0m\u001b[0m\n\u001b[1;32m   1109\u001b[0m         \u001b[0mself\u001b[0m\u001b[0;34m.\u001b[0m\u001b[0m_validate_key\u001b[0m\u001b[0;34m(\u001b[0m\u001b[0mkey\u001b[0m\u001b[0;34m,\u001b[0m \u001b[0maxis\u001b[0m\u001b[0;34m)\u001b[0m\u001b[0;34m\u001b[0m\u001b[0;34m\u001b[0m\u001b[0m\n\u001b[0;32m-> 1110\u001b[0;31m         \u001b[0;32mreturn\u001b[0m \u001b[0mself\u001b[0m\u001b[0;34m.\u001b[0m\u001b[0m_get_label\u001b[0m\u001b[0;34m(\u001b[0m\u001b[0mkey\u001b[0m\u001b[0;34m,\u001b[0m \u001b[0maxis\u001b[0m\u001b[0;34m=\u001b[0m\u001b[0maxis\u001b[0m\u001b[0;34m)\u001b[0m\u001b[0;34m\u001b[0m\u001b[0;34m\u001b[0m\u001b[0m\n\u001b[0m\u001b[1;32m   1111\u001b[0m \u001b[0;34m\u001b[0m\u001b[0m\n\u001b[1;32m   1112\u001b[0m     \u001b[0;32mdef\u001b[0m \u001b[0m_get_slice_axis\u001b[0m\u001b[0;34m(\u001b[0m\u001b[0mself\u001b[0m\u001b[0;34m,\u001b[0m \u001b[0mslice_obj\u001b[0m\u001b[0;34m:\u001b[0m \u001b[0mslice\u001b[0m\u001b[0;34m,\u001b[0m \u001b[0maxis\u001b[0m\u001b[0;34m:\u001b[0m \u001b[0mint\u001b[0m\u001b[0;34m)\u001b[0m\u001b[0;34m:\u001b[0m\u001b[0;34m\u001b[0m\u001b[0;34m\u001b[0m\u001b[0m\n",
      "\u001b[0;32m~/.bin/anaconda3/lib/python3.8/site-packages/pandas/core/indexing.py\u001b[0m in \u001b[0;36m_get_label\u001b[0;34m(self, label, axis)\u001b[0m\n\u001b[1;32m   1057\u001b[0m     \u001b[0;32mdef\u001b[0m \u001b[0m_get_label\u001b[0m\u001b[0;34m(\u001b[0m\u001b[0mself\u001b[0m\u001b[0;34m,\u001b[0m \u001b[0mlabel\u001b[0m\u001b[0;34m,\u001b[0m \u001b[0maxis\u001b[0m\u001b[0;34m:\u001b[0m \u001b[0mint\u001b[0m\u001b[0;34m)\u001b[0m\u001b[0;34m:\u001b[0m\u001b[0;34m\u001b[0m\u001b[0;34m\u001b[0m\u001b[0m\n\u001b[1;32m   1058\u001b[0m         \u001b[0;31m# GH#5667 this will fail if the label is not present in the axis.\u001b[0m\u001b[0;34m\u001b[0m\u001b[0;34m\u001b[0m\u001b[0;34m\u001b[0m\u001b[0m\n\u001b[0;32m-> 1059\u001b[0;31m         \u001b[0;32mreturn\u001b[0m \u001b[0mself\u001b[0m\u001b[0;34m.\u001b[0m\u001b[0mobj\u001b[0m\u001b[0;34m.\u001b[0m\u001b[0mxs\u001b[0m\u001b[0;34m(\u001b[0m\u001b[0mlabel\u001b[0m\u001b[0;34m,\u001b[0m \u001b[0maxis\u001b[0m\u001b[0;34m=\u001b[0m\u001b[0maxis\u001b[0m\u001b[0;34m)\u001b[0m\u001b[0;34m\u001b[0m\u001b[0;34m\u001b[0m\u001b[0m\n\u001b[0m\u001b[1;32m   1060\u001b[0m \u001b[0;34m\u001b[0m\u001b[0m\n\u001b[1;32m   1061\u001b[0m     \u001b[0;32mdef\u001b[0m \u001b[0m_handle_lowerdim_multi_index_axis0\u001b[0m\u001b[0;34m(\u001b[0m\u001b[0mself\u001b[0m\u001b[0;34m,\u001b[0m \u001b[0mtup\u001b[0m\u001b[0;34m:\u001b[0m \u001b[0mTuple\u001b[0m\u001b[0;34m)\u001b[0m\u001b[0;34m:\u001b[0m\u001b[0;34m\u001b[0m\u001b[0;34m\u001b[0m\u001b[0m\n",
      "\u001b[0;32m~/.bin/anaconda3/lib/python3.8/site-packages/pandas/core/generic.py\u001b[0m in \u001b[0;36mxs\u001b[0;34m(self, key, axis, level, drop_level)\u001b[0m\n\u001b[1;32m   3487\u001b[0m         \u001b[0mindex\u001b[0m \u001b[0;34m=\u001b[0m \u001b[0mself\u001b[0m\u001b[0;34m.\u001b[0m\u001b[0mindex\u001b[0m\u001b[0;34m\u001b[0m\u001b[0;34m\u001b[0m\u001b[0m\n\u001b[1;32m   3488\u001b[0m         \u001b[0;32mif\u001b[0m \u001b[0misinstance\u001b[0m\u001b[0;34m(\u001b[0m\u001b[0mindex\u001b[0m\u001b[0;34m,\u001b[0m \u001b[0mMultiIndex\u001b[0m\u001b[0;34m)\u001b[0m\u001b[0;34m:\u001b[0m\u001b[0;34m\u001b[0m\u001b[0;34m\u001b[0m\u001b[0m\n\u001b[0;32m-> 3489\u001b[0;31m             \u001b[0mloc\u001b[0m\u001b[0;34m,\u001b[0m \u001b[0mnew_index\u001b[0m \u001b[0;34m=\u001b[0m \u001b[0mself\u001b[0m\u001b[0;34m.\u001b[0m\u001b[0mindex\u001b[0m\u001b[0;34m.\u001b[0m\u001b[0mget_loc_level\u001b[0m\u001b[0;34m(\u001b[0m\u001b[0mkey\u001b[0m\u001b[0;34m,\u001b[0m \u001b[0mdrop_level\u001b[0m\u001b[0;34m=\u001b[0m\u001b[0mdrop_level\u001b[0m\u001b[0;34m)\u001b[0m\u001b[0;34m\u001b[0m\u001b[0;34m\u001b[0m\u001b[0m\n\u001b[0m\u001b[1;32m   3490\u001b[0m         \u001b[0;32melse\u001b[0m\u001b[0;34m:\u001b[0m\u001b[0;34m\u001b[0m\u001b[0;34m\u001b[0m\u001b[0m\n\u001b[1;32m   3491\u001b[0m             \u001b[0mloc\u001b[0m \u001b[0;34m=\u001b[0m \u001b[0mself\u001b[0m\u001b[0;34m.\u001b[0m\u001b[0mindex\u001b[0m\u001b[0;34m.\u001b[0m\u001b[0mget_loc\u001b[0m\u001b[0;34m(\u001b[0m\u001b[0mkey\u001b[0m\u001b[0;34m)\u001b[0m\u001b[0;34m\u001b[0m\u001b[0;34m\u001b[0m\u001b[0m\n",
      "\u001b[0;32m~/.bin/anaconda3/lib/python3.8/site-packages/pandas/core/indexes/multi.py\u001b[0m in \u001b[0;36mget_loc_level\u001b[0;34m(self, key, level, drop_level)\u001b[0m\n\u001b[1;32m   2880\u001b[0m                 \u001b[0;32mreturn\u001b[0m \u001b[0mindexer\u001b[0m\u001b[0;34m,\u001b[0m \u001b[0mmaybe_mi_droplevels\u001b[0m\u001b[0;34m(\u001b[0m\u001b[0mindexer\u001b[0m\u001b[0;34m,\u001b[0m \u001b[0milevels\u001b[0m\u001b[0;34m,\u001b[0m \u001b[0mdrop_level\u001b[0m\u001b[0;34m)\u001b[0m\u001b[0;34m\u001b[0m\u001b[0;34m\u001b[0m\u001b[0m\n\u001b[1;32m   2881\u001b[0m         \u001b[0;32melse\u001b[0m\u001b[0;34m:\u001b[0m\u001b[0;34m\u001b[0m\u001b[0;34m\u001b[0m\u001b[0m\n\u001b[0;32m-> 2882\u001b[0;31m             \u001b[0mindexer\u001b[0m \u001b[0;34m=\u001b[0m \u001b[0mself\u001b[0m\u001b[0;34m.\u001b[0m\u001b[0m_get_level_indexer\u001b[0m\u001b[0;34m(\u001b[0m\u001b[0mkey\u001b[0m\u001b[0;34m,\u001b[0m \u001b[0mlevel\u001b[0m\u001b[0;34m=\u001b[0m\u001b[0mlevel\u001b[0m\u001b[0;34m)\u001b[0m\u001b[0;34m\u001b[0m\u001b[0;34m\u001b[0m\u001b[0m\n\u001b[0m\u001b[1;32m   2883\u001b[0m             \u001b[0;32mreturn\u001b[0m \u001b[0mindexer\u001b[0m\u001b[0;34m,\u001b[0m \u001b[0mmaybe_mi_droplevels\u001b[0m\u001b[0;34m(\u001b[0m\u001b[0mindexer\u001b[0m\u001b[0;34m,\u001b[0m \u001b[0;34m[\u001b[0m\u001b[0mlevel\u001b[0m\u001b[0;34m]\u001b[0m\u001b[0;34m,\u001b[0m \u001b[0mdrop_level\u001b[0m\u001b[0;34m)\u001b[0m\u001b[0;34m\u001b[0m\u001b[0;34m\u001b[0m\u001b[0m\n\u001b[1;32m   2884\u001b[0m \u001b[0;34m\u001b[0m\u001b[0m\n",
      "\u001b[0;32m~/.bin/anaconda3/lib/python3.8/site-packages/pandas/core/indexes/multi.py\u001b[0m in \u001b[0;36m_get_level_indexer\u001b[0;34m(self, key, level, indexer)\u001b[0m\n\u001b[1;32m   2964\u001b[0m         \u001b[0;32melse\u001b[0m\u001b[0;34m:\u001b[0m\u001b[0;34m\u001b[0m\u001b[0;34m\u001b[0m\u001b[0m\n\u001b[1;32m   2965\u001b[0m \u001b[0;34m\u001b[0m\u001b[0m\n\u001b[0;32m-> 2966\u001b[0;31m             \u001b[0mcode\u001b[0m \u001b[0;34m=\u001b[0m \u001b[0mself\u001b[0m\u001b[0;34m.\u001b[0m\u001b[0m_get_loc_single_level_index\u001b[0m\u001b[0;34m(\u001b[0m\u001b[0mlevel_index\u001b[0m\u001b[0;34m,\u001b[0m \u001b[0mkey\u001b[0m\u001b[0;34m)\u001b[0m\u001b[0;34m\u001b[0m\u001b[0;34m\u001b[0m\u001b[0m\n\u001b[0m\u001b[1;32m   2967\u001b[0m \u001b[0;34m\u001b[0m\u001b[0m\n\u001b[1;32m   2968\u001b[0m             \u001b[0;32mif\u001b[0m \u001b[0mlevel\u001b[0m \u001b[0;34m>\u001b[0m \u001b[0;36m0\u001b[0m \u001b[0;32mor\u001b[0m \u001b[0mself\u001b[0m\u001b[0;34m.\u001b[0m\u001b[0mlexsort_depth\u001b[0m \u001b[0;34m==\u001b[0m \u001b[0;36m0\u001b[0m\u001b[0;34m:\u001b[0m\u001b[0;34m\u001b[0m\u001b[0;34m\u001b[0m\u001b[0m\n",
      "\u001b[0;32m~/.bin/anaconda3/lib/python3.8/site-packages/pandas/core/indexes/multi.py\u001b[0m in \u001b[0;36m_get_loc_single_level_index\u001b[0;34m(self, level_index, key)\u001b[0m\n\u001b[1;32m   2632\u001b[0m             \u001b[0;32mreturn\u001b[0m \u001b[0;34m-\u001b[0m\u001b[0;36m1\u001b[0m\u001b[0;34m\u001b[0m\u001b[0;34m\u001b[0m\u001b[0m\n\u001b[1;32m   2633\u001b[0m         \u001b[0;32melse\u001b[0m\u001b[0;34m:\u001b[0m\u001b[0;34m\u001b[0m\u001b[0;34m\u001b[0m\u001b[0m\n\u001b[0;32m-> 2634\u001b[0;31m             \u001b[0;32mreturn\u001b[0m \u001b[0mlevel_index\u001b[0m\u001b[0;34m.\u001b[0m\u001b[0mget_loc\u001b[0m\u001b[0;34m(\u001b[0m\u001b[0mkey\u001b[0m\u001b[0;34m)\u001b[0m\u001b[0;34m\u001b[0m\u001b[0;34m\u001b[0m\u001b[0m\n\u001b[0m\u001b[1;32m   2635\u001b[0m \u001b[0;34m\u001b[0m\u001b[0m\n\u001b[1;32m   2636\u001b[0m     \u001b[0;32mdef\u001b[0m \u001b[0mget_loc\u001b[0m\u001b[0;34m(\u001b[0m\u001b[0mself\u001b[0m\u001b[0;34m,\u001b[0m \u001b[0mkey\u001b[0m\u001b[0;34m,\u001b[0m \u001b[0mmethod\u001b[0m\u001b[0;34m=\u001b[0m\u001b[0;32mNone\u001b[0m\u001b[0;34m)\u001b[0m\u001b[0;34m:\u001b[0m\u001b[0;34m\u001b[0m\u001b[0;34m\u001b[0m\u001b[0m\n",
      "\u001b[0;32m~/.bin/anaconda3/lib/python3.8/site-packages/pandas/core/indexes/base.py\u001b[0m in \u001b[0;36mget_loc\u001b[0;34m(self, key, method, tolerance)\u001b[0m\n\u001b[1;32m   2895\u001b[0m                 \u001b[0;32mreturn\u001b[0m \u001b[0mself\u001b[0m\u001b[0;34m.\u001b[0m\u001b[0m_engine\u001b[0m\u001b[0;34m.\u001b[0m\u001b[0mget_loc\u001b[0m\u001b[0;34m(\u001b[0m\u001b[0mcasted_key\u001b[0m\u001b[0;34m)\u001b[0m\u001b[0;34m\u001b[0m\u001b[0;34m\u001b[0m\u001b[0m\n\u001b[1;32m   2896\u001b[0m             \u001b[0;32mexcept\u001b[0m \u001b[0mKeyError\u001b[0m \u001b[0;32mas\u001b[0m \u001b[0merr\u001b[0m\u001b[0;34m:\u001b[0m\u001b[0;34m\u001b[0m\u001b[0;34m\u001b[0m\u001b[0m\n\u001b[0;32m-> 2897\u001b[0;31m                 \u001b[0;32mraise\u001b[0m \u001b[0mKeyError\u001b[0m\u001b[0;34m(\u001b[0m\u001b[0mkey\u001b[0m\u001b[0;34m)\u001b[0m \u001b[0;32mfrom\u001b[0m \u001b[0merr\u001b[0m\u001b[0;34m\u001b[0m\u001b[0;34m\u001b[0m\u001b[0m\n\u001b[0m\u001b[1;32m   2898\u001b[0m \u001b[0;34m\u001b[0m\u001b[0m\n\u001b[1;32m   2899\u001b[0m         \u001b[0;32mif\u001b[0m \u001b[0mtolerance\u001b[0m \u001b[0;32mis\u001b[0m \u001b[0;32mnot\u001b[0m \u001b[0;32mNone\u001b[0m\u001b[0;34m:\u001b[0m\u001b[0;34m\u001b[0m\u001b[0;34m\u001b[0m\u001b[0m\n",
      "\u001b[0;31mKeyError\u001b[0m: '00000010_B'"
     ]
    }
   ],
   "source": [
    "data_u.loc['00000010_B']['time_stamp']"
   ]
  },
  {
   "cell_type": "code",
   "execution_count": null,
   "metadata": {},
   "outputs": [],
   "source": []
  }
 ],
 "metadata": {
  "kernelspec": {
   "display_name": "Python 3",
   "language": "python",
   "name": "python3"
  },
  "language_info": {
   "codemirror_mode": {
    "name": "ipython",
    "version": 3
   },
   "file_extension": ".py",
   "mimetype": "text/x-python",
   "name": "python",
   "nbconvert_exporter": "python",
   "pygments_lexer": "ipython3",
   "version": "3.8.5"
  }
 },
 "nbformat": 4,
 "nbformat_minor": 4
}
