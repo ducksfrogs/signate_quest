{
 "cells": [
  {
   "cell_type": "code",
   "execution_count": 1,
   "metadata": {},
   "outputs": [],
   "source": [
    "import pandas as pd\n",
    "\n",
    "train = pd.read_csv('../input/train.csv')\n",
    "train_add =pd.read_csv('../input/train_add.csv')\n",
    "condition = pd.read_csv('../input/condition.csv')\n",
    "stadium = pd.read_csv('../input/stadium.csv')\n",
    "add2014 = pd.read_csv('../input/2014_add.csv')\n"
   ]
  },
  {
   "cell_type": "code",
   "execution_count": 2,
   "metadata": {},
   "outputs": [
    {
     "data": {
      "text/html": [
       "<div>\n",
       "<style scoped>\n",
       "    .dataframe tbody tr th:only-of-type {\n",
       "        vertical-align: middle;\n",
       "    }\n",
       "\n",
       "    .dataframe tbody tr th {\n",
       "        vertical-align: top;\n",
       "    }\n",
       "\n",
       "    .dataframe thead th {\n",
       "        text-align: right;\n",
       "    }\n",
       "</style>\n",
       "<table border=\"1\" class=\"dataframe\">\n",
       "  <thead>\n",
       "    <tr style=\"text-align: right;\">\n",
       "      <th></th>\n",
       "      <th>id</th>\n",
       "      <th>y</th>\n",
       "      <th>year</th>\n",
       "      <th>stage</th>\n",
       "      <th>match</th>\n",
       "      <th>gameday</th>\n",
       "      <th>time</th>\n",
       "      <th>home</th>\n",
       "      <th>away</th>\n",
       "      <th>stadium</th>\n",
       "      <th>tv</th>\n",
       "    </tr>\n",
       "  </thead>\n",
       "  <tbody>\n",
       "    <tr>\n",
       "      <th>0</th>\n",
       "      <td>13994</td>\n",
       "      <td>18250</td>\n",
       "      <td>2012</td>\n",
       "      <td>Ｊ１</td>\n",
       "      <td>第１節第１日</td>\n",
       "      <td>03/10(土)</td>\n",
       "      <td>14:04</td>\n",
       "      <td>ベガルタ仙台</td>\n",
       "      <td>鹿島アントラーズ</td>\n",
       "      <td>ユアテックスタジアム仙台</td>\n",
       "      <td>スカパー／ｅ２／スカパー光／ＮＨＫ総合</td>\n",
       "    </tr>\n",
       "    <tr>\n",
       "      <th>1</th>\n",
       "      <td>13995</td>\n",
       "      <td>24316</td>\n",
       "      <td>2012</td>\n",
       "      <td>Ｊ１</td>\n",
       "      <td>第１節第１日</td>\n",
       "      <td>03/10(土)</td>\n",
       "      <td>14:04</td>\n",
       "      <td>名古屋グランパス</td>\n",
       "      <td>清水エスパルス</td>\n",
       "      <td>豊田スタジアム</td>\n",
       "      <td>スカパー／ｅ２／スカパー光（Ｊ　ＳＰＯＲＴＳ　４）／ＮＨＫ名古屋</td>\n",
       "    </tr>\n",
       "    <tr>\n",
       "      <th>2</th>\n",
       "      <td>13996</td>\n",
       "      <td>17066</td>\n",
       "      <td>2012</td>\n",
       "      <td>Ｊ１</td>\n",
       "      <td>第１節第１日</td>\n",
       "      <td>03/10(土)</td>\n",
       "      <td>14:04</td>\n",
       "      <td>ガンバ大阪</td>\n",
       "      <td>ヴィッセル神戸</td>\n",
       "      <td>万博記念競技場</td>\n",
       "      <td>スカパー／ｅ２／スカパー光（Ｊ　ＳＰＯＲＴＳ　１）／ＮＨＫ大阪</td>\n",
       "    </tr>\n",
       "    <tr>\n",
       "      <th>3</th>\n",
       "      <td>13997</td>\n",
       "      <td>29603</td>\n",
       "      <td>2012</td>\n",
       "      <td>Ｊ１</td>\n",
       "      <td>第１節第１日</td>\n",
       "      <td>03/10(土)</td>\n",
       "      <td>14:06</td>\n",
       "      <td>サンフレッチェ広島</td>\n",
       "      <td>浦和レッズ</td>\n",
       "      <td>エディオンスタジアム広島</td>\n",
       "      <td>スカパー／ｅ２／スカパー光／ＮＨＫ広島</td>\n",
       "    </tr>\n",
       "    <tr>\n",
       "      <th>4</th>\n",
       "      <td>13998</td>\n",
       "      <td>25353</td>\n",
       "      <td>2012</td>\n",
       "      <td>Ｊ１</td>\n",
       "      <td>第１節第１日</td>\n",
       "      <td>03/10(土)</td>\n",
       "      <td>14:04</td>\n",
       "      <td>コンサドーレ札幌</td>\n",
       "      <td>ジュビロ磐田</td>\n",
       "      <td>札幌ドーム</td>\n",
       "      <td>スカパー／ｅ２／スカパー光（スカイ・Ａ　ｓｐｏｒｔｓ＋）／ＮＨＫ札幌</td>\n",
       "    </tr>\n",
       "  </tbody>\n",
       "</table>\n",
       "</div>"
      ],
      "text/plain": [
       "      id      y  year stage   match   gameday   time       home      away  \\\n",
       "0  13994  18250  2012    Ｊ１  第１節第１日  03/10(土)  14:04     ベガルタ仙台  鹿島アントラーズ   \n",
       "1  13995  24316  2012    Ｊ１  第１節第１日  03/10(土)  14:04   名古屋グランパス   清水エスパルス   \n",
       "2  13996  17066  2012    Ｊ１  第１節第１日  03/10(土)  14:04      ガンバ大阪   ヴィッセル神戸   \n",
       "3  13997  29603  2012    Ｊ１  第１節第１日  03/10(土)  14:06  サンフレッチェ広島     浦和レッズ   \n",
       "4  13998  25353  2012    Ｊ１  第１節第１日  03/10(土)  14:04   コンサドーレ札幌    ジュビロ磐田   \n",
       "\n",
       "        stadium                                  tv  \n",
       "0  ユアテックスタジアム仙台                 スカパー／ｅ２／スカパー光／ＮＨＫ総合  \n",
       "1       豊田スタジアム    スカパー／ｅ２／スカパー光（Ｊ　ＳＰＯＲＴＳ　４）／ＮＨＫ名古屋  \n",
       "2       万博記念競技場     スカパー／ｅ２／スカパー光（Ｊ　ＳＰＯＲＴＳ　１）／ＮＨＫ大阪  \n",
       "3  エディオンスタジアム広島                 スカパー／ｅ２／スカパー光／ＮＨＫ広島  \n",
       "4         札幌ドーム  スカパー／ｅ２／スカパー光（スカイ・Ａ　ｓｐｏｒｔｓ＋）／ＮＨＫ札幌  "
      ]
     },
     "execution_count": 2,
     "metadata": {},
     "output_type": "execute_result"
    }
   ],
   "source": [
    "train.head()"
   ]
  },
  {
   "cell_type": "code",
   "execution_count": 3,
   "metadata": {},
   "outputs": [
    {
     "data": {
      "text/html": [
       "<div>\n",
       "<style scoped>\n",
       "    .dataframe tbody tr th:only-of-type {\n",
       "        vertical-align: middle;\n",
       "    }\n",
       "\n",
       "    .dataframe tbody tr th {\n",
       "        vertical-align: top;\n",
       "    }\n",
       "\n",
       "    .dataframe thead th {\n",
       "        text-align: right;\n",
       "    }\n",
       "</style>\n",
       "<table border=\"1\" class=\"dataframe\">\n",
       "  <thead>\n",
       "    <tr style=\"text-align: right;\">\n",
       "      <th></th>\n",
       "      <th>id</th>\n",
       "      <th>y</th>\n",
       "      <th>year</th>\n",
       "      <th>stage</th>\n",
       "      <th>match</th>\n",
       "      <th>gameday</th>\n",
       "      <th>time</th>\n",
       "      <th>home</th>\n",
       "      <th>away</th>\n",
       "      <th>stadium</th>\n",
       "      <th>tv</th>\n",
       "    </tr>\n",
       "  </thead>\n",
       "  <tbody>\n",
       "    <tr>\n",
       "      <th>0</th>\n",
       "      <td>14003</td>\n",
       "      <td>19010</td>\n",
       "      <td>2012</td>\n",
       "      <td>Ｊ１</td>\n",
       "      <td>第２節第１日</td>\n",
       "      <td>03/17(土)</td>\n",
       "      <td>14:04</td>\n",
       "      <td>鹿島アントラーズ</td>\n",
       "      <td>川崎フロンターレ</td>\n",
       "      <td>県立カシマサッカースタジアム</td>\n",
       "      <td>スカパー／ｅ２／スカパー光／ＮＨＫ水戸</td>\n",
       "    </tr>\n",
       "    <tr>\n",
       "      <th>1</th>\n",
       "      <td>14020</td>\n",
       "      <td>15072</td>\n",
       "      <td>2012</td>\n",
       "      <td>Ｊ１</td>\n",
       "      <td>第３節第２日</td>\n",
       "      <td>03/25(日)</td>\n",
       "      <td>19:03</td>\n",
       "      <td>ガンバ大阪</td>\n",
       "      <td>ジュビロ磐田</td>\n",
       "      <td>万博記念競技場</td>\n",
       "      <td>スカパー／ｅ２／スカパー光</td>\n",
       "    </tr>\n",
       "    <tr>\n",
       "      <th>2</th>\n",
       "      <td>14023</td>\n",
       "      <td>25743</td>\n",
       "      <td>2012</td>\n",
       "      <td>Ｊ１</td>\n",
       "      <td>第４節第１日</td>\n",
       "      <td>03/31(土)</td>\n",
       "      <td>15:03</td>\n",
       "      <td>浦和レッズ</td>\n",
       "      <td>川崎フロンターレ</td>\n",
       "      <td>埼玉スタジアム２００２</td>\n",
       "      <td>スカパー／ｅ２／スカパー光／テレ玉</td>\n",
       "    </tr>\n",
       "    <tr>\n",
       "      <th>3</th>\n",
       "      <td>14076</td>\n",
       "      <td>24183</td>\n",
       "      <td>2012</td>\n",
       "      <td>Ｊ１</td>\n",
       "      <td>第１０節第１日</td>\n",
       "      <td>05/06(日)</td>\n",
       "      <td>13:03</td>\n",
       "      <td>横浜Ｆ・マリノス</td>\n",
       "      <td>コンサドーレ札幌</td>\n",
       "      <td>日産スタジアム</td>\n",
       "      <td>スカパー／ｅ２／スカパー光</td>\n",
       "    </tr>\n",
       "    <tr>\n",
       "      <th>4</th>\n",
       "      <td>14081</td>\n",
       "      <td>20512</td>\n",
       "      <td>2012</td>\n",
       "      <td>Ｊ１</td>\n",
       "      <td>第１０節第１日</td>\n",
       "      <td>05/06(日)</td>\n",
       "      <td>17:03</td>\n",
       "      <td>名古屋グランパス</td>\n",
       "      <td>川崎フロンターレ</td>\n",
       "      <td>豊田スタジアム</td>\n",
       "      <td>スカパー／ｅ２／スカパー光（Ｊ　ＳＰＯＲＴＳ　４）／名古屋テレビ（録）</td>\n",
       "    </tr>\n",
       "  </tbody>\n",
       "</table>\n",
       "</div>"
      ],
      "text/plain": [
       "      id      y  year stage    match   gameday   time      home      away  \\\n",
       "0  14003  19010  2012    Ｊ１   第２節第１日  03/17(土)  14:04  鹿島アントラーズ  川崎フロンターレ   \n",
       "1  14020  15072  2012    Ｊ１   第３節第２日  03/25(日)  19:03     ガンバ大阪    ジュビロ磐田   \n",
       "2  14023  25743  2012    Ｊ１   第４節第１日  03/31(土)  15:03     浦和レッズ  川崎フロンターレ   \n",
       "3  14076  24183  2012    Ｊ１  第１０節第１日  05/06(日)  13:03  横浜Ｆ・マリノス  コンサドーレ札幌   \n",
       "4  14081  20512  2012    Ｊ１  第１０節第１日  05/06(日)  17:03  名古屋グランパス  川崎フロンターレ   \n",
       "\n",
       "          stadium                                   tv  \n",
       "0  県立カシマサッカースタジアム                  スカパー／ｅ２／スカパー光／ＮＨＫ水戸  \n",
       "1         万博記念競技場                        スカパー／ｅ２／スカパー光  \n",
       "2     埼玉スタジアム２００２                    スカパー／ｅ２／スカパー光／テレ玉  \n",
       "3         日産スタジアム                        スカパー／ｅ２／スカパー光  \n",
       "4         豊田スタジアム  スカパー／ｅ２／スカパー光（Ｊ　ＳＰＯＲＴＳ　４）／名古屋テレビ（録）  "
      ]
     },
     "execution_count": 3,
     "metadata": {},
     "output_type": "execute_result"
    }
   ],
   "source": [
    "train_add.head()"
   ]
  },
  {
   "cell_type": "code",
   "execution_count": 4,
   "metadata": {},
   "outputs": [
    {
     "ename": "AttributeError",
     "evalue": "'Series' object has no attribute 'split'",
     "output_type": "error",
     "traceback": [
      "\u001b[0;31m---------------------------------------------------------------------------\u001b[0m",
      "\u001b[0;31mAttributeError\u001b[0m                            Traceback (most recent call last)",
      "\u001b[0;32m<ipython-input-4-43be368fd203>\u001b[0m in \u001b[0;36m<module>\u001b[0;34m\u001b[0m\n\u001b[0;32m----> 1\u001b[0;31m \u001b[0mtrain\u001b[0m\u001b[0;34m[\u001b[0m\u001b[0;34m'gameday'\u001b[0m\u001b[0;34m]\u001b[0m\u001b[0;34m.\u001b[0m\u001b[0msplit\u001b[0m\u001b[0;34m(\u001b[0m\u001b[0;34m'/'\u001b[0m\u001b[0;34m)\u001b[0m\u001b[0;34m\u001b[0m\u001b[0;34m\u001b[0m\u001b[0m\n\u001b[0m",
      "\u001b[0;32m~/.bin/anaconda3/lib/python3.8/site-packages/pandas/core/generic.py\u001b[0m in \u001b[0;36m__getattr__\u001b[0;34m(self, name)\u001b[0m\n\u001b[1;32m   5137\u001b[0m             \u001b[0;32mif\u001b[0m \u001b[0mself\u001b[0m\u001b[0;34m.\u001b[0m\u001b[0m_info_axis\u001b[0m\u001b[0;34m.\u001b[0m\u001b[0m_can_hold_identifiers_and_holds_name\u001b[0m\u001b[0;34m(\u001b[0m\u001b[0mname\u001b[0m\u001b[0;34m)\u001b[0m\u001b[0;34m:\u001b[0m\u001b[0;34m\u001b[0m\u001b[0;34m\u001b[0m\u001b[0m\n\u001b[1;32m   5138\u001b[0m                 \u001b[0;32mreturn\u001b[0m \u001b[0mself\u001b[0m\u001b[0;34m[\u001b[0m\u001b[0mname\u001b[0m\u001b[0;34m]\u001b[0m\u001b[0;34m\u001b[0m\u001b[0;34m\u001b[0m\u001b[0m\n\u001b[0;32m-> 5139\u001b[0;31m             \u001b[0;32mreturn\u001b[0m \u001b[0mobject\u001b[0m\u001b[0;34m.\u001b[0m\u001b[0m__getattribute__\u001b[0m\u001b[0;34m(\u001b[0m\u001b[0mself\u001b[0m\u001b[0;34m,\u001b[0m \u001b[0mname\u001b[0m\u001b[0;34m)\u001b[0m\u001b[0;34m\u001b[0m\u001b[0;34m\u001b[0m\u001b[0m\n\u001b[0m\u001b[1;32m   5140\u001b[0m \u001b[0;34m\u001b[0m\u001b[0m\n\u001b[1;32m   5141\u001b[0m     \u001b[0;32mdef\u001b[0m \u001b[0m__setattr__\u001b[0m\u001b[0;34m(\u001b[0m\u001b[0mself\u001b[0m\u001b[0;34m,\u001b[0m \u001b[0mname\u001b[0m\u001b[0;34m:\u001b[0m \u001b[0mstr\u001b[0m\u001b[0;34m,\u001b[0m \u001b[0mvalue\u001b[0m\u001b[0;34m)\u001b[0m \u001b[0;34m->\u001b[0m \u001b[0;32mNone\u001b[0m\u001b[0;34m:\u001b[0m\u001b[0;34m\u001b[0m\u001b[0;34m\u001b[0m\u001b[0m\n",
      "\u001b[0;31mAttributeError\u001b[0m: 'Series' object has no attribute 'split'"
     ]
    }
   ],
   "source": [
    "train['gameday'].split('/')"
   ]
  },
  {
   "cell_type": "code",
   "execution_count": 5,
   "metadata": {},
   "outputs": [],
   "source": [
    "a = '02/16'"
   ]
  },
  {
   "cell_type": "code",
   "execution_count": 6,
   "metadata": {},
   "outputs": [
    {
     "data": {
      "text/plain": [
       "'02'"
      ]
     },
     "execution_count": 6,
     "metadata": {},
     "output_type": "execute_result"
    }
   ],
   "source": [
    "a[:2]"
   ]
  },
  {
   "cell_type": "code",
   "execution_count": 18,
   "metadata": {},
   "outputs": [],
   "source": [
    "def get_month(x):\n",
    "    return x[0:2]\n"
   ]
  },
  {
   "cell_type": "code",
   "execution_count": 19,
   "metadata": {},
   "outputs": [
    {
     "data": {
      "text/plain": [
       "'02'"
      ]
     },
     "execution_count": 19,
     "metadata": {},
     "output_type": "execute_result"
    }
   ],
   "source": [
    "get_month(a)"
   ]
  },
  {
   "cell_type": "code",
   "execution_count": 20,
   "metadata": {},
   "outputs": [],
   "source": [
    "train['month'] = train['gameday'].apply(get_month)\n"
   ]
  },
  {
   "cell_type": "code",
   "execution_count": 21,
   "metadata": {},
   "outputs": [
    {
     "data": {
      "text/html": [
       "<div>\n",
       "<style scoped>\n",
       "    .dataframe tbody tr th:only-of-type {\n",
       "        vertical-align: middle;\n",
       "    }\n",
       "\n",
       "    .dataframe tbody tr th {\n",
       "        vertical-align: top;\n",
       "    }\n",
       "\n",
       "    .dataframe thead th {\n",
       "        text-align: right;\n",
       "    }\n",
       "</style>\n",
       "<table border=\"1\" class=\"dataframe\">\n",
       "  <thead>\n",
       "    <tr style=\"text-align: right;\">\n",
       "      <th></th>\n",
       "      <th>id</th>\n",
       "      <th>y</th>\n",
       "      <th>year</th>\n",
       "      <th>stage</th>\n",
       "      <th>match</th>\n",
       "      <th>gameday</th>\n",
       "      <th>time</th>\n",
       "      <th>home</th>\n",
       "      <th>away</th>\n",
       "      <th>stadium</th>\n",
       "      <th>tv</th>\n",
       "      <th>month</th>\n",
       "    </tr>\n",
       "  </thead>\n",
       "  <tbody>\n",
       "    <tr>\n",
       "      <th>0</th>\n",
       "      <td>13994</td>\n",
       "      <td>18250</td>\n",
       "      <td>2012</td>\n",
       "      <td>Ｊ１</td>\n",
       "      <td>第１節第１日</td>\n",
       "      <td>03/10(土)</td>\n",
       "      <td>14:04</td>\n",
       "      <td>ベガルタ仙台</td>\n",
       "      <td>鹿島アントラーズ</td>\n",
       "      <td>ユアテックスタジアム仙台</td>\n",
       "      <td>スカパー／ｅ２／スカパー光／ＮＨＫ総合</td>\n",
       "      <td>03</td>\n",
       "    </tr>\n",
       "    <tr>\n",
       "      <th>1</th>\n",
       "      <td>13995</td>\n",
       "      <td>24316</td>\n",
       "      <td>2012</td>\n",
       "      <td>Ｊ１</td>\n",
       "      <td>第１節第１日</td>\n",
       "      <td>03/10(土)</td>\n",
       "      <td>14:04</td>\n",
       "      <td>名古屋グランパス</td>\n",
       "      <td>清水エスパルス</td>\n",
       "      <td>豊田スタジアム</td>\n",
       "      <td>スカパー／ｅ２／スカパー光（Ｊ　ＳＰＯＲＴＳ　４）／ＮＨＫ名古屋</td>\n",
       "      <td>03</td>\n",
       "    </tr>\n",
       "    <tr>\n",
       "      <th>2</th>\n",
       "      <td>13996</td>\n",
       "      <td>17066</td>\n",
       "      <td>2012</td>\n",
       "      <td>Ｊ１</td>\n",
       "      <td>第１節第１日</td>\n",
       "      <td>03/10(土)</td>\n",
       "      <td>14:04</td>\n",
       "      <td>ガンバ大阪</td>\n",
       "      <td>ヴィッセル神戸</td>\n",
       "      <td>万博記念競技場</td>\n",
       "      <td>スカパー／ｅ２／スカパー光（Ｊ　ＳＰＯＲＴＳ　１）／ＮＨＫ大阪</td>\n",
       "      <td>03</td>\n",
       "    </tr>\n",
       "    <tr>\n",
       "      <th>3</th>\n",
       "      <td>13997</td>\n",
       "      <td>29603</td>\n",
       "      <td>2012</td>\n",
       "      <td>Ｊ１</td>\n",
       "      <td>第１節第１日</td>\n",
       "      <td>03/10(土)</td>\n",
       "      <td>14:06</td>\n",
       "      <td>サンフレッチェ広島</td>\n",
       "      <td>浦和レッズ</td>\n",
       "      <td>エディオンスタジアム広島</td>\n",
       "      <td>スカパー／ｅ２／スカパー光／ＮＨＫ広島</td>\n",
       "      <td>03</td>\n",
       "    </tr>\n",
       "    <tr>\n",
       "      <th>4</th>\n",
       "      <td>13998</td>\n",
       "      <td>25353</td>\n",
       "      <td>2012</td>\n",
       "      <td>Ｊ１</td>\n",
       "      <td>第１節第１日</td>\n",
       "      <td>03/10(土)</td>\n",
       "      <td>14:04</td>\n",
       "      <td>コンサドーレ札幌</td>\n",
       "      <td>ジュビロ磐田</td>\n",
       "      <td>札幌ドーム</td>\n",
       "      <td>スカパー／ｅ２／スカパー光（スカイ・Ａ　ｓｐｏｒｔｓ＋）／ＮＨＫ札幌</td>\n",
       "      <td>03</td>\n",
       "    </tr>\n",
       "  </tbody>\n",
       "</table>\n",
       "</div>"
      ],
      "text/plain": [
       "      id      y  year stage   match   gameday   time       home      away  \\\n",
       "0  13994  18250  2012    Ｊ１  第１節第１日  03/10(土)  14:04     ベガルタ仙台  鹿島アントラーズ   \n",
       "1  13995  24316  2012    Ｊ１  第１節第１日  03/10(土)  14:04   名古屋グランパス   清水エスパルス   \n",
       "2  13996  17066  2012    Ｊ１  第１節第１日  03/10(土)  14:04      ガンバ大阪   ヴィッセル神戸   \n",
       "3  13997  29603  2012    Ｊ１  第１節第１日  03/10(土)  14:06  サンフレッチェ広島     浦和レッズ   \n",
       "4  13998  25353  2012    Ｊ１  第１節第１日  03/10(土)  14:04   コンサドーレ札幌    ジュビロ磐田   \n",
       "\n",
       "        stadium                                  tv month  \n",
       "0  ユアテックスタジアム仙台                 スカパー／ｅ２／スカパー光／ＮＨＫ総合    03  \n",
       "1       豊田スタジアム    スカパー／ｅ２／スカパー光（Ｊ　ＳＰＯＲＴＳ　４）／ＮＨＫ名古屋    03  \n",
       "2       万博記念競技場     スカパー／ｅ２／スカパー光（Ｊ　ＳＰＯＲＴＳ　１）／ＮＨＫ大阪    03  \n",
       "3  エディオンスタジアム広島                 スカパー／ｅ２／スカパー光／ＮＨＫ広島    03  \n",
       "4         札幌ドーム  スカパー／ｅ２／スカパー光（スカイ・Ａ　ｓｐｏｒｔｓ＋）／ＮＨＫ札幌    03  "
      ]
     },
     "execution_count": 21,
     "metadata": {},
     "output_type": "execute_result"
    }
   ],
   "source": [
    "train.head()"
   ]
  },
  {
   "cell_type": "code",
   "execution_count": 22,
   "metadata": {},
   "outputs": [],
   "source": [
    "a = '02/16(d)'"
   ]
  },
  {
   "cell_type": "code",
   "execution_count": 25,
   "metadata": {},
   "outputs": [
    {
     "data": {
      "text/plain": [
       "'d'"
      ]
     },
     "execution_count": 25,
     "metadata": {},
     "output_type": "execute_result"
    }
   ],
   "source": [
    "a[6:7]"
   ]
  },
  {
   "cell_type": "code",
   "execution_count": 26,
   "metadata": {},
   "outputs": [],
   "source": [
    "def get_match(x):\n",
    "    return x[0:4]\n"
   ]
  },
  {
   "cell_type": "code",
   "execution_count": null,
   "metadata": {},
   "outputs": [],
   "source": []
  }
 ],
 "metadata": {
  "kernelspec": {
   "display_name": "Python 3",
   "language": "python",
   "name": "python3"
  },
  "language_info": {
   "codemirror_mode": {
    "name": "ipython",
    "version": 3
   },
   "file_extension": ".py",
   "mimetype": "text/x-python",
   "name": "python",
   "nbconvert_exporter": "python",
   "pygments_lexer": "ipython3",
   "version": "3.8.5"
  }
 },
 "nbformat": 4,
 "nbformat_minor": 4
}
