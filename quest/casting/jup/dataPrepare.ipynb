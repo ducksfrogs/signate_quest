{
 "cells": [
  {
   "cell_type": "code",
   "execution_count": 1,
   "metadata": {},
   "outputs": [],
   "source": [
    "import glob\n",
    "import os\n",
    "import re\n",
    "import shutil\n"
   ]
  },
  {
   "cell_type": "code",
   "execution_count": 2,
   "metadata": {},
   "outputs": [],
   "source": [
    "os.mkdir('./input/train')\n",
    "os.mkdir('./input/val')"
   ]
  },
  {
   "cell_type": "code",
   "execution_count": 3,
   "metadata": {},
   "outputs": [],
   "source": [
    "import zipfile\n",
    "\n",
    "def unzip_dataset(INPATH, OUTPATH):\n",
    "    with zipfile.ZipFile(INPATH) as zf:\n",
    "        zf.extractall(OUTPATH)\n"
   ]
  },
  {
   "cell_type": "code",
   "execution_count": 4,
   "metadata": {},
   "outputs": [],
   "source": [
    "unzip_dataset(INPATH='./input/train_data.zip', OUTPATH='./')"
   ]
  },
  {
   "cell_type": "code",
   "execution_count": 5,
   "metadata": {},
   "outputs": [],
   "source": [
    "unzip_dataset(INPATH='./input/test_data.zip', OUTPATH='./')"
   ]
  },
  {
   "cell_type": "code",
   "execution_count": 10,
   "metadata": {},
   "outputs": [],
   "source": [
    "os.makedirs('./input/train/ok', exist_ok=True)\n",
    "os.makedirs('./input/train/ng', exist_ok=True)"
   ]
  },
  {
   "cell_type": "code",
   "execution_count": 11,
   "metadata": {},
   "outputs": [],
   "source": [
    "os.makedirs('./input/val/on', exist_ok=True)\n",
    "os.makedirs('./input/val/ng', exist_ok=True)"
   ]
  },
  {
   "cell_type": "code",
   "execution_count": null,
   "metadata": {},
   "outputs": [],
   "source": [
    "train_val = ['train', 'val']\n",
    "\n",
    "for i in train_val:\n",
    "    tmp_path = i\n",
    "    data_file = glob.glob()\n",
    "    for img in data_file:\n",
    "        filename = os.path.basename(img)\n",
    "        if 'os' in filename:\n",
    "            dst = os.path.join(ok_path, filename)\n",
    "            shutil.copy2(img, dst)\n",
    "        else:\n",
    "            dst = os.path.join(ng_path, filename)\n",
    "            shutil.copy2(img, dst)\n"
   ]
  },
  {
   "cell_type": "code",
   "execution_count": 13,
   "metadata": {},
   "outputs": [],
   "source": [
    "momo = \"tada\" + ok_path"
   ]
  },
  {
   "cell_type": "code",
   "execution_count": 22,
   "metadata": {},
   "outputs": [],
   "source": [
    "ok_path = \"./ok\"\n",
    "ng_path = \"./ng\""
   ]
  },
  {
   "cell_type": "code",
   "execution_count": 23,
   "metadata": {},
   "outputs": [],
   "source": [
    "train_val = ['train', 'test']"
   ]
  },
  {
   "cell_type": "code",
   "execution_count": 24,
   "metadata": {},
   "outputs": [
    {
     "ename": "FileNotFoundError",
     "evalue": "[Errno 2] No such file or directory: './ng/cast_def_0_203.jpeg'",
     "output_type": "error",
     "traceback": [
      "\u001b[0;31m---------------------------------------------------------------------------\u001b[0m",
      "\u001b[0;31mFileNotFoundError\u001b[0m                         Traceback (most recent call last)",
      "\u001b[0;32m<ipython-input-24-908ef64f47e4>\u001b[0m in \u001b[0;36m<module>\u001b[0;34m\u001b[0m\n\u001b[1;32m      9\u001b[0m         \u001b[0;32melse\u001b[0m\u001b[0;34m:\u001b[0m\u001b[0;34m\u001b[0m\u001b[0;34m\u001b[0m\u001b[0m\n\u001b[1;32m     10\u001b[0m             \u001b[0mdst\u001b[0m \u001b[0;34m=\u001b[0m \u001b[0mos\u001b[0m\u001b[0;34m.\u001b[0m\u001b[0mpath\u001b[0m\u001b[0;34m.\u001b[0m\u001b[0mjoin\u001b[0m\u001b[0;34m(\u001b[0m\u001b[0mng_path\u001b[0m\u001b[0;34m,\u001b[0m \u001b[0mfilename\u001b[0m\u001b[0;34m)\u001b[0m\u001b[0;34m\u001b[0m\u001b[0;34m\u001b[0m\u001b[0m\n\u001b[0;32m---> 11\u001b[0;31m             \u001b[0mshutil\u001b[0m\u001b[0;34m.\u001b[0m\u001b[0mcopy2\u001b[0m\u001b[0;34m(\u001b[0m\u001b[0mimg\u001b[0m\u001b[0;34m,\u001b[0m \u001b[0mdst\u001b[0m\u001b[0;34m)\u001b[0m\u001b[0;34m\u001b[0m\u001b[0;34m\u001b[0m\u001b[0m\n\u001b[0m",
      "\u001b[0;32m~/.bin/anaconda3/envs/torch/lib/python3.8/shutil.py\u001b[0m in \u001b[0;36mcopy2\u001b[0;34m(src, dst, follow_symlinks)\u001b[0m\n\u001b[1;32m    430\u001b[0m     \u001b[0;32mif\u001b[0m \u001b[0mos\u001b[0m\u001b[0;34m.\u001b[0m\u001b[0mpath\u001b[0m\u001b[0;34m.\u001b[0m\u001b[0misdir\u001b[0m\u001b[0;34m(\u001b[0m\u001b[0mdst\u001b[0m\u001b[0;34m)\u001b[0m\u001b[0;34m:\u001b[0m\u001b[0;34m\u001b[0m\u001b[0;34m\u001b[0m\u001b[0m\n\u001b[1;32m    431\u001b[0m         \u001b[0mdst\u001b[0m \u001b[0;34m=\u001b[0m \u001b[0mos\u001b[0m\u001b[0;34m.\u001b[0m\u001b[0mpath\u001b[0m\u001b[0;34m.\u001b[0m\u001b[0mjoin\u001b[0m\u001b[0;34m(\u001b[0m\u001b[0mdst\u001b[0m\u001b[0;34m,\u001b[0m \u001b[0mos\u001b[0m\u001b[0;34m.\u001b[0m\u001b[0mpath\u001b[0m\u001b[0;34m.\u001b[0m\u001b[0mbasename\u001b[0m\u001b[0;34m(\u001b[0m\u001b[0msrc\u001b[0m\u001b[0;34m)\u001b[0m\u001b[0;34m)\u001b[0m\u001b[0;34m\u001b[0m\u001b[0;34m\u001b[0m\u001b[0m\n\u001b[0;32m--> 432\u001b[0;31m     \u001b[0mcopyfile\u001b[0m\u001b[0;34m(\u001b[0m\u001b[0msrc\u001b[0m\u001b[0;34m,\u001b[0m \u001b[0mdst\u001b[0m\u001b[0;34m,\u001b[0m \u001b[0mfollow_symlinks\u001b[0m\u001b[0;34m=\u001b[0m\u001b[0mfollow_symlinks\u001b[0m\u001b[0;34m)\u001b[0m\u001b[0;34m\u001b[0m\u001b[0;34m\u001b[0m\u001b[0m\n\u001b[0m\u001b[1;32m    433\u001b[0m     \u001b[0mcopystat\u001b[0m\u001b[0;34m(\u001b[0m\u001b[0msrc\u001b[0m\u001b[0;34m,\u001b[0m \u001b[0mdst\u001b[0m\u001b[0;34m,\u001b[0m \u001b[0mfollow_symlinks\u001b[0m\u001b[0;34m=\u001b[0m\u001b[0mfollow_symlinks\u001b[0m\u001b[0;34m)\u001b[0m\u001b[0;34m\u001b[0m\u001b[0;34m\u001b[0m\u001b[0m\n\u001b[1;32m    434\u001b[0m     \u001b[0;32mreturn\u001b[0m \u001b[0mdst\u001b[0m\u001b[0;34m\u001b[0m\u001b[0;34m\u001b[0m\u001b[0m\n",
      "\u001b[0;32m~/.bin/anaconda3/envs/torch/lib/python3.8/shutil.py\u001b[0m in \u001b[0;36mcopyfile\u001b[0;34m(src, dst, follow_symlinks)\u001b[0m\n\u001b[1;32m    259\u001b[0m         \u001b[0mos\u001b[0m\u001b[0;34m.\u001b[0m\u001b[0msymlink\u001b[0m\u001b[0;34m(\u001b[0m\u001b[0mos\u001b[0m\u001b[0;34m.\u001b[0m\u001b[0mreadlink\u001b[0m\u001b[0;34m(\u001b[0m\u001b[0msrc\u001b[0m\u001b[0;34m)\u001b[0m\u001b[0;34m,\u001b[0m \u001b[0mdst\u001b[0m\u001b[0;34m)\u001b[0m\u001b[0;34m\u001b[0m\u001b[0;34m\u001b[0m\u001b[0m\n\u001b[1;32m    260\u001b[0m     \u001b[0;32melse\u001b[0m\u001b[0;34m:\u001b[0m\u001b[0;34m\u001b[0m\u001b[0;34m\u001b[0m\u001b[0m\n\u001b[0;32m--> 261\u001b[0;31m         \u001b[0;32mwith\u001b[0m \u001b[0mopen\u001b[0m\u001b[0;34m(\u001b[0m\u001b[0msrc\u001b[0m\u001b[0;34m,\u001b[0m \u001b[0;34m'rb'\u001b[0m\u001b[0;34m)\u001b[0m \u001b[0;32mas\u001b[0m \u001b[0mfsrc\u001b[0m\u001b[0;34m,\u001b[0m \u001b[0mopen\u001b[0m\u001b[0;34m(\u001b[0m\u001b[0mdst\u001b[0m\u001b[0;34m,\u001b[0m \u001b[0;34m'wb'\u001b[0m\u001b[0;34m)\u001b[0m \u001b[0;32mas\u001b[0m \u001b[0mfdst\u001b[0m\u001b[0;34m:\u001b[0m\u001b[0;34m\u001b[0m\u001b[0;34m\u001b[0m\u001b[0m\n\u001b[0m\u001b[1;32m    262\u001b[0m             \u001b[0;31m# macOS\u001b[0m\u001b[0;34m\u001b[0m\u001b[0;34m\u001b[0m\u001b[0;34m\u001b[0m\u001b[0m\n\u001b[1;32m    263\u001b[0m             \u001b[0;32mif\u001b[0m \u001b[0m_HAS_FCOPYFILE\u001b[0m\u001b[0;34m:\u001b[0m\u001b[0;34m\u001b[0m\u001b[0;34m\u001b[0m\u001b[0m\n",
      "\u001b[0;31mFileNotFoundError\u001b[0m: [Errno 2] No such file or directory: './ng/cast_def_0_203.jpeg'"
     ]
    }
   ],
   "source": [
    "for i in train_val:\n",
    "    tmp_path = './{}_data'.format(i) \n",
    "    data_file = glob.glob(os.path.join(tmp_path, '*.jpeg'))\n",
    "    for img in data_file:\n",
    "        filename = os.path.basename(img)\n",
    "        if 'os' in filename:\n",
    "            dst = os.path.join(ok_path, filename)\n",
    "            shutil.copy2(img, dst)\n",
    "        else:\n",
    "            dst = os.path.join(ng_path, filename)\n",
    "            shutil.copy2(img, dst)\n"
   ]
  },
  {
   "cell_type": "code",
   "execution_count": 20,
   "metadata": {},
   "outputs": [
    {
     "data": {
      "text/plain": [
       "['./train_data/cast_def_0_203.jpeg',\n",
       " './train_data/cast_def_0_186.jpeg',\n",
       " './train_data/cast_ok_0_271.jpeg',\n",
       " './train_data/cast_ok_0_157.jpeg',\n",
       " './train_data/cast_def_0_92.jpeg',\n",
       " './train_data/cast_ok_0_369.jpeg',\n",
       " './train_data/cast_def_0_194.jpeg',\n",
       " './train_data/cast_ok_0_205.jpeg',\n",
       " './train_data/cast_def_0_357.jpeg',\n",
       " './train_data/cast_def_0_347.jpeg',\n",
       " './train_data/cast_ok_0_364.jpeg',\n",
       " './train_data/cast_def_0_135.jpeg',\n",
       " './train_data/cast_ok_0_472.jpeg',\n",
       " './train_data/cast_def_0_2506.jpeg',\n",
       " './train_data/cast_ok_0_427.jpeg',\n",
       " './train_data/cast_ok_0_233.jpeg',\n",
       " './train_data/cast_def_0_2405.jpeg',\n",
       " './train_data/cast_ok_0_171.jpeg',\n",
       " './train_data/cast_def_0_2519.jpeg',\n",
       " './train_data/cast_def_0_136.jpeg',\n",
       " './train_data/cast_def_0_2501.jpeg',\n",
       " './train_data/cast_ok_0_294.jpeg',\n",
       " './train_data/cast_def_0_98.jpeg',\n",
       " './train_data/cast_ok_0_405.jpeg',\n",
       " './train_data/cast_ok_0_415.jpeg',\n",
       " './train_data/cast_ok_0_175.jpeg',\n",
       " './train_data/cast_def_0_88.jpeg',\n",
       " './train_data/cast_def_0_204.jpeg',\n",
       " './train_data/cast_ok_0_286.jpeg',\n",
       " './train_data/cast_def_0_33.jpeg',\n",
       " './train_data/cast_ok_0_466.jpeg',\n",
       " './train_data/cast_ok_0_189.jpeg',\n",
       " './train_data/cast_ok_0_263.jpeg',\n",
       " './train_data/cast_def_0_122.jpeg',\n",
       " './train_data/cast_ok_0_360.jpeg',\n",
       " './train_data/cast_ok_0_434.jpeg',\n",
       " './train_data/cast_def_0_310.jpeg',\n",
       " './train_data/cast_def_0_196.jpeg',\n",
       " './train_data/cast_def_0_2504.jpeg',\n",
       " './train_data/cast_def_0_53.jpeg',\n",
       " './train_data/cast_ok_0_398.jpeg',\n",
       " './train_data/cast_def_0_25.jpeg',\n",
       " './train_data/cast_ok_0_220.jpeg',\n",
       " './train_data/cast_ok_0_250.jpeg',\n",
       " './train_data/cast_def_0_27.jpeg',\n",
       " './train_data/cast_ok_0_345.jpeg',\n",
       " './train_data/cast_def_0_211.jpeg',\n",
       " './train_data/cast_def_0_2434.jpeg',\n",
       " './train_data/cast_ok_0_296.jpeg',\n",
       " './train_data/cast_ok_0_322.jpeg',\n",
       " './train_data/cast_def_0_2378.jpeg',\n",
       " './train_data/cast_def_0_60.jpeg',\n",
       " './train_data/cast_def_0_2426.jpeg',\n",
       " './train_data/cast_def_0_2482.jpeg',\n",
       " './train_data/cast_ok_0_361.jpeg',\n",
       " './train_data/cast_ok_0_269.jpeg',\n",
       " './train_data/cast_ok_0_313.jpeg',\n",
       " './train_data/cast_def_0_110.jpeg',\n",
       " './train_data/cast_ok_0_153.jpeg',\n",
       " './train_data/cast_ok_0_346.jpeg',\n",
       " './train_data/cast_ok_0_450.jpeg',\n",
       " './train_data/cast_def_0_126.jpeg',\n",
       " './train_data/cast_ok_0_411.jpeg',\n",
       " './train_data/cast_def_0_2401.jpeg',\n",
       " './train_data/cast_def_0_8.jpeg',\n",
       " './train_data/cast_def_0_24.jpeg',\n",
       " './train_data/cast_ok_0_284.jpeg',\n",
       " './train_data/cast_def_0_317.jpeg',\n",
       " './train_data/cast_ok_0_248.jpeg',\n",
       " './train_data/cast_ok_0_170.jpeg',\n",
       " './train_data/cast_ok_0_193.jpeg',\n",
       " './train_data/cast_def_0_21.jpeg',\n",
       " './train_data/cast_def_0_130.jpeg',\n",
       " './train_data/cast_ok_0_244.jpeg',\n",
       " './train_data/cast_ok_0_381.jpeg',\n",
       " './train_data/cast_def_0_2435.jpeg',\n",
       " './train_data/cast_def_0_66.jpeg',\n",
       " './train_data/cast_ok_0_413.jpeg',\n",
       " './train_data/cast_def_0_2425.jpeg',\n",
       " './train_data/cast_ok_0_432.jpeg',\n",
       " './train_data/cast_ok_0_376.jpeg',\n",
       " './train_data/cast_ok_0_421.jpeg',\n",
       " './train_data/cast_def_0_2491.jpeg',\n",
       " './train_data/cast_ok_0_196.jpeg',\n",
       " './train_data/cast_def_0_2457.jpeg',\n",
       " './train_data/cast_ok_0_397.jpeg',\n",
       " './train_data/cast_def_0_319.jpeg',\n",
       " './train_data/cast_def_0_354.jpeg',\n",
       " './train_data/cast_def_0_40.jpeg',\n",
       " './train_data/cast_def_0_339.jpeg',\n",
       " './train_data/cast_def_0_107.jpeg',\n",
       " './train_data/cast_ok_0_424.jpeg',\n",
       " './train_data/cast_ok_0_198.jpeg',\n",
       " './train_data/cast_def_0_304.jpeg',\n",
       " './train_data/cast_def_0_2385.jpeg',\n",
       " './train_data/cast_ok_0_370.jpeg',\n",
       " './train_data/cast_def_0_355.jpeg',\n",
       " './train_data/cast_ok_0_452.jpeg',\n",
       " './train_data/cast_ok_0_211.jpeg',\n",
       " './train_data/cast_def_0_2.jpeg',\n",
       " './train_data/cast_ok_0_331.jpeg',\n",
       " './train_data/cast_ok_0_425.jpeg',\n",
       " './train_data/cast_def_0_2474.jpeg',\n",
       " './train_data/cast_def_0_2441.jpeg',\n",
       " './train_data/cast_def_0_2523.jpeg',\n",
       " './train_data/cast_def_0_41.jpeg',\n",
       " './train_data/cast_def_0_2383.jpeg',\n",
       " './train_data/cast_def_0_2478.jpeg',\n",
       " './train_data/cast_def_0_2409.jpeg',\n",
       " './train_data/cast_def_0_50.jpeg',\n",
       " './train_data/cast_def_0_89.jpeg',\n",
       " './train_data/cast_ok_0_407.jpeg',\n",
       " './train_data/cast_def_0_363.jpeg',\n",
       " './train_data/cast_def_0_175.jpeg',\n",
       " './train_data/cast_ok_0_191.jpeg',\n",
       " './train_data/cast_def_0_2411.jpeg',\n",
       " './train_data/cast_def_0_70.jpeg',\n",
       " './train_data/cast_def_0_55.jpeg',\n",
       " './train_data/cast_ok_0_467.jpeg',\n",
       " './train_data/cast_def_0_54.jpeg',\n",
       " './train_data/cast_ok_0_249.jpeg',\n",
       " './train_data/cast_def_0_131.jpeg',\n",
       " './train_data/cast_def_0_2431.jpeg',\n",
       " './train_data/cast_def_0_15.jpeg',\n",
       " './train_data/cast_def_0_2526.jpeg',\n",
       " './train_data/cast_def_0_2490.jpeg',\n",
       " './train_data/cast_def_0_81.jpeg',\n",
       " './train_data/cast_ok_0_379.jpeg',\n",
       " './train_data/cast_ok_0_302.jpeg',\n",
       " './train_data/cast_def_0_19.jpeg',\n",
       " './train_data/cast_def_0_133.jpeg',\n",
       " './train_data/cast_ok_0_350.jpeg',\n",
       " './train_data/cast_def_0_350.jpeg',\n",
       " './train_data/cast_def_0_2390.jpeg',\n",
       " './train_data/cast_ok_0_418.jpeg',\n",
       " './train_data/cast_def_0_2460.jpeg',\n",
       " './train_data/cast_def_0_2469.jpeg',\n",
       " './train_data/cast_def_0_192.jpeg',\n",
       " './train_data/cast_def_0_2499.jpeg',\n",
       " './train_data/cast_ok_0_307.jpeg',\n",
       " './train_data/cast_ok_0_300.jpeg',\n",
       " './train_data/cast_def_0_13.jpeg',\n",
       " './train_data/cast_def_0_105.jpeg',\n",
       " './train_data/cast_def_0_348.jpeg',\n",
       " './train_data/cast_def_0_31.jpeg',\n",
       " './train_data/cast_def_0_9.jpeg',\n",
       " './train_data/cast_ok_0_242.jpeg',\n",
       " './train_data/cast_ok_0_327.jpeg',\n",
       " './train_data/cast_def_0_2389.jpeg',\n",
       " './train_data/cast_def_0_61.jpeg',\n",
       " './train_data/cast_def_0_327.jpeg',\n",
       " './train_data/cast_def_0_2470.jpeg',\n",
       " './train_data/cast_ok_0_188.jpeg',\n",
       " './train_data/cast_ok_0_362.jpeg',\n",
       " './train_data/cast_def_0_2407.jpeg',\n",
       " './train_data/cast_ok_0_460.jpeg',\n",
       " './train_data/cast_def_0_314.jpeg',\n",
       " './train_data/cast_def_0_2384.jpeg',\n",
       " './train_data/cast_ok_0_461.jpeg',\n",
       " './train_data/cast_ok_0_435.jpeg',\n",
       " './train_data/cast_def_0_69.jpeg',\n",
       " './train_data/cast_ok_0_349.jpeg',\n",
       " './train_data/cast_def_0_191.jpeg',\n",
       " './train_data/cast_def_0_43.jpeg',\n",
       " './train_data/cast_def_0_324.jpeg',\n",
       " './train_data/cast_ok_0_339.jpeg',\n",
       " './train_data/cast_ok_0_213.jpeg',\n",
       " './train_data/cast_def_0_26.jpeg',\n",
       " './train_data/cast_def_0_359.jpeg',\n",
       " './train_data/cast_ok_0_392.jpeg',\n",
       " './train_data/cast_def_0_2467.jpeg',\n",
       " './train_data/cast_def_0_2391.jpeg',\n",
       " './train_data/cast_def_0_207.jpeg',\n",
       " './train_data/cast_def_0_2400.jpeg',\n",
       " './train_data/cast_def_0_372.jpeg',\n",
       " './train_data/cast_ok_0_430.jpeg',\n",
       " './train_data/cast_def_0_331.jpeg',\n",
       " './train_data/cast_def_0_51.jpeg',\n",
       " './train_data/cast_ok_0_316.jpeg',\n",
       " './train_data/cast_ok_0_167.jpeg',\n",
       " './train_data/cast_def_0_82.jpeg',\n",
       " './train_data/cast_def_0_200.jpeg',\n",
       " './train_data/cast_ok_0_426.jpeg',\n",
       " './train_data/cast_def_0_315.jpeg',\n",
       " './train_data/cast_ok_0_298.jpeg',\n",
       " './train_data/cast_ok_0_262.jpeg',\n",
       " './train_data/cast_ok_0_420.jpeg',\n",
       " './train_data/cast_def_0_330.jpeg',\n",
       " './train_data/cast_ok_0_266.jpeg',\n",
       " './train_data/cast_def_0_313.jpeg',\n",
       " './train_data/cast_ok_0_169.jpeg',\n",
       " './train_data/cast_ok_0_152.jpeg',\n",
       " './train_data/cast_ok_0_182.jpeg',\n",
       " './train_data/cast_ok_0_147.jpeg',\n",
       " './train_data/cast_def_0_321.jpeg',\n",
       " './train_data/cast_def_0_97.jpeg',\n",
       " './train_data/cast_def_0_74.jpeg',\n",
       " './train_data/cast_def_0_2518.jpeg',\n",
       " './train_data/cast_def_0_91.jpeg',\n",
       " './train_data/cast_def_0_163.jpeg',\n",
       " './train_data/cast_ok_0_367.jpeg',\n",
       " './train_data/cast_def_0_2433.jpeg',\n",
       " './train_data/cast_def_0_0.jpeg',\n",
       " './train_data/cast_def_0_2437.jpeg',\n",
       " './train_data/cast_ok_0_454.jpeg',\n",
       " './train_data/cast_def_0_116.jpeg',\n",
       " './train_data/cast_ok_0_444.jpeg',\n",
       " './train_data/cast_def_0_2381.jpeg',\n",
       " './train_data/cast_def_0_335.jpeg',\n",
       " './train_data/cast_ok_0_355.jpeg',\n",
       " './train_data/cast_def_0_11.jpeg',\n",
       " './train_data/cast_def_0_95.jpeg',\n",
       " './train_data/cast_def_0_2527.jpeg',\n",
       " './train_data/cast_ok_0_239.jpeg',\n",
       " './train_data/cast_ok_0_186.jpeg',\n",
       " './train_data/cast_ok_0_402.jpeg',\n",
       " './train_data/cast_def_0_2500.jpeg',\n",
       " './train_data/cast_def_0_120.jpeg',\n",
       " './train_data/cast_ok_0_154.jpeg',\n",
       " './train_data/cast_def_0_148.jpeg',\n",
       " './train_data/cast_def_0_99.jpeg',\n",
       " './train_data/cast_ok_0_278.jpeg',\n",
       " './train_data/cast_def_0_308.jpeg',\n",
       " './train_data/cast_ok_0_440.jpeg',\n",
       " './train_data/cast_def_0_215.jpeg',\n",
       " './train_data/cast_ok_0_184.jpeg',\n",
       " './train_data/cast_def_0_2415.jpeg',\n",
       " './train_data/cast_def_0_2404.jpeg',\n",
       " './train_data/cast_def_0_2471.jpeg',\n",
       " './train_data/cast_ok_0_357.jpeg',\n",
       " './train_data/cast_def_0_103.jpeg',\n",
       " './train_data/cast_def_0_2432.jpeg',\n",
       " './train_data/cast_def_0_193.jpeg',\n",
       " './train_data/cast_ok_0_273.jpeg',\n",
       " './train_data/cast_def_0_56.jpeg',\n",
       " './train_data/cast_ok_0_463.jpeg',\n",
       " './train_data/cast_def_0_333.jpeg',\n",
       " './train_data/cast_def_0_320.jpeg',\n",
       " './train_data/cast_ok_0_465.jpeg',\n",
       " './train_data/cast_def_0_337.jpeg',\n",
       " './train_data/cast_ok_0_149.jpeg',\n",
       " './train_data/cast_def_0_2403.jpeg',\n",
       " './train_data/cast_def_0_360.jpeg',\n",
       " './train_data/cast_def_0_109.jpeg',\n",
       " './train_data/cast_def_0_2489.jpeg',\n",
       " './train_data/cast_def_0_197.jpeg',\n",
       " './train_data/cast_def_0_68.jpeg',\n",
       " './train_data/cast_def_0_323.jpeg',\n",
       " './train_data/cast_def_0_2505.jpeg',\n",
       " './train_data/cast_def_0_2522.jpeg']"
      ]
     },
     "execution_count": 20,
     "metadata": {},
     "output_type": "execute_result"
    }
   ],
   "source": [
    "glob.glob(os.path.join('./train_data', '*.jpeg'))"
   ]
  },
  {
   "cell_type": "code",
   "execution_count": null,
   "metadata": {},
   "outputs": [],
   "source": []
  },
  {
   "cell_type": "code",
   "execution_count": 8,
   "metadata": {},
   "outputs": [],
   "source": [
    "def copy_to(fname):\n",
    "    if 'ok' in fname:\n",
    "        print('OK')\n",
    "    else:\n",
    "        print(\"NG\")"
   ]
  },
  {
   "cell_type": "code",
   "execution_count": 4,
   "metadata": {},
   "outputs": [],
   "source": [
    "osd = \"_ok_safe\""
   ]
  },
  {
   "cell_type": "code",
   "execution_count": 5,
   "metadata": {},
   "outputs": [],
   "source": [
    "osf = \"_false_dd\""
   ]
  },
  {
   "cell_type": "code",
   "execution_count": 7,
   "metadata": {},
   "outputs": [
    {
     "data": {
      "text/plain": [
       "False"
      ]
     },
     "execution_count": 7,
     "metadata": {},
     "output_type": "execute_result"
    }
   ],
   "source": [
    "'ok' in osf"
   ]
  },
  {
   "cell_type": "code",
   "execution_count": 9,
   "metadata": {},
   "outputs": [
    {
     "name": "stdout",
     "output_type": "stream",
     "text": [
      "OK\n"
     ]
    }
   ],
   "source": [
    "copy_to(osd)"
   ]
  },
  {
   "cell_type": "code",
   "execution_count": 1,
   "metadata": {},
   "outputs": [],
   "source": [
    "import glob\n",
    "import os\n",
    "import re\n",
    "import shutil"
   ]
  },
  {
   "cell_type": "code",
   "execution_count": null,
   "metadata": {},
   "outputs": [],
   "source": [
    "src_dict_"
   ]
  }
 ],
 "metadata": {
  "kernelspec": {
   "display_name": "Python 3",
   "language": "python",
   "name": "python3"
  },
  "language_info": {
   "codemirror_mode": {
    "name": "ipython",
    "version": 3
   },
   "file_extension": ".py",
   "mimetype": "text/x-python",
   "name": "python",
   "nbconvert_exporter": "python",
   "pygments_lexer": "ipython3",
   "version": "3.7.9"
  }
 },
 "nbformat": 4,
 "nbformat_minor": 4
}
