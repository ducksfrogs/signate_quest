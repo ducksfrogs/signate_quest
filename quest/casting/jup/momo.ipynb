{
 "cells": [
  {
   "cell_type": "code",
   "execution_count": 5,
   "metadata": {},
   "outputs": [],
   "source": [
    "import glob\n",
    "import os\n",
    "\n",
    "import shutil"
   ]
  },
  {
   "cell_type": "code",
   "execution_count": 10,
   "metadata": {},
   "outputs": [],
   "source": [
    "train_val = ['train', 'test']"
   ]
  },
  {
   "cell_type": "code",
   "execution_count": 16,
   "metadata": {},
   "outputs": [],
   "source": [
    "for i in train_val:\n",
    "    tmp_path = './{}_data/'.format(i)\n",
    "    data_file = glob.glob(os.path.join(tmp_path, '*.jpeg'))\n",
    "    ok_path = './input/{}/ok'.format(i)\n",
    "    ng_path = './input/{}/ng'.format(i)\n",
    "    for img in data_file:\n",
    "        filename = os.path.basename(img)\n",
    "        if 'ok' in filename:\n",
    "            dst = os.path.join(ok_path, filename)\n",
    "            shutil.copy2(img, dst)\n",
    "        else:\n",
    "            dst = os.path.join(ng_path, filename)\n",
    "            shutil.copy2(img, dst)\n"
   ]
  },
  {
   "cell_type": "code",
   "execution_count": 17,
   "metadata": {},
   "outputs": [
    {
     "data": {
      "text/plain": [
       "'19871.jpeg'"
      ]
     },
     "execution_count": 17,
     "metadata": {},
     "output_type": "execute_result"
    }
   ],
   "source": [
    "filename"
   ]
  },
  {
   "cell_type": "code",
   "execution_count": 13,
   "metadata": {},
   "outputs": [
    {
     "data": {
      "text/plain": [
       "['./test_data/179915.jpeg',\n",
       " './test_data/509856.jpeg',\n",
       " './test_data/939891.jpeg',\n",
       " './test_data/929917.jpeg',\n",
       " './test_data/809920.jpeg',\n",
       " './test_data/259831.jpeg',\n",
       " './test_data/29934.jpeg',\n",
       " './test_data/919995.jpeg',\n",
       " './test_data/649971.jpeg',\n",
       " './test_data/59918.jpeg',\n",
       " './test_data/799977.jpeg',\n",
       " './test_data/979891.jpeg',\n",
       " './test_data/879941.jpeg',\n",
       " './test_data/269945.jpeg',\n",
       " './test_data/999921.jpeg',\n",
       " './test_data/209923.jpeg',\n",
       " './test_data/469837.jpeg',\n",
       " './test_data/579910.jpeg',\n",
       " './test_data/989921.jpeg',\n",
       " './test_data/49888.jpeg',\n",
       " './test_data/869957.jpeg',\n",
       " './test_data/439948.jpeg',\n",
       " './test_data/139981.jpeg',\n",
       " './test_data/769946.jpeg',\n",
       " './test_data/729911.jpeg',\n",
       " './test_data/779897.jpeg',\n",
       " './test_data/319945.jpeg',\n",
       " './test_data/659835.jpeg',\n",
       " './test_data/459909.jpeg',\n",
       " './test_data/559880.jpeg',\n",
       " './test_data/279912.jpeg',\n",
       " './test_data/79963.jpeg',\n",
       " './test_data/739881.jpeg',\n",
       " './test_data/899886.jpeg',\n",
       " './test_data/119892.jpeg',\n",
       " './test_data/219889.jpeg',\n",
       " './test_data/849890.jpeg',\n",
       " './test_data/519895.jpeg',\n",
       " './test_data/159915.jpeg',\n",
       " './test_data/149997.jpeg',\n",
       " './test_data/549992.jpeg',\n",
       " './test_data/429933.jpeg',\n",
       " './test_data/129893.jpeg',\n",
       " './test_data/389908.jpeg',\n",
       " './test_data/249889.jpeg',\n",
       " './test_data/229958.jpeg',\n",
       " './test_data/309928.jpeg',\n",
       " './test_data/689927.jpeg',\n",
       " './test_data/399924.jpeg',\n",
       " './test_data/829920.jpeg',\n",
       " './test_data/619967.jpeg',\n",
       " './test_data/859982.jpeg',\n",
       " './test_data/789907.jpeg',\n",
       " './test_data/569906.jpeg',\n",
       " './test_data/239962.jpeg',\n",
       " './test_data/419909.jpeg',\n",
       " './test_data/289969.jpeg',\n",
       " './test_data/749878.jpeg',\n",
       " './test_data/189978.jpeg',\n",
       " './test_data/349836.jpeg',\n",
       " './test_data/339986.jpeg',\n",
       " './test_data/169903.jpeg',\n",
       " './test_data/449821.jpeg',\n",
       " './test_data/359973.jpeg',\n",
       " './test_data/39826.jpeg',\n",
       " './test_data/529883.jpeg',\n",
       " './test_data/959829.jpeg',\n",
       " './test_data/479840.jpeg',\n",
       " './test_data/369861.jpeg',\n",
       " './test_data/329953.jpeg',\n",
       " './test_data/719946.jpeg',\n",
       " './test_data/949956.jpeg',\n",
       " './test_data/409965.jpeg',\n",
       " './test_data/909994.jpeg',\n",
       " './test_data/379924.jpeg',\n",
       " './test_data/609988.jpeg',\n",
       " './test_data/109996.jpeg',\n",
       " './test_data/969983.jpeg',\n",
       " './test_data/539843.jpeg',\n",
       " './test_data/759854.jpeg',\n",
       " './test_data/99851.jpeg',\n",
       " './test_data/709966.jpeg',\n",
       " './test_data/639930.jpeg',\n",
       " './test_data/629822.jpeg',\n",
       " './test_data/589947.jpeg',\n",
       " './test_data/599930.jpeg',\n",
       " './test_data/839998.jpeg',\n",
       " './test_data/89914.jpeg',\n",
       " './test_data/669862.jpeg',\n",
       " './test_data/1009937.jpeg',\n",
       " './test_data/499929.jpeg',\n",
       " './test_data/69975.jpeg',\n",
       " './test_data/889886.jpeg',\n",
       " './test_data/699970.jpeg',\n",
       " './test_data/819873.jpeg',\n",
       " './test_data/489913.jpeg',\n",
       " './test_data/679931.jpeg',\n",
       " './test_data/199935.jpeg',\n",
       " './test_data/299953.jpeg',\n",
       " './test_data/19871.jpeg']"
      ]
     },
     "execution_count": 13,
     "metadata": {},
     "output_type": "execute_result"
    }
   ],
   "source": [
    "data_file"
   ]
  },
  {
   "cell_type": "code",
   "execution_count": 6,
   "metadata": {},
   "outputs": [
    {
     "data": {
      "text/plain": [
       "['./train_data/cast_def_0_95.jpeg',\n",
       " './train_data/cast_ok_0_284.jpeg',\n",
       " './train_data/cast_ok_0_360.jpeg',\n",
       " './train_data/cast_ok_0_440.jpeg',\n",
       " './train_data/cast_def_0_54.jpeg',\n",
       " './train_data/cast_def_0_130.jpeg',\n",
       " './train_data/cast_def_0_203.jpeg',\n",
       " './train_data/cast_def_0_41.jpeg',\n",
       " './train_data/cast_ok_0_186.jpeg',\n",
       " './train_data/cast_ok_0_444.jpeg',\n",
       " './train_data/cast_def_0_56.jpeg',\n",
       " './train_data/cast_ok_0_364.jpeg',\n",
       " './train_data/cast_def_0_2471.jpeg',\n",
       " './train_data/cast_def_0_211.jpeg',\n",
       " './train_data/cast_def_0_350.jpeg',\n",
       " './train_data/cast_ok_0_392.jpeg',\n",
       " './train_data/cast_def_0_133.jpeg',\n",
       " './train_data/cast_def_0_110.jpeg',\n",
       " './train_data/cast_def_0_2403.jpeg',\n",
       " './train_data/cast_def_0_15.jpeg',\n",
       " './train_data/cast_ok_0_405.jpeg',\n",
       " './train_data/cast_def_0_2433.jpeg',\n",
       " './train_data/cast_ok_0_362.jpeg',\n",
       " './train_data/cast_def_0_200.jpeg',\n",
       " './train_data/cast_ok_0_415.jpeg',\n",
       " './train_data/cast_def_0_116.jpeg',\n",
       " './train_data/cast_def_0_122.jpeg',\n",
       " './train_data/cast_def_0_24.jpeg',\n",
       " './train_data/cast_def_0_2389.jpeg',\n",
       " './train_data/cast_def_0_314.jpeg',\n",
       " './train_data/cast_ok_0_294.jpeg',\n",
       " './train_data/cast_def_0_2469.jpeg',\n",
       " './train_data/cast_def_0_21.jpeg',\n",
       " './train_data/cast_def_0_91.jpeg',\n",
       " './train_data/cast_def_0_148.jpeg',\n",
       " './train_data/cast_ok_0_376.jpeg',\n",
       " './train_data/cast_ok_0_420.jpeg',\n",
       " './train_data/cast_def_0_131.jpeg',\n",
       " './train_data/cast_ok_0_170.jpeg',\n",
       " './train_data/cast_def_0_31.jpeg',\n",
       " './train_data/cast_def_0_204.jpeg',\n",
       " './train_data/cast_def_0_55.jpeg',\n",
       " './train_data/cast_def_0_2460.jpeg',\n",
       " './train_data/cast_ok_0_418.jpeg',\n",
       " './train_data/cast_def_0_2390.jpeg',\n",
       " './train_data/cast_ok_0_169.jpeg',\n",
       " './train_data/cast_def_0_2505.jpeg',\n",
       " './train_data/cast_def_0_324.jpeg',\n",
       " './train_data/cast_def_0_2501.jpeg',\n",
       " './train_data/cast_def_0_331.jpeg',\n",
       " './train_data/cast_def_0_2383.jpeg',\n",
       " './train_data/cast_ok_0_271.jpeg',\n",
       " './train_data/cast_def_0_33.jpeg',\n",
       " './train_data/cast_def_0_120.jpeg',\n",
       " './train_data/cast_def_0_2478.jpeg',\n",
       " './train_data/cast_ok_0_313.jpeg',\n",
       " './train_data/cast_ok_0_345.jpeg',\n",
       " './train_data/cast_def_0_97.jpeg',\n",
       " './train_data/cast_def_0_0.jpeg',\n",
       " './train_data/cast_ok_0_425.jpeg',\n",
       " './train_data/cast_ok_0_193.jpeg',\n",
       " './train_data/cast_def_0_25.jpeg',\n",
       " './train_data/cast_def_0_2431.jpeg',\n",
       " './train_data/cast_ok_0_189.jpeg',\n",
       " './train_data/cast_def_0_109.jpeg',\n",
       " './train_data/cast_ok_0_154.jpeg',\n",
       " './train_data/cast_def_0_60.jpeg',\n",
       " './train_data/cast_def_0_2499.jpeg',\n",
       " './train_data/cast_def_0_135.jpeg',\n",
       " './train_data/cast_ok_0_430.jpeg',\n",
       " './train_data/cast_def_0_333.jpeg',\n",
       " './train_data/cast_def_0_70.jpeg',\n",
       " './train_data/cast_ok_0_467.jpeg',\n",
       " './train_data/cast_ok_0_367.jpeg',\n",
       " './train_data/cast_def_0_335.jpeg',\n",
       " './train_data/cast_ok_0_450.jpeg',\n",
       " './train_data/cast_ok_0_463.jpeg',\n",
       " './train_data/cast_ok_0_346.jpeg',\n",
       " './train_data/cast_ok_0_349.jpeg',\n",
       " './train_data/cast_def_0_11.jpeg',\n",
       " './train_data/cast_def_0_327.jpeg',\n",
       " './train_data/cast_ok_0_278.jpeg',\n",
       " './train_data/cast_ok_0_361.jpeg',\n",
       " './train_data/cast_ok_0_182.jpeg',\n",
       " './train_data/cast_def_0_196.jpeg',\n",
       " './train_data/cast_ok_0_331.jpeg',\n",
       " './train_data/cast_def_0_175.jpeg',\n",
       " './train_data/cast_ok_0_152.jpeg',\n",
       " './train_data/cast_def_0_2522.jpeg',\n",
       " './train_data/cast_def_0_2381.jpeg',\n",
       " './train_data/cast_def_0_2457.jpeg',\n",
       " './train_data/cast_ok_0_370.jpeg',\n",
       " './train_data/cast_ok_0_175.jpeg',\n",
       " './train_data/cast_def_0_330.jpeg',\n",
       " './train_data/cast_ok_0_461.jpeg',\n",
       " './train_data/cast_ok_0_397.jpeg',\n",
       " './train_data/cast_def_0_2401.jpeg',\n",
       " './train_data/cast_def_0_2426.jpeg',\n",
       " './train_data/cast_def_0_82.jpeg',\n",
       " './train_data/cast_def_0_2470.jpeg',\n",
       " './train_data/cast_ok_0_381.jpeg',\n",
       " './train_data/cast_def_0_308.jpeg',\n",
       " './train_data/cast_ok_0_302.jpeg',\n",
       " './train_data/cast_def_0_2490.jpeg',\n",
       " './train_data/cast_ok_0_300.jpeg',\n",
       " './train_data/cast_def_0_2404.jpeg',\n",
       " './train_data/cast_ok_0_355.jpeg',\n",
       " './train_data/cast_ok_0_350.jpeg',\n",
       " './train_data/cast_def_0_61.jpeg',\n",
       " './train_data/cast_def_0_337.jpeg',\n",
       " './train_data/cast_def_0_2.jpeg',\n",
       " './train_data/cast_def_0_40.jpeg',\n",
       " './train_data/cast_ok_0_426.jpeg',\n",
       " './train_data/cast_def_0_103.jpeg',\n",
       " './train_data/cast_ok_0_167.jpeg',\n",
       " './train_data/cast_ok_0_205.jpeg',\n",
       " './train_data/cast_def_0_357.jpeg',\n",
       " './train_data/cast_def_0_2474.jpeg',\n",
       " './train_data/cast_def_0_2491.jpeg',\n",
       " './train_data/cast_def_0_2378.jpeg',\n",
       " './train_data/cast_def_0_27.jpeg',\n",
       " './train_data/cast_def_0_2407.jpeg',\n",
       " './train_data/cast_def_0_2467.jpeg',\n",
       " './train_data/cast_def_0_186.jpeg',\n",
       " './train_data/cast_ok_0_296.jpeg',\n",
       " './train_data/cast_def_0_2527.jpeg',\n",
       " './train_data/cast_ok_0_452.jpeg',\n",
       " './train_data/cast_def_0_69.jpeg',\n",
       " './train_data/cast_def_0_310.jpeg',\n",
       " './train_data/cast_def_0_2400.jpeg',\n",
       " './train_data/cast_ok_0_357.jpeg',\n",
       " './train_data/cast_def_0_43.jpeg',\n",
       " './train_data/cast_def_0_347.jpeg',\n",
       " './train_data/cast_ok_0_379.jpeg',\n",
       " './train_data/cast_def_0_313.jpeg',\n",
       " './train_data/cast_def_0_207.jpeg',\n",
       " './train_data/cast_ok_0_413.jpeg',\n",
       " './train_data/cast_def_0_19.jpeg',\n",
       " './train_data/cast_ok_0_250.jpeg',\n",
       " './train_data/cast_ok_0_269.jpeg',\n",
       " './train_data/cast_def_0_360.jpeg',\n",
       " './train_data/cast_def_0_89.jpeg',\n",
       " './train_data/cast_ok_0_472.jpeg',\n",
       " './train_data/cast_def_0_92.jpeg',\n",
       " './train_data/cast_def_0_2425.jpeg',\n",
       " './train_data/cast_ok_0_434.jpeg',\n",
       " './train_data/cast_def_0_66.jpeg',\n",
       " './train_data/cast_def_0_2434.jpeg',\n",
       " './train_data/cast_ok_0_157.jpeg',\n",
       " './train_data/cast_ok_0_263.jpeg',\n",
       " './train_data/cast_def_0_2391.jpeg',\n",
       " './train_data/cast_ok_0_432.jpeg',\n",
       " './train_data/cast_ok_0_466.jpeg',\n",
       " './train_data/cast_def_0_2526.jpeg',\n",
       " './train_data/cast_ok_0_198.jpeg',\n",
       " './train_data/cast_def_0_2437.jpeg',\n",
       " './train_data/cast_ok_0_211.jpeg',\n",
       " './train_data/cast_def_0_105.jpeg',\n",
       " './train_data/cast_def_0_136.jpeg',\n",
       " './train_data/cast_def_0_372.jpeg',\n",
       " './train_data/cast_ok_0_149.jpeg',\n",
       " './train_data/cast_def_0_2489.jpeg',\n",
       " './train_data/cast_def_0_99.jpeg',\n",
       " './train_data/cast_def_0_74.jpeg',\n",
       " './train_data/cast_ok_0_184.jpeg',\n",
       " './train_data/cast_def_0_2500.jpeg',\n",
       " './train_data/cast_ok_0_233.jpeg',\n",
       " './train_data/cast_def_0_2441.jpeg',\n",
       " './train_data/cast_ok_0_435.jpeg',\n",
       " './train_data/cast_ok_0_454.jpeg',\n",
       " './train_data/cast_ok_0_465.jpeg',\n",
       " './train_data/cast_def_0_2482.jpeg',\n",
       " './train_data/cast_def_0_53.jpeg',\n",
       " './train_data/cast_ok_0_427.jpeg',\n",
       " './train_data/cast_ok_0_213.jpeg',\n",
       " './train_data/cast_ok_0_286.jpeg',\n",
       " './train_data/cast_def_0_2504.jpeg',\n",
       " './train_data/cast_ok_0_316.jpeg',\n",
       " './train_data/cast_def_0_315.jpeg',\n",
       " './train_data/cast_def_0_339.jpeg',\n",
       " './train_data/cast_def_0_68.jpeg',\n",
       " './train_data/cast_def_0_359.jpeg',\n",
       " './train_data/cast_ok_0_171.jpeg',\n",
       " './train_data/cast_def_0_354.jpeg',\n",
       " './train_data/cast_def_0_355.jpeg',\n",
       " './train_data/cast_def_0_2435.jpeg',\n",
       " './train_data/cast_def_0_26.jpeg',\n",
       " './train_data/cast_def_0_2385.jpeg',\n",
       " './train_data/cast_def_0_321.jpeg',\n",
       " './train_data/cast_def_0_8.jpeg',\n",
       " './train_data/cast_ok_0_339.jpeg',\n",
       " './train_data/cast_def_0_2384.jpeg',\n",
       " './train_data/cast_def_0_348.jpeg',\n",
       " './train_data/cast_def_0_320.jpeg',\n",
       " './train_data/cast_def_0_2405.jpeg',\n",
       " './train_data/cast_ok_0_307.jpeg',\n",
       " './train_data/cast_def_0_2518.jpeg',\n",
       " './train_data/cast_ok_0_153.jpeg',\n",
       " './train_data/cast_ok_0_188.jpeg',\n",
       " './train_data/cast_ok_0_298.jpeg',\n",
       " './train_data/cast_ok_0_460.jpeg',\n",
       " './train_data/cast_def_0_88.jpeg',\n",
       " './train_data/cast_ok_0_249.jpeg',\n",
       " './train_data/cast_def_0_2411.jpeg',\n",
       " './train_data/cast_def_0_323.jpeg',\n",
       " './train_data/cast_def_0_215.jpeg',\n",
       " './train_data/cast_ok_0_244.jpeg',\n",
       " './train_data/cast_ok_0_273.jpeg',\n",
       " './train_data/cast_def_0_163.jpeg',\n",
       " './train_data/cast_def_0_13.jpeg',\n",
       " './train_data/cast_ok_0_242.jpeg',\n",
       " './train_data/cast_ok_0_398.jpeg',\n",
       " './train_data/cast_def_0_126.jpeg',\n",
       " './train_data/cast_def_0_304.jpeg',\n",
       " './train_data/cast_def_0_2432.jpeg',\n",
       " './train_data/cast_def_0_192.jpeg',\n",
       " './train_data/cast_ok_0_369.jpeg',\n",
       " './train_data/cast_def_0_2523.jpeg',\n",
       " './train_data/cast_def_0_2519.jpeg',\n",
       " './train_data/cast_ok_0_327.jpeg',\n",
       " './train_data/cast_ok_0_402.jpeg',\n",
       " './train_data/cast_def_0_197.jpeg',\n",
       " './train_data/cast_def_0_193.jpeg',\n",
       " './train_data/cast_def_0_107.jpeg',\n",
       " './train_data/cast_def_0_319.jpeg',\n",
       " './train_data/cast_ok_0_262.jpeg',\n",
       " './train_data/cast_def_0_81.jpeg',\n",
       " './train_data/cast_def_0_2409.jpeg',\n",
       " './train_data/cast_def_0_2506.jpeg',\n",
       " './train_data/cast_ok_0_248.jpeg',\n",
       " './train_data/cast_def_0_191.jpeg',\n",
       " './train_data/cast_def_0_363.jpeg',\n",
       " './train_data/cast_ok_0_407.jpeg',\n",
       " './train_data/cast_ok_0_424.jpeg',\n",
       " './train_data/cast_def_0_317.jpeg',\n",
       " './train_data/cast_def_0_51.jpeg',\n",
       " './train_data/cast_ok_0_239.jpeg',\n",
       " './train_data/cast_def_0_9.jpeg',\n",
       " './train_data/cast_def_0_50.jpeg',\n",
       " './train_data/cast_ok_0_191.jpeg',\n",
       " './train_data/cast_def_0_98.jpeg',\n",
       " './train_data/cast_ok_0_421.jpeg',\n",
       " './train_data/cast_ok_0_196.jpeg',\n",
       " './train_data/cast_ok_0_322.jpeg',\n",
       " './train_data/cast_ok_0_220.jpeg',\n",
       " './train_data/cast_ok_0_266.jpeg',\n",
       " './train_data/cast_ok_0_411.jpeg',\n",
       " './train_data/cast_ok_0_147.jpeg',\n",
       " './train_data/cast_def_0_2415.jpeg',\n",
       " './train_data/cast_def_0_194.jpeg']"
      ]
     },
     "execution_count": 6,
     "metadata": {},
     "output_type": "execute_result"
    }
   ],
   "source": [
    "glob.glob(os.path.join(tmp_path, '*.jpeg'))"
   ]
  },
  {
   "cell_type": "code",
   "execution_count": null,
   "metadata": {},
   "outputs": [],
   "source": []
  },
  {
   "cell_type": "code",
   "execution_count": 8,
   "metadata": {},
   "outputs": [],
   "source": [
    "ok_path = \"dd\""
   ]
  },
  {
   "cell_type": "code",
   "execution_count": 9,
   "metadata": {},
   "outputs": [],
   "source": [
    "ng_path = \"mm/\""
   ]
  },
  {
   "cell_type": "code",
   "execution_count": 10,
   "metadata": {},
   "outputs": [
    {
     "data": {
      "text/plain": [
       "'mm/dd'"
      ]
     },
     "execution_count": 10,
     "metadata": {},
     "output_type": "execute_result"
    }
   ],
   "source": [
    "ng_path + ok_path"
   ]
  },
  {
   "cell_type": "code",
   "execution_count": 11,
   "metadata": {},
   "outputs": [],
   "source": [
    "train_val = ['train', 'val']\n"
   ]
  },
  {
   "cell_type": "code",
   "execution_count": 12,
   "metadata": {},
   "outputs": [
    {
     "name": "stdout",
     "output_type": "stream",
     "text": [
      "train\n",
      "val\n"
     ]
    }
   ],
   "source": [
    "for i in train_val:\n",
    "    print(i)"
   ]
  },
  {
   "cell_type": "code",
   "execution_count": 13,
   "metadata": {},
   "outputs": [],
   "source": [
    "data_file = glob.glob(os.path.join('./test_data/', '*.jpeg'))"
   ]
  },
  {
   "cell_type": "code",
   "execution_count": 14,
   "metadata": {},
   "outputs": [
    {
     "data": {
      "text/plain": [
       "['./test_data/59918.jpeg',\n",
       " './test_data/729911.jpeg',\n",
       " './test_data/159915.jpeg',\n",
       " './test_data/249889.jpeg',\n",
       " './test_data/929917.jpeg',\n",
       " './test_data/579910.jpeg',\n",
       " './test_data/759854.jpeg',\n",
       " './test_data/79963.jpeg',\n",
       " './test_data/459909.jpeg',\n",
       " './test_data/839998.jpeg',\n",
       " './test_data/469837.jpeg',\n",
       " './test_data/849890.jpeg',\n",
       " './test_data/99851.jpeg',\n",
       " './test_data/629822.jpeg',\n",
       " './test_data/609988.jpeg',\n",
       " './test_data/889886.jpeg',\n",
       " './test_data/529883.jpeg',\n",
       " './test_data/419909.jpeg',\n",
       " './test_data/319945.jpeg',\n",
       " './test_data/19871.jpeg',\n",
       " './test_data/639930.jpeg',\n",
       " './test_data/309928.jpeg',\n",
       " './test_data/959829.jpeg',\n",
       " './test_data/479840.jpeg',\n",
       " './test_data/259831.jpeg',\n",
       " './test_data/129893.jpeg',\n",
       " './test_data/169903.jpeg',\n",
       " './test_data/399924.jpeg',\n",
       " './test_data/999921.jpeg',\n",
       " './test_data/139981.jpeg',\n",
       " './test_data/359973.jpeg',\n",
       " './test_data/549992.jpeg',\n",
       " './test_data/449821.jpeg',\n",
       " './test_data/569906.jpeg',\n",
       " './test_data/779897.jpeg',\n",
       " './test_data/119892.jpeg',\n",
       " './test_data/539843.jpeg',\n",
       " './test_data/349836.jpeg',\n",
       " './test_data/69975.jpeg',\n",
       " './test_data/379924.jpeg',\n",
       " './test_data/809920.jpeg',\n",
       " './test_data/49888.jpeg',\n",
       " './test_data/189978.jpeg',\n",
       " './test_data/179915.jpeg',\n",
       " './test_data/899886.jpeg',\n",
       " './test_data/869957.jpeg',\n",
       " './test_data/969983.jpeg',\n",
       " './test_data/689927.jpeg',\n",
       " './test_data/909994.jpeg',\n",
       " './test_data/209923.jpeg',\n",
       " './test_data/669862.jpeg',\n",
       " './test_data/439948.jpeg',\n",
       " './test_data/979891.jpeg',\n",
       " './test_data/939891.jpeg',\n",
       " './test_data/559880.jpeg',\n",
       " './test_data/89914.jpeg',\n",
       " './test_data/749878.jpeg',\n",
       " './test_data/199935.jpeg',\n",
       " './test_data/589947.jpeg',\n",
       " './test_data/819873.jpeg',\n",
       " './test_data/239962.jpeg',\n",
       " './test_data/679931.jpeg',\n",
       " './test_data/699970.jpeg',\n",
       " './test_data/709966.jpeg',\n",
       " './test_data/829920.jpeg',\n",
       " './test_data/719946.jpeg',\n",
       " './test_data/149997.jpeg',\n",
       " './test_data/489913.jpeg',\n",
       " './test_data/879941.jpeg',\n",
       " './test_data/519895.jpeg',\n",
       " './test_data/789907.jpeg',\n",
       " './test_data/599930.jpeg',\n",
       " './test_data/1009937.jpeg',\n",
       " './test_data/739881.jpeg',\n",
       " './test_data/799977.jpeg',\n",
       " './test_data/219889.jpeg',\n",
       " './test_data/769946.jpeg',\n",
       " './test_data/509856.jpeg',\n",
       " './test_data/499929.jpeg',\n",
       " './test_data/39826.jpeg',\n",
       " './test_data/369861.jpeg',\n",
       " './test_data/109996.jpeg',\n",
       " './test_data/649971.jpeg',\n",
       " './test_data/859982.jpeg',\n",
       " './test_data/619967.jpeg',\n",
       " './test_data/329953.jpeg',\n",
       " './test_data/919995.jpeg',\n",
       " './test_data/229958.jpeg',\n",
       " './test_data/949956.jpeg',\n",
       " './test_data/279912.jpeg',\n",
       " './test_data/299953.jpeg',\n",
       " './test_data/269945.jpeg',\n",
       " './test_data/29934.jpeg',\n",
       " './test_data/989921.jpeg',\n",
       " './test_data/429933.jpeg',\n",
       " './test_data/289969.jpeg',\n",
       " './test_data/659835.jpeg',\n",
       " './test_data/389908.jpeg',\n",
       " './test_data/339986.jpeg',\n",
       " './test_data/409965.jpeg']"
      ]
     },
     "execution_count": 14,
     "metadata": {},
     "output_type": "execute_result"
    }
   ],
   "source": [
    "data_file"
   ]
  },
  {
   "cell_type": "code",
   "execution_count": null,
   "metadata": {},
   "outputs": [],
   "source": []
  },
  {
   "cell_type": "code",
   "execution_count": null,
   "metadata": {},
   "outputs": [],
   "source": []
  },
  {
   "cell_type": "code",
   "execution_count": null,
   "metadata": {},
   "outputs": [],
   "source": []
  },
  {
   "cell_type": "code",
   "execution_count": 10,
   "metadata": {},
   "outputs": [
    {
     "name": "stdout",
     "output_type": "stream",
     "text": [
      "./mknk/ok\n",
      "./mknk/ng\n"
     ]
    }
   ],
   "source": [
    "for i in pp:\n",
    "    \n",
    "    print(i)"
   ]
  },
  {
   "cell_type": "code",
   "execution_count": null,
   "metadata": {},
   "outputs": [],
   "source": []
  },
  {
   "cell_type": "code",
   "execution_count": null,
   "metadata": {},
   "outputs": [],
   "source": []
  },
  {
   "cell_type": "code",
   "execution_count": 18,
   "metadata": {},
   "outputs": [],
   "source": [
    "os.mkdir('./mknk/ng')"
   ]
  },
  {
   "cell_type": "code",
   "execution_count": 8,
   "metadata": {},
   "outputs": [],
   "source": [
    "ok_path = './mknk/ok'\n",
    "ng_path = './mknk/ng'"
   ]
  },
  {
   "cell_type": "code",
   "execution_count": 12,
   "metadata": {},
   "outputs": [
    {
     "data": {
      "text/plain": [
       "'./input/./mknk/ok_data'"
      ]
     },
     "execution_count": 12,
     "metadata": {},
     "output_type": "execute_result"
    }
   ],
   "source": [
    "src_path"
   ]
  },
  {
   "cell_type": "code",
   "execution_count": 11,
   "metadata": {},
   "outputs": [],
   "source": [
    "src_path = './input/{}_data'.format(ok_path)"
   ]
  },
  {
   "cell_type": "code",
   "execution_count": 20,
   "metadata": {},
   "outputs": [],
   "source": [
    "data_file = glob.glob(os.path.join(src_path, '*.jpeg'))"
   ]
  },
  {
   "cell_type": "code",
   "execution_count": 21,
   "metadata": {},
   "outputs": [],
   "source": [
    "for img in data_file:\n",
    "    filename = os.path.basename(img)\n",
    "    if 'ok' in img:\n",
    "        dst = os.path.join(ok_path, filename)\n",
    "        shutil.copy2(img, dst)\n",
    "    else:\n",
    "        dst = os.path.join(ng_path, filename)\n",
    "        shutil.copy2(img, dst)"
   ]
  },
  {
   "cell_type": "code",
   "execution_count": null,
   "metadata": {},
   "outputs": [],
   "source": []
  }
 ],
 "metadata": {
  "kernelspec": {
   "display_name": "Python 3",
   "language": "python",
   "name": "python3"
  },
  "language_info": {
   "codemirror_mode": {
    "name": "ipython",
    "version": 3
   },
   "file_extension": ".py",
   "mimetype": "text/x-python",
   "name": "python",
   "nbconvert_exporter": "python",
   "pygments_lexer": "ipython3",
   "version": "3.7.6"
  }
 },
 "nbformat": 4,
 "nbformat_minor": 4
}
