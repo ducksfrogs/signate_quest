{
 "cells": [
  {
   "cell_type": "code",
   "execution_count": 5,
   "metadata": {},
   "outputs": [],
   "source": [
    "import glob\n",
    "import os\n",
    "\n",
    "import shutil"
   ]
  },
  {
   "cell_type": "code",
   "execution_count": 6,
   "metadata": {},
   "outputs": [],
   "source": [
    "files = os.listdir('./')\n"
   ]
  },
  {
   "cell_type": "code",
   "execution_count": 7,
   "metadata": {},
   "outputs": [
    {
     "data": {
      "text/plain": [
       "['input',\n",
       " 'Untitled.ipynb',\n",
       " 'dataPrepare.ipynb',\n",
       " 'momo.ipynb',\n",
       " '__MACOSX',\n",
       " '.virtual_documents',\n",
       " '.ipynb_checkpoints',\n",
       " 'torch.ipynb']"
      ]
     },
     "execution_count": 7,
     "metadata": {},
     "output_type": "execute_result"
    }
   ],
   "source": [
    "files"
   ]
  },
  {
   "cell_type": "code",
   "execution_count": 9,
   "metadata": {},
   "outputs": [],
   "source": [
    "pp = [ok_path, ng_path]"
   ]
  },
  {
   "cell_type": "code",
   "execution_count": 8,
   "metadata": {},
   "outputs": [],
   "source": [
    "ok_path = \"dd\""
   ]
  },
  {
   "cell_type": "code",
   "execution_count": 9,
   "metadata": {},
   "outputs": [],
   "source": [
    "ng_path = \"mm/\""
   ]
  },
  {
   "cell_type": "code",
   "execution_count": 10,
   "metadata": {},
   "outputs": [
    {
     "data": {
      "text/plain": [
       "'mm/dd'"
      ]
     },
     "execution_count": 10,
     "metadata": {},
     "output_type": "execute_result"
    }
   ],
   "source": [
    "ng_path + ok_path"
   ]
  },
  {
   "cell_type": "code",
   "execution_count": 11,
   "metadata": {},
   "outputs": [],
   "source": [
    "train_val = ['train', 'val']\n"
   ]
  },
  {
   "cell_type": "code",
   "execution_count": 12,
   "metadata": {},
   "outputs": [
    {
     "name": "stdout",
     "output_type": "stream",
     "text": [
      "train\n",
      "val\n"
     ]
    }
   ],
   "source": [
    "for i in train_val:\n",
    "    print(i)"
   ]
  },
  {
   "cell_type": "code",
   "execution_count": 13,
   "metadata": {},
   "outputs": [],
   "source": [
    "data_file = glob.glob(os.path.join('./test_data/', '*.jpeg'))"
   ]
  },
  {
   "cell_type": "code",
   "execution_count": 14,
   "metadata": {},
   "outputs": [
    {
     "data": {
      "text/plain": [
       "['./test_data/59918.jpeg',\n",
       " './test_data/729911.jpeg',\n",
       " './test_data/159915.jpeg',\n",
       " './test_data/249889.jpeg',\n",
       " './test_data/929917.jpeg',\n",
       " './test_data/579910.jpeg',\n",
       " './test_data/759854.jpeg',\n",
       " './test_data/79963.jpeg',\n",
       " './test_data/459909.jpeg',\n",
       " './test_data/839998.jpeg',\n",
       " './test_data/469837.jpeg',\n",
       " './test_data/849890.jpeg',\n",
       " './test_data/99851.jpeg',\n",
       " './test_data/629822.jpeg',\n",
       " './test_data/609988.jpeg',\n",
       " './test_data/889886.jpeg',\n",
       " './test_data/529883.jpeg',\n",
       " './test_data/419909.jpeg',\n",
       " './test_data/319945.jpeg',\n",
       " './test_data/19871.jpeg',\n",
       " './test_data/639930.jpeg',\n",
       " './test_data/309928.jpeg',\n",
       " './test_data/959829.jpeg',\n",
       " './test_data/479840.jpeg',\n",
       " './test_data/259831.jpeg',\n",
       " './test_data/129893.jpeg',\n",
       " './test_data/169903.jpeg',\n",
       " './test_data/399924.jpeg',\n",
       " './test_data/999921.jpeg',\n",
       " './test_data/139981.jpeg',\n",
       " './test_data/359973.jpeg',\n",
       " './test_data/549992.jpeg',\n",
       " './test_data/449821.jpeg',\n",
       " './test_data/569906.jpeg',\n",
       " './test_data/779897.jpeg',\n",
       " './test_data/119892.jpeg',\n",
       " './test_data/539843.jpeg',\n",
       " './test_data/349836.jpeg',\n",
       " './test_data/69975.jpeg',\n",
       " './test_data/379924.jpeg',\n",
       " './test_data/809920.jpeg',\n",
       " './test_data/49888.jpeg',\n",
       " './test_data/189978.jpeg',\n",
       " './test_data/179915.jpeg',\n",
       " './test_data/899886.jpeg',\n",
       " './test_data/869957.jpeg',\n",
       " './test_data/969983.jpeg',\n",
       " './test_data/689927.jpeg',\n",
       " './test_data/909994.jpeg',\n",
       " './test_data/209923.jpeg',\n",
       " './test_data/669862.jpeg',\n",
       " './test_data/439948.jpeg',\n",
       " './test_data/979891.jpeg',\n",
       " './test_data/939891.jpeg',\n",
       " './test_data/559880.jpeg',\n",
       " './test_data/89914.jpeg',\n",
       " './test_data/749878.jpeg',\n",
       " './test_data/199935.jpeg',\n",
       " './test_data/589947.jpeg',\n",
       " './test_data/819873.jpeg',\n",
       " './test_data/239962.jpeg',\n",
       " './test_data/679931.jpeg',\n",
       " './test_data/699970.jpeg',\n",
       " './test_data/709966.jpeg',\n",
       " './test_data/829920.jpeg',\n",
       " './test_data/719946.jpeg',\n",
       " './test_data/149997.jpeg',\n",
       " './test_data/489913.jpeg',\n",
       " './test_data/879941.jpeg',\n",
       " './test_data/519895.jpeg',\n",
       " './test_data/789907.jpeg',\n",
       " './test_data/599930.jpeg',\n",
       " './test_data/1009937.jpeg',\n",
       " './test_data/739881.jpeg',\n",
       " './test_data/799977.jpeg',\n",
       " './test_data/219889.jpeg',\n",
       " './test_data/769946.jpeg',\n",
       " './test_data/509856.jpeg',\n",
       " './test_data/499929.jpeg',\n",
       " './test_data/39826.jpeg',\n",
       " './test_data/369861.jpeg',\n",
       " './test_data/109996.jpeg',\n",
       " './test_data/649971.jpeg',\n",
       " './test_data/859982.jpeg',\n",
       " './test_data/619967.jpeg',\n",
       " './test_data/329953.jpeg',\n",
       " './test_data/919995.jpeg',\n",
       " './test_data/229958.jpeg',\n",
       " './test_data/949956.jpeg',\n",
       " './test_data/279912.jpeg',\n",
       " './test_data/299953.jpeg',\n",
       " './test_data/269945.jpeg',\n",
       " './test_data/29934.jpeg',\n",
       " './test_data/989921.jpeg',\n",
       " './test_data/429933.jpeg',\n",
       " './test_data/289969.jpeg',\n",
       " './test_data/659835.jpeg',\n",
       " './test_data/389908.jpeg',\n",
       " './test_data/339986.jpeg',\n",
       " './test_data/409965.jpeg']"
      ]
     },
     "execution_count": 14,
     "metadata": {},
     "output_type": "execute_result"
    }
   ],
   "source": [
    "data_file"
   ]
  },
  {
   "cell_type": "code",
   "execution_count": null,
   "metadata": {},
   "outputs": [],
   "source": []
  },
  {
   "cell_type": "code",
   "execution_count": null,
   "metadata": {},
   "outputs": [],
   "source": []
  },
  {
   "cell_type": "code",
   "execution_count": null,
   "metadata": {},
   "outputs": [],
   "source": []
  },
  {
   "cell_type": "code",
   "execution_count": 10,
   "metadata": {},
   "outputs": [
    {
     "name": "stdout",
     "output_type": "stream",
     "text": [
      "./mknk/ok\n",
      "./mknk/ng\n"
     ]
    }
   ],
   "source": [
    "for i in pp:\n",
    "    \n",
    "    print(i)"
   ]
  },
  {
   "cell_type": "code",
   "execution_count": null,
   "metadata": {},
   "outputs": [],
   "source": []
  },
  {
   "cell_type": "code",
   "execution_count": null,
   "metadata": {},
   "outputs": [],
   "source": []
  },
  {
   "cell_type": "code",
   "execution_count": 18,
   "metadata": {},
   "outputs": [],
   "source": [
    "os.mkdir('./mknk/ng')"
   ]
  },
  {
   "cell_type": "code",
   "execution_count": 8,
   "metadata": {},
   "outputs": [],
   "source": [
    "ok_path = './mknk/ok'\n",
    "ng_path = './mknk/ng'"
   ]
  },
  {
   "cell_type": "code",
   "execution_count": 12,
   "metadata": {},
   "outputs": [
    {
     "data": {
      "text/plain": [
       "'./input/./mknk/ok_data'"
      ]
     },
     "execution_count": 12,
     "metadata": {},
     "output_type": "execute_result"
    }
   ],
   "source": [
    "src_path"
   ]
  },
  {
   "cell_type": "code",
   "execution_count": 11,
   "metadata": {},
   "outputs": [],
   "source": [
    "src_path = './input/{}_data'.format(ok_path)"
   ]
  },
  {
   "cell_type": "code",
   "execution_count": 20,
   "metadata": {},
   "outputs": [],
   "source": [
    "data_file = glob.glob(os.path.join(src_path, '*.jpeg'))"
   ]
  },
  {
   "cell_type": "code",
   "execution_count": 21,
   "metadata": {},
   "outputs": [],
   "source": [
    "for img in data_file:\n",
    "    filename = os.path.basename(img)\n",
    "    if 'ok' in img:\n",
    "        dst = os.path.join(ok_path, filename)\n",
    "        shutil.copy2(img, dst)\n",
    "    else:\n",
    "        dst = os.path.join(ng_path, filename)\n",
    "        shutil.copy2(img, dst)"
   ]
  },
  {
   "cell_type": "code",
   "execution_count": null,
   "metadata": {},
   "outputs": [],
   "source": []
  }
 ],
 "metadata": {
  "kernelspec": {
   "display_name": "Python 3",
   "language": "python",
   "name": "python3"
  },
  "language_info": {
   "codemirror_mode": {
    "name": "ipython",
    "version": 3
   },
   "file_extension": ".py",
   "mimetype": "text/x-python",
   "name": "python",
   "nbconvert_exporter": "python",
   "pygments_lexer": "ipython3",
   "version": "3.8.5"
  }
 },
 "nbformat": 4,
 "nbformat_minor": 4
}
