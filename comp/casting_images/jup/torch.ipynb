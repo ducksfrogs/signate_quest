{
 "cells": [
  {
   "cell_type": "code",
   "execution_count": 1,
   "metadata": {},
   "outputs": [],
   "source": [
    "import torch\n",
    "from torchvision import transforms, datasets\n"
   ]
  },
  {
   "cell_type": "code",
   "execution_count": 2,
   "metadata": {},
   "outputs": [],
   "source": [
    "data_transforms = {\n",
    "    'train': transforms.Compose([\n",
    "        transforms.Resize(256),\n",
    "        transforms.RandomHorizontalFlip(p=0.5),\n",
    "        transforms.ToTensor(),\n",
    "        transforms.Normalize([0.485, 0.456, 0.406],[.229, 0.224, 0.225])\n",
    "    ]),\n",
    "    'val': transforms.Compose([\n",
    "        transforms.Resize(256),\n",
    "        transforms.ToTensor(),\n",
    "        transforms.Normalize([0.485, 0.456, 0.406],[.229, 0.224, 0.225])\n",
    "    ])\n",
    "}\n"
   ]
  },
  {
   "cell_type": "code",
   "execution_count": 3,
   "metadata": {},
   "outputs": [],
   "source": [
    "image_datasets = {\n",
    "    'train': datasets.ImageFolder(\"../input/train\", data_transforms['train']),\n",
    "    'val': datasets.ImageFolder(\"../input/val\", data_transforms['val'])\n",
    "}\n"
   ]
  },
  {
   "cell_type": "code",
   "execution_count": 4,
   "metadata": {},
   "outputs": [
    {
     "data": {
      "text/plain": [
       "{'train': Dataset ImageFolder\n",
       "     Number of datapoints: 188\n",
       "     Root location: ../input/train\n",
       "     StandardTransform\n",
       " Transform: Compose(\n",
       "                Resize(size=256, interpolation=PIL.Image.BILINEAR)\n",
       "                RandomHorizontalFlip(p=0.5)\n",
       "                ToTensor()\n",
       "                Normalize(mean=[0.485, 0.456, 0.406], std=[0.229, 0.224, 0.225])\n",
       "            ),\n",
       " 'val': Dataset ImageFolder\n",
       "     Number of datapoints: 62\n",
       "     Root location: ../input/val\n",
       "     StandardTransform\n",
       " Transform: Compose(\n",
       "                Resize(size=256, interpolation=PIL.Image.BILINEAR)\n",
       "                ToTensor()\n",
       "                Normalize(mean=[0.485, 0.456, 0.406], std=[0.229, 0.224, 0.225])\n",
       "            )}"
      ]
     },
     "execution_count": 4,
     "metadata": {},
     "output_type": "execute_result"
    }
   ],
   "source": [
    "image_datasets"
   ]
  },
  {
   "cell_type": "code",
   "execution_count": 5,
   "metadata": {},
   "outputs": [],
   "source": [
    "image_dataloaders = {\n",
    "    'train': torch.utils.data.DataLoader(image_datasets['train'], batch_size=4, shuffle=True, num_workers=0, drop_last=True),\n",
    "    'val': torch.utils.data.DataLoader(image_datasets['val'], batch_size=4, shuffle=False, num_workers=0, drop_last=True),\n",
    "    }\n"
   ]
  },
  {
   "cell_type": "code",
   "execution_count": 10,
   "metadata": {},
   "outputs": [
    {
     "data": {
      "text/plain": [
       "{'train': <torch.utils.data.dataloader.DataLoader at 0x7fccbdebd810>,\n",
       " 'val': <torch.utils.data.dataloader.DataLoader at 0x7fccbdebd590>}"
      ]
     },
     "execution_count": 10,
     "metadata": {},
     "output_type": "execute_result"
    }
   ],
   "source": [
    "image_dataloaders"
   ]
  },
  {
   "cell_type": "code",
   "execution_count": 6,
   "metadata": {},
   "outputs": [
    {
     "data": {
      "text/plain": [
       "Dataset ImageFolder\n",
       "    Number of datapoints: 188\n",
       "    Root location: ../input/train\n",
       "    StandardTransform\n",
       "Transform: Compose(\n",
       "               Resize(size=256, interpolation=PIL.Image.BILINEAR)\n",
       "               RandomHorizontalFlip(p=0.5)\n",
       "               ToTensor()\n",
       "               Normalize(mean=[0.485, 0.456, 0.406], std=[0.229, 0.224, 0.225])\n",
       "           )"
      ]
     },
     "execution_count": 6,
     "metadata": {},
     "output_type": "execute_result"
    }
   ],
   "source": [
    "image_datasets['train']"
   ]
  },
  {
   "cell_type": "code",
   "execution_count": 7,
   "metadata": {},
   "outputs": [
    {
     "name": "stdout",
     "output_type": "stream",
     "text": [
      "tensor([[[[0.1254, 0.1083, 0.1083,  ..., 0.5707, 0.5707, 0.5707],\n",
      "          [0.1254, 0.1083, 0.1083,  ..., 0.5536, 0.5536, 0.5536],\n",
      "          [0.1254, 0.1083, 0.1083,  ..., 0.5536, 0.5536, 0.5536],\n",
      "          ...,\n",
      "          [0.6221, 0.6392, 0.6392,  ..., 0.8789, 0.8789, 0.8789],\n",
      "          [0.6221, 0.6392, 0.6392,  ..., 0.8789, 0.8789, 0.8789],\n",
      "          [0.6221, 0.6392, 0.6392,  ..., 0.8789, 0.8789, 0.8789]],\n",
      "\n",
      "         [[0.2577, 0.2402, 0.2402,  ..., 0.7129, 0.7129, 0.7129],\n",
      "          [0.2577, 0.2402, 0.2402,  ..., 0.6954, 0.6954, 0.6954],\n",
      "          [0.2577, 0.2402, 0.2402,  ..., 0.6954, 0.6954, 0.6954],\n",
      "          ...,\n",
      "          [0.7654, 0.7829, 0.7829,  ..., 1.0280, 1.0280, 1.0280],\n",
      "          [0.7654, 0.7829, 0.7829,  ..., 1.0280, 1.0280, 1.0280],\n",
      "          [0.7654, 0.7829, 0.7829,  ..., 1.0280, 1.0280, 1.0280]],\n",
      "\n",
      "         [[0.4788, 0.4614, 0.4614,  ..., 0.9319, 0.9319, 0.9319],\n",
      "          [0.4788, 0.4614, 0.4614,  ..., 0.9145, 0.9145, 0.9145],\n",
      "          [0.4788, 0.4614, 0.4614,  ..., 0.9145, 0.9145, 0.9145],\n",
      "          ...,\n",
      "          [0.9842, 1.0017, 1.0017,  ..., 1.2457, 1.2457, 1.2457],\n",
      "          [0.9842, 1.0017, 1.0017,  ..., 1.2457, 1.2457, 1.2457],\n",
      "          [0.9842, 1.0017, 1.0017,  ..., 1.2457, 1.2457, 1.2457]]],\n",
      "\n",
      "\n",
      "        [[[0.4679, 0.4679, 0.4679,  ..., 0.9817, 0.9817, 0.9817],\n",
      "          [0.4679, 0.4679, 0.4679,  ..., 0.9817, 0.9817, 0.9817],\n",
      "          [0.4679, 0.4679, 0.4679,  ..., 0.9817, 0.9817, 0.9817],\n",
      "          ...,\n",
      "          [0.4337, 0.4337, 0.4337,  ..., 1.1358, 1.1529, 1.1529],\n",
      "          [0.4337, 0.4337, 0.4337,  ..., 1.1358, 1.1529, 1.1529],\n",
      "          [0.4337, 0.4337, 0.4337,  ..., 1.1358, 1.1529, 1.1529]],\n",
      "\n",
      "         [[0.6078, 0.6078, 0.6078,  ..., 1.1331, 1.1331, 1.1331],\n",
      "          [0.6078, 0.6078, 0.6078,  ..., 1.1331, 1.1331, 1.1331],\n",
      "          [0.6078, 0.6078, 0.6078,  ..., 1.1331, 1.1331, 1.1331],\n",
      "          ...,\n",
      "          [0.5728, 0.5728, 0.5728,  ..., 1.2906, 1.3081, 1.3081],\n",
      "          [0.5728, 0.5728, 0.5728,  ..., 1.2906, 1.3081, 1.3081],\n",
      "          [0.5728, 0.5728, 0.5728,  ..., 1.2906, 1.3081, 1.3081]],\n",
      "\n",
      "         [[0.8274, 0.8274, 0.8274,  ..., 1.3502, 1.3502, 1.3502],\n",
      "          [0.8274, 0.8274, 0.8274,  ..., 1.3502, 1.3502, 1.3502],\n",
      "          [0.8274, 0.8274, 0.8274,  ..., 1.3502, 1.3502, 1.3502],\n",
      "          ...,\n",
      "          [0.7925, 0.7925, 0.7925,  ..., 1.5071, 1.5245, 1.5245],\n",
      "          [0.7925, 0.7925, 0.7925,  ..., 1.5071, 1.5245, 1.5245],\n",
      "          [0.7925, 0.7925, 0.7925,  ..., 1.5071, 1.5245, 1.5245]]],\n",
      "\n",
      "\n",
      "        [[[1.4612, 1.4612, 1.4612,  ..., 0.7419, 0.7419, 0.7419],\n",
      "          [1.4612, 1.4612, 1.4612,  ..., 0.7419, 0.7419, 0.7419],\n",
      "          [1.4612, 1.4612, 1.4612,  ..., 0.7419, 0.7419, 0.7419],\n",
      "          ...,\n",
      "          [1.1872, 1.2214, 1.2385,  ..., 0.5193, 0.5022, 0.4851],\n",
      "          [1.2043, 1.2214, 1.2385,  ..., 0.5364, 0.5193, 0.5022],\n",
      "          [1.2043, 1.2214, 1.2385,  ..., 0.5878, 0.5707, 0.5536]],\n",
      "\n",
      "         [[1.6232, 1.6232, 1.6232,  ..., 0.8880, 0.8880, 0.8880],\n",
      "          [1.6232, 1.6232, 1.6232,  ..., 0.8880, 0.8880, 0.8880],\n",
      "          [1.6232, 1.6232, 1.6232,  ..., 0.8880, 0.8880, 0.8880],\n",
      "          ...,\n",
      "          [1.3431, 1.3782, 1.3957,  ..., 0.6604, 0.6429, 0.6254],\n",
      "          [1.3606, 1.3782, 1.3957,  ..., 0.6779, 0.6604, 0.6429],\n",
      "          [1.3606, 1.3782, 1.3957,  ..., 0.7304, 0.7129, 0.6954]],\n",
      "\n",
      "         [[1.8383, 1.8383, 1.8383,  ..., 1.1062, 1.1062, 1.1062],\n",
      "          [1.8383, 1.8383, 1.8383,  ..., 1.1062, 1.1062, 1.1062],\n",
      "          [1.8383, 1.8383, 1.8383,  ..., 1.1062, 1.1062, 1.1062],\n",
      "          ...,\n",
      "          [1.5594, 1.5942, 1.6117,  ..., 0.8797, 0.8622, 0.8448],\n",
      "          [1.5768, 1.5942, 1.6117,  ..., 0.8971, 0.8797, 0.8622],\n",
      "          [1.5768, 1.5942, 1.6117,  ..., 0.9494, 0.9319, 0.9145]]],\n",
      "\n",
      "\n",
      "        [[[0.6734, 0.6734, 0.6734,  ..., 1.0673, 1.0673, 1.0673],\n",
      "          [0.6906, 0.6906, 0.6734,  ..., 1.0673, 1.0673, 1.0673],\n",
      "          [0.7077, 0.7077, 0.6906,  ..., 1.0673, 1.0673, 1.0673],\n",
      "          ...,\n",
      "          [0.6392, 0.6563, 0.6563,  ..., 0.9132, 0.9132, 0.9132],\n",
      "          [0.6392, 0.6563, 0.6563,  ..., 0.9132, 0.9132, 0.9132],\n",
      "          [0.6392, 0.6563, 0.6563,  ..., 0.9132, 0.9132, 0.9132]],\n",
      "\n",
      "         [[0.8179, 0.8179, 0.8179,  ..., 1.2206, 1.2206, 1.2206],\n",
      "          [0.8354, 0.8354, 0.8179,  ..., 1.2206, 1.2206, 1.2206],\n",
      "          [0.8529, 0.8529, 0.8354,  ..., 1.2206, 1.2206, 1.2206],\n",
      "          ...,\n",
      "          [0.7829, 0.8004, 0.8004,  ..., 1.0630, 1.0630, 1.0630],\n",
      "          [0.7829, 0.8004, 0.8004,  ..., 1.0630, 1.0630, 1.0630],\n",
      "          [0.7829, 0.8004, 0.8004,  ..., 1.0630, 1.0630, 1.0630]],\n",
      "\n",
      "         [[1.0365, 1.0365, 1.0365,  ..., 1.4374, 1.4374, 1.4374],\n",
      "          [1.0539, 1.0539, 1.0365,  ..., 1.4374, 1.4374, 1.4374],\n",
      "          [1.0714, 1.0714, 1.0539,  ..., 1.4374, 1.4374, 1.4374],\n",
      "          ...,\n",
      "          [1.0017, 1.0191, 1.0191,  ..., 1.2805, 1.2805, 1.2805],\n",
      "          [1.0017, 1.0191, 1.0191,  ..., 1.2805, 1.2805, 1.2805],\n",
      "          [1.0017, 1.0191, 1.0191,  ..., 1.2805, 1.2805, 1.2805]]]])\n",
      "tensor([0, 0, 1, 1])\n"
     ]
    }
   ],
   "source": [
    "for i, (inputs, labels) in enumerate(image_dataloaders['train']):\n",
    "    print(inputs)\n",
    "    print(labels)\n",
    "    if i == 0:\n",
    "        break"
   ]
  },
  {
   "cell_type": "code",
   "execution_count": 8,
   "metadata": {},
   "outputs": [],
   "source": [
    "from torchvision import datasets, models, transforms\n",
    "\n",
    "model_ft = models.resnet18(pretrained=False)\n"
   ]
  },
  {
   "cell_type": "code",
   "execution_count": 9,
   "metadata": {},
   "outputs": [
    {
     "data": {
      "text/plain": [
       "ResNet(\n",
       "  (conv1): Conv2d(3, 64, kernel_size=(7, 7), stride=(2, 2), padding=(3, 3), bias=False)\n",
       "  (bn1): BatchNorm2d(64, eps=1e-05, momentum=0.1, affine=True, track_running_stats=True)\n",
       "  (relu): ReLU(inplace=True)\n",
       "  (maxpool): MaxPool2d(kernel_size=3, stride=2, padding=1, dilation=1, ceil_mode=False)\n",
       "  (layer1): Sequential(\n",
       "    (0): BasicBlock(\n",
       "      (conv1): Conv2d(64, 64, kernel_size=(3, 3), stride=(1, 1), padding=(1, 1), bias=False)\n",
       "      (bn1): BatchNorm2d(64, eps=1e-05, momentum=0.1, affine=True, track_running_stats=True)\n",
       "      (relu): ReLU(inplace=True)\n",
       "      (conv2): Conv2d(64, 64, kernel_size=(3, 3), stride=(1, 1), padding=(1, 1), bias=False)\n",
       "      (bn2): BatchNorm2d(64, eps=1e-05, momentum=0.1, affine=True, track_running_stats=True)\n",
       "    )\n",
       "    (1): BasicBlock(\n",
       "      (conv1): Conv2d(64, 64, kernel_size=(3, 3), stride=(1, 1), padding=(1, 1), bias=False)\n",
       "      (bn1): BatchNorm2d(64, eps=1e-05, momentum=0.1, affine=True, track_running_stats=True)\n",
       "      (relu): ReLU(inplace=True)\n",
       "      (conv2): Conv2d(64, 64, kernel_size=(3, 3), stride=(1, 1), padding=(1, 1), bias=False)\n",
       "      (bn2): BatchNorm2d(64, eps=1e-05, momentum=0.1, affine=True, track_running_stats=True)\n",
       "    )\n",
       "  )\n",
       "  (layer2): Sequential(\n",
       "    (0): BasicBlock(\n",
       "      (conv1): Conv2d(64, 128, kernel_size=(3, 3), stride=(2, 2), padding=(1, 1), bias=False)\n",
       "      (bn1): BatchNorm2d(128, eps=1e-05, momentum=0.1, affine=True, track_running_stats=True)\n",
       "      (relu): ReLU(inplace=True)\n",
       "      (conv2): Conv2d(128, 128, kernel_size=(3, 3), stride=(1, 1), padding=(1, 1), bias=False)\n",
       "      (bn2): BatchNorm2d(128, eps=1e-05, momentum=0.1, affine=True, track_running_stats=True)\n",
       "      (downsample): Sequential(\n",
       "        (0): Conv2d(64, 128, kernel_size=(1, 1), stride=(2, 2), bias=False)\n",
       "        (1): BatchNorm2d(128, eps=1e-05, momentum=0.1, affine=True, track_running_stats=True)\n",
       "      )\n",
       "    )\n",
       "    (1): BasicBlock(\n",
       "      (conv1): Conv2d(128, 128, kernel_size=(3, 3), stride=(1, 1), padding=(1, 1), bias=False)\n",
       "      (bn1): BatchNorm2d(128, eps=1e-05, momentum=0.1, affine=True, track_running_stats=True)\n",
       "      (relu): ReLU(inplace=True)\n",
       "      (conv2): Conv2d(128, 128, kernel_size=(3, 3), stride=(1, 1), padding=(1, 1), bias=False)\n",
       "      (bn2): BatchNorm2d(128, eps=1e-05, momentum=0.1, affine=True, track_running_stats=True)\n",
       "    )\n",
       "  )\n",
       "  (layer3): Sequential(\n",
       "    (0): BasicBlock(\n",
       "      (conv1): Conv2d(128, 256, kernel_size=(3, 3), stride=(2, 2), padding=(1, 1), bias=False)\n",
       "      (bn1): BatchNorm2d(256, eps=1e-05, momentum=0.1, affine=True, track_running_stats=True)\n",
       "      (relu): ReLU(inplace=True)\n",
       "      (conv2): Conv2d(256, 256, kernel_size=(3, 3), stride=(1, 1), padding=(1, 1), bias=False)\n",
       "      (bn2): BatchNorm2d(256, eps=1e-05, momentum=0.1, affine=True, track_running_stats=True)\n",
       "      (downsample): Sequential(\n",
       "        (0): Conv2d(128, 256, kernel_size=(1, 1), stride=(2, 2), bias=False)\n",
       "        (1): BatchNorm2d(256, eps=1e-05, momentum=0.1, affine=True, track_running_stats=True)\n",
       "      )\n",
       "    )\n",
       "    (1): BasicBlock(\n",
       "      (conv1): Conv2d(256, 256, kernel_size=(3, 3), stride=(1, 1), padding=(1, 1), bias=False)\n",
       "      (bn1): BatchNorm2d(256, eps=1e-05, momentum=0.1, affine=True, track_running_stats=True)\n",
       "      (relu): ReLU(inplace=True)\n",
       "      (conv2): Conv2d(256, 256, kernel_size=(3, 3), stride=(1, 1), padding=(1, 1), bias=False)\n",
       "      (bn2): BatchNorm2d(256, eps=1e-05, momentum=0.1, affine=True, track_running_stats=True)\n",
       "    )\n",
       "  )\n",
       "  (layer4): Sequential(\n",
       "    (0): BasicBlock(\n",
       "      (conv1): Conv2d(256, 512, kernel_size=(3, 3), stride=(2, 2), padding=(1, 1), bias=False)\n",
       "      (bn1): BatchNorm2d(512, eps=1e-05, momentum=0.1, affine=True, track_running_stats=True)\n",
       "      (relu): ReLU(inplace=True)\n",
       "      (conv2): Conv2d(512, 512, kernel_size=(3, 3), stride=(1, 1), padding=(1, 1), bias=False)\n",
       "      (bn2): BatchNorm2d(512, eps=1e-05, momentum=0.1, affine=True, track_running_stats=True)\n",
       "      (downsample): Sequential(\n",
       "        (0): Conv2d(256, 512, kernel_size=(1, 1), stride=(2, 2), bias=False)\n",
       "        (1): BatchNorm2d(512, eps=1e-05, momentum=0.1, affine=True, track_running_stats=True)\n",
       "      )\n",
       "    )\n",
       "    (1): BasicBlock(\n",
       "      (conv1): Conv2d(512, 512, kernel_size=(3, 3), stride=(1, 1), padding=(1, 1), bias=False)\n",
       "      (bn1): BatchNorm2d(512, eps=1e-05, momentum=0.1, affine=True, track_running_stats=True)\n",
       "      (relu): ReLU(inplace=True)\n",
       "      (conv2): Conv2d(512, 512, kernel_size=(3, 3), stride=(1, 1), padding=(1, 1), bias=False)\n",
       "      (bn2): BatchNorm2d(512, eps=1e-05, momentum=0.1, affine=True, track_running_stats=True)\n",
       "    )\n",
       "  )\n",
       "  (avgpool): AdaptiveAvgPool2d(output_size=(1, 1))\n",
       "  (fc): Linear(in_features=512, out_features=1000, bias=True)\n",
       ")"
      ]
     },
     "execution_count": 9,
     "metadata": {},
     "output_type": "execute_result"
    }
   ],
   "source": [
    "model_ft"
   ]
  },
  {
   "cell_type": "code",
   "execution_count": 12,
   "metadata": {},
   "outputs": [],
   "source": [
    "import torch.nn as nn\n",
    "import torch.optim as optim\n",
    "\n",
    "\n",
    "device = 'cpu'\n",
    "TARGET_NUM = 10\n",
    "\n",
    "def get_model(target_num, isPretrained=False):\n",
    "\n",
    "    model_ft = models.resnet18(pretrained=isPretrained)\n",
    "    model_ft.fc = nn.Linear(512, target_num)\n",
    "    model_ft = model_ft.to(device)\n",
    "\n",
    "model = get_model(TARGET_NUM, isPretrained=False)\n"
   ]
  },
  {
   "cell_type": "code",
   "execution_count": 13,
   "metadata": {},
   "outputs": [],
   "source": [
    "optimizer = optim.SGD(model_ft.parameters(), lr=0.001, momentum=0.9)\n",
    "\n",
    "criterion = nn.CrossEntropyLoss()\n"
   ]
  },
  {
   "cell_type": "code",
   "execution_count": null,
   "metadata": {},
   "outputs": [],
   "source": []
  }
 ],
 "metadata": {
  "kernelspec": {
   "display_name": "Python 3",
   "language": "python",
   "name": "python3"
  },
  "language_info": {
   "codemirror_mode": {
    "name": "ipython",
    "version": 3
   },
   "file_extension": ".py",
   "mimetype": "text/x-python",
   "name": "python",
   "nbconvert_exporter": "python",
   "pygments_lexer": "ipython3",
   "version": "3.7.9"
  }
 },
 "nbformat": 4,
 "nbformat_minor": 4
}
