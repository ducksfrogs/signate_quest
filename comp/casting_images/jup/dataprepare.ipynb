{
 "cells": [
  {
   "cell_type": "code",
   "execution_count": 22,
   "metadata": {},
   "outputs": [],
   "source": [
    "import os\n",
    "import zipfile\n",
    "from sklearn.model_selection import train_test_split\n",
    "import  glob\n",
    "import shutil\n"
   ]
  },
  {
   "cell_type": "code",
   "execution_count": 23,
   "metadata": {},
   "outputs": [
    {
     "ename": "FileExistsError",
     "evalue": "[Errno 17] File exists: '../input/train_tmp'",
     "output_type": "error",
     "traceback": [
      "\u001b[0;31m---------------------------------------------------------------------------\u001b[0m",
      "\u001b[0;31mFileExistsError\u001b[0m                           Traceback (most recent call last)",
      "\u001b[0;32m<ipython-input-23-5d0fc16f4e8b>\u001b[0m in \u001b[0;36m<module>\u001b[0;34m\u001b[0m\n\u001b[1;32m     12\u001b[0m \u001b[0mval_ng_dir\u001b[0m \u001b[0;34m=\u001b[0m \u001b[0;34m'../input/val/ng'\u001b[0m\u001b[0;34m\u001b[0m\u001b[0;34m\u001b[0m\u001b[0m\n\u001b[1;32m     13\u001b[0m \u001b[0;34m\u001b[0m\u001b[0m\n\u001b[0;32m---> 14\u001b[0;31m \u001b[0mos\u001b[0m\u001b[0;34m.\u001b[0m\u001b[0mmkdir\u001b[0m\u001b[0;34m(\u001b[0m\u001b[0mtmpdir\u001b[0m\u001b[0;34m)\u001b[0m\u001b[0;34m\u001b[0m\u001b[0;34m\u001b[0m\u001b[0m\n\u001b[0m",
      "\u001b[0;31mFileExistsError\u001b[0m: [Errno 17] File exists: '../input/train_tmp'"
     ]
    }
   ],
   "source": [
    "def unzip_dataset(INPATH, OUTPATH):\n",
    "    with zipfile.ZipFile(INPATH) as zf:\n",
    "        zf.extractall(OUTPATH)\n",
    "        \n",
    "\n",
    "tmpdir = '../input/train_tmp'\n",
    "\n",
    "ok_dir = '../input/train/ok'\n",
    "ng_dir = '../input/train/ng'\n",
    "\n",
    "val_ok_dir = '../input/val/ok'\n",
    "val_ng_dir = '../input/val/ng'\n",
    "\n",
    "os.mkdir(tmpdir)\n"
   ]
  },
  {
   "cell_type": "code",
   "execution_count": 24,
   "metadata": {},
   "outputs": [],
   "source": [
    "import zipfile\n",
    "\n",
    "def unzip_dataset(INPATH, OUTPATH):\n",
    "    with zipfile.ZipFile(INPATH) as zf:\n",
    "        zf.extractall(OUTPATH)\n",
    "\n",
    "unzip_dataset(INPATH='../input/train_data.zip', OUTPATH=tmpdir)\n"
   ]
  },
  {
   "cell_type": "code",
   "execution_count": 25,
   "metadata": {},
   "outputs": [],
   "source": [
    "files = glob.glob(tmpdir+'/*/*')\n"
   ]
  },
  {
   "cell_type": "code",
   "execution_count": 26,
   "metadata": {},
   "outputs": [],
   "source": [
    "train_files, test_files = train_test_split(files)\n"
   ]
  },
  {
   "cell_type": "code",
   "execution_count": 18,
   "metadata": {},
   "outputs": [],
   "source": [
    "os.mkdir(ok_dir)\n",
    "os.mkdir(ng_dir)\n",
    "\n",
    "os.mkdir(val_ok_dir)\n",
    "os.mkdir(val_ng_dir)\n"
   ]
  },
  {
   "cell_type": "code",
   "execution_count": 20,
   "metadata": {},
   "outputs": [],
   "source": [
    "for file in train_files:\n",
    "    if 'ok' in file:\n",
    "        shutil.copy2(file, ok_dir)\n",
    "    elif 'def' in file:\n",
    "        shutil.copy2(file, ng_dir)\n",
    "    else:\n",
    "        pass"
   ]
  },
  {
   "cell_type": "code",
   "execution_count": 21,
   "metadata": {},
   "outputs": [],
   "source": [
    "for file in test_files:\n",
    "    if 'ok' in file:\n",
    "        shutil.copy2(file, val_ok_dir)\n",
    "    elif 'def' in file:\n",
    "        shutil.copy2(file, val_ng_dir)\n",
    "    else:\n",
    "        pass"
   ]
  },
  {
   "cell_type": "code",
   "execution_count": 27,
   "metadata": {},
   "outputs": [],
   "source": [
    "ok_image_name_list = os.listdir('../input/train/ok/')\n",
    "ng_image_name"
   ]
  },
  {
   "cell_type": "code",
   "execution_count": 28,
   "metadata": {},
   "outputs": [
    {
     "data": {
      "text/plain": [
       "['cast_ok_0_296.jpeg',\n",
       " 'cast_ok_0_298.jpeg',\n",
       " 'cast_ok_0_376.jpeg',\n",
       " 'cast_ok_0_313.jpeg',\n",
       " 'cast_ok_0_413.jpeg',\n",
       " 'cast_ok_0_364.jpeg',\n",
       " 'cast_ok_0_263.jpeg',\n",
       " 'cast_ok_0_435.jpeg',\n",
       " 'cast_ok_0_369.jpeg',\n",
       " 'cast_ok_0_327.jpeg',\n",
       " 'cast_ok_0_467.jpeg',\n",
       " 'cast_ok_0_239.jpeg',\n",
       " 'cast_ok_0_242.jpeg',\n",
       " 'cast_ok_0_266.jpeg',\n",
       " 'cast_ok_0_307.jpeg',\n",
       " 'cast_ok_0_392.jpeg',\n",
       " 'cast_ok_0_440.jpeg',\n",
       " 'cast_ok_0_153.jpeg',\n",
       " 'cast_ok_0_379.jpeg',\n",
       " 'cast_ok_0_184.jpeg',\n",
       " 'cast_ok_0_454.jpeg',\n",
       " 'cast_ok_0_278.jpeg',\n",
       " 'cast_ok_0_357.jpeg',\n",
       " 'cast_ok_0_405.jpeg',\n",
       " 'cast_ok_0_211.jpeg',\n",
       " 'cast_ok_0_425.jpeg',\n",
       " 'cast_ok_0_360.jpeg',\n",
       " 'cast_ok_0_171.jpeg',\n",
       " 'cast_ok_0_250.jpeg',\n",
       " 'cast_ok_0_432.jpeg',\n",
       " 'cast_ok_0_284.jpeg',\n",
       " 'cast_ok_0_175.jpeg',\n",
       " 'cast_ok_0_294.jpeg',\n",
       " 'cast_ok_0_189.jpeg',\n",
       " 'cast_ok_0_367.jpeg',\n",
       " 'cast_ok_0_415.jpeg',\n",
       " 'cast_ok_0_269.jpeg',\n",
       " 'cast_ok_0_472.jpeg',\n",
       " 'cast_ok_0_331.jpeg',\n",
       " 'cast_ok_0_188.jpeg',\n",
       " 'cast_ok_0_302.jpeg',\n",
       " 'cast_ok_0_233.jpeg',\n",
       " 'cast_ok_0_362.jpeg',\n",
       " 'cast_ok_0_322.jpeg',\n",
       " 'cast_ok_0_452.jpeg',\n",
       " 'cast_ok_0_370.jpeg',\n",
       " 'cast_ok_0_463.jpeg',\n",
       " 'cast_ok_0_398.jpeg',\n",
       " 'cast_ok_0_157.jpeg',\n",
       " 'cast_ok_0_196.jpeg',\n",
       " 'cast_ok_0_349.jpeg',\n",
       " 'cast_ok_0_461.jpeg',\n",
       " 'cast_ok_0_426.jpeg',\n",
       " 'cast_ok_0_460.jpeg',\n",
       " 'cast_ok_0_244.jpeg',\n",
       " 'cast_ok_0_421.jpeg',\n",
       " 'cast_ok_0_339.jpeg',\n",
       " 'cast_ok_0_434.jpeg',\n",
       " 'cast_ok_0_411.jpeg',\n",
       " 'cast_ok_0_427.jpeg',\n",
       " 'cast_ok_0_420.jpeg',\n",
       " 'cast_ok_0_286.jpeg',\n",
       " 'cast_ok_0_345.jpeg',\n",
       " 'cast_ok_0_249.jpeg',\n",
       " 'cast_ok_0_350.jpeg',\n",
       " 'cast_ok_0_213.jpeg',\n",
       " 'cast_ok_0_169.jpeg',\n",
       " 'cast_ok_0_191.jpeg']"
      ]
     },
     "execution_count": 28,
     "metadata": {},
     "output_type": "execute_result"
    }
   ],
   "source": [
    "ok_image_name_list"
   ]
  },
  {
   "cell_type": "code",
   "execution_count": null,
   "metadata": {},
   "outputs": [],
   "source": []
  }
 ],
 "metadata": {
  "kernelspec": {
   "display_name": "Python 3",
   "language": "python",
   "name": "python3"
  },
  "language_info": {
   "codemirror_mode": {
    "name": "ipython",
    "version": 3
   },
   "file_extension": ".py",
   "mimetype": "text/x-python",
   "name": "python",
   "nbconvert_exporter": "python",
   "pygments_lexer": "ipython3",
   "version": "3.7.9"
  }
 },
 "nbformat": 4,
 "nbformat_minor": 4
}
