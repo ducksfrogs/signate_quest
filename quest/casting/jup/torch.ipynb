{
 "cells": [
  {
   "cell_type": "code",
   "execution_count": 1,
   "metadata": {},
   "outputs": [],
   "source": [
    "from torchvision import transforms, datasets\n",
    "import torch\n",
    "import zipfile\n",
    "\n",
    "def unzip_dataset(INPATH, OUTPATH):\n",
    "    with zipfile.ZipFile(INPATH) as zf:\n",
    "        zf.extractall(OUTPATH)\n",
    "\n"
   ]
  },
  {
   "cell_type": "code",
   "execution_count": 2,
   "metadata": {},
   "outputs": [],
   "source": [
    "data_transforms = {\n",
    "    'train':transforms.Compose([\n",
    "        transforms.Resize(256),\n",
    "        transforms.RandomHorizontalFlip(p=0.5),\n",
    "        transforms.ToTensor(),\n",
    "        transforms.Normalize([0.485, 0.456, 0.406], [.229, 0.224, 0.225]),\n",
    "    ]),\n",
    "    'val': transforms.Compose([\n",
    "        transforms.Resize(256),\n",
    "        transforms.ToTensor(),\n",
    "        transforms.Normalize([0.485, 0.456, 0.406], [.229, 0.224, 0.225]),\n",
    "    ]),\n",
    "}\n",
    "\n"
   ]
  },
  {
   "cell_type": "code",
   "execution_count": 3,
   "metadata": {},
   "outputs": [],
   "source": [
    "image_datasets = {\n",
    "    'train': datasets.ImageFolder('./input/train', data_transforms['train']),\n",
    "    'val': datasets.ImageFolder('./input/val', data_transforms['val'])\n",
    "}\n"
   ]
  },
  {
   "cell_type": "code",
   "execution_count": 4,
   "metadata": {},
   "outputs": [
    {
     "data": {
      "text/plain": [
       "Dataset ImageFolder\n",
       "    Number of datapoints: 250\n",
       "    Root location: ./input/train\n",
       "    StandardTransform\n",
       "Transform: Compose(\n",
       "               Resize(size=256, interpolation=PIL.Image.BILINEAR)\n",
       "               RandomHorizontalFlip(p=0.5)\n",
       "               ToTensor()\n",
       "               Normalize(mean=[0.485, 0.456, 0.406], std=[0.229, 0.224, 0.225])\n",
       "           )"
      ]
     },
     "execution_count": 4,
     "metadata": {},
     "output_type": "execute_result"
    }
   ],
   "source": [
    "image_datasets['train']"
   ]
  },
  {
   "cell_type": "code",
   "execution_count": 5,
   "metadata": {},
   "outputs": [
    {
     "data": {
      "text/plain": [
       "Dataset ImageFolder\n",
       "    Number of datapoints: 100\n",
       "    Root location: ./input/val\n",
       "    StandardTransform\n",
       "Transform: Compose(\n",
       "               Resize(size=256, interpolation=PIL.Image.BILINEAR)\n",
       "               ToTensor()\n",
       "               Normalize(mean=[0.485, 0.456, 0.406], std=[0.229, 0.224, 0.225])\n",
       "           )"
      ]
     },
     "execution_count": 5,
     "metadata": {},
     "output_type": "execute_result"
    }
   ],
   "source": [
    "image_datasets['val']"
   ]
  },
  {
   "cell_type": "code",
   "execution_count": 24,
   "metadata": {},
   "outputs": [
    {
     "name": "stdout",
     "output_type": "stream",
     "text": [
      "[('./input/train/ng/cast_def_0_0.jpeg', 0), ('./input/train/ng/cast_def_0_103.jpeg', 0), ('./input/train/ng/cast_def_0_105.jpeg', 0), ('./input/train/ng/cast_def_0_107.jpeg', 0), ('./input/train/ng/cast_def_0_109.jpeg', 0)]\n"
     ]
    }
   ],
   "source": [
    "print(image_datasets['train'].samples[0:5])"
   ]
  },
  {
   "cell_type": "code",
   "execution_count": 15,
   "metadata": {},
   "outputs": [
    {
     "name": "stdout",
     "output_type": "stream",
     "text": [
      "{'ng': 0, 'ok': 1}\n"
     ]
    }
   ],
   "source": [
    "print(image_datasets['train'].class_to_idx)"
   ]
  },
  {
   "cell_type": "code",
   "execution_count": 27,
   "metadata": {},
   "outputs": [],
   "source": [
    "image_dataloaders = {\n",
    "    'train': torch.utils.data.DataLoader(image_datasets['train'], batch_size=4, shuffle=True, num_workers=0, drop_last=True),\n",
    "    'val': torch.utils.data.DataLoader(image_datasets['val'], batch_size=4, shuffle=True, num_workers=0, drop_last=True),\n",
    "}\n"
   ]
  },
  {
   "cell_type": "code",
   "execution_count": 29,
   "metadata": {},
   "outputs": [
    {
     "name": "stdout",
     "output_type": "stream",
     "text": [
      "tensor([[[[0.3823, 0.3823, 0.3823,  ..., 0.3823, 0.3823, 0.3823],\n",
      "          [0.3823, 0.3823, 0.3823,  ..., 0.3823, 0.3823, 0.3823],\n",
      "          [0.3823, 0.3823, 0.3823,  ..., 0.3823, 0.3823, 0.3823],\n",
      "          ...,\n",
      "          [0.7248, 0.7248, 0.7248,  ..., 0.6734, 0.6734, 0.6734],\n",
      "          [0.7248, 0.7248, 0.7248,  ..., 0.6734, 0.6734, 0.6734],\n",
      "          [0.7248, 0.7248, 0.7248,  ..., 0.6734, 0.6734, 0.6734]],\n",
      "\n",
      "         [[0.5203, 0.5203, 0.5203,  ..., 0.5203, 0.5203, 0.5203],\n",
      "          [0.5203, 0.5203, 0.5203,  ..., 0.5203, 0.5203, 0.5203],\n",
      "          [0.5203, 0.5203, 0.5203,  ..., 0.5203, 0.5203, 0.5203],\n",
      "          ...,\n",
      "          [0.8704, 0.8704, 0.8704,  ..., 0.8179, 0.8179, 0.8179],\n",
      "          [0.8704, 0.8704, 0.8704,  ..., 0.8179, 0.8179, 0.8179],\n",
      "          [0.8704, 0.8704, 0.8704,  ..., 0.8179, 0.8179, 0.8179]],\n",
      "\n",
      "         [[0.7402, 0.7402, 0.7402,  ..., 0.7402, 0.7402, 0.7402],\n",
      "          [0.7402, 0.7402, 0.7402,  ..., 0.7402, 0.7402, 0.7402],\n",
      "          [0.7402, 0.7402, 0.7402,  ..., 0.7402, 0.7402, 0.7402],\n",
      "          ...,\n",
      "          [1.0888, 1.0888, 1.0888,  ..., 1.0365, 1.0365, 1.0365],\n",
      "          [1.0888, 1.0888, 1.0888,  ..., 1.0365, 1.0365, 1.0365],\n",
      "          [1.0888, 1.0888, 1.0888,  ..., 1.0365, 1.0365, 1.0365]]],\n",
      "\n",
      "\n",
      "        [[[1.4440, 1.4440, 1.4440,  ..., 1.5125, 1.5125, 1.5125],\n",
      "          [1.4440, 1.4440, 1.4440,  ..., 1.5125, 1.5125, 1.5125],\n",
      "          [1.4440, 1.4440, 1.4440,  ..., 1.5125, 1.5125, 1.5125],\n",
      "          ...,\n",
      "          [0.8618, 0.8618, 0.8447,  ..., 0.8618, 0.8618, 0.8618],\n",
      "          [0.8618, 0.8618, 0.8447,  ..., 0.8618, 0.8618, 0.8618],\n",
      "          [0.8618, 0.8618, 0.8447,  ..., 0.8789, 0.8789, 0.8789]],\n",
      "\n",
      "         [[1.6057, 1.6057, 1.6057,  ..., 1.6758, 1.6758, 1.6758],\n",
      "          [1.6057, 1.6057, 1.6057,  ..., 1.6758, 1.6758, 1.6758],\n",
      "          [1.6057, 1.6057, 1.6057,  ..., 1.6758, 1.6758, 1.6758],\n",
      "          ...,\n",
      "          [1.0105, 1.0105, 0.9930,  ..., 1.0105, 1.0105, 1.0105],\n",
      "          [1.0105, 1.0105, 0.9930,  ..., 1.0105, 1.0105, 1.0105],\n",
      "          [1.0105, 1.0105, 0.9930,  ..., 1.0280, 1.0280, 1.0280]],\n",
      "\n",
      "         [[1.8208, 1.8208, 1.8208,  ..., 1.8905, 1.8905, 1.8905],\n",
      "          [1.8208, 1.8208, 1.8208,  ..., 1.8905, 1.8905, 1.8905],\n",
      "          [1.8208, 1.8208, 1.8208,  ..., 1.8905, 1.8905, 1.8905],\n",
      "          ...,\n",
      "          [1.2282, 1.2282, 1.2108,  ..., 1.2282, 1.2282, 1.2282],\n",
      "          [1.2282, 1.2282, 1.2108,  ..., 1.2282, 1.2282, 1.2282],\n",
      "          [1.2282, 1.2282, 1.2108,  ..., 1.2457, 1.2457, 1.2457]]],\n",
      "\n",
      "\n",
      "        [[[0.1939, 0.1939, 0.1939,  ..., 0.3652, 0.3823, 0.3994],\n",
      "          [0.1426, 0.1426, 0.1426,  ..., 0.3652, 0.3823, 0.3994],\n",
      "          [0.1083, 0.1254, 0.1254,  ..., 0.3652, 0.3823, 0.3994],\n",
      "          ...,\n",
      "          [0.3652, 0.3481, 0.3481,  ..., 0.5878, 0.5878, 0.5878],\n",
      "          [0.3652, 0.3481, 0.3481,  ..., 0.5878, 0.5878, 0.5878],\n",
      "          [0.3652, 0.3481, 0.3481,  ..., 0.5878, 0.5878, 0.5878]],\n",
      "\n",
      "         [[0.3277, 0.3277, 0.3277,  ..., 0.5028, 0.5203, 0.5378],\n",
      "          [0.2752, 0.2752, 0.2752,  ..., 0.5028, 0.5203, 0.5378],\n",
      "          [0.2402, 0.2577, 0.2577,  ..., 0.5028, 0.5203, 0.5378],\n",
      "          ...,\n",
      "          [0.5028, 0.4853, 0.4853,  ..., 0.7304, 0.7304, 0.7304],\n",
      "          [0.5028, 0.4853, 0.4853,  ..., 0.7304, 0.7304, 0.7304],\n",
      "          [0.5028, 0.4853, 0.4853,  ..., 0.7304, 0.7304, 0.7304]],\n",
      "\n",
      "         [[0.5485, 0.5485, 0.5485,  ..., 0.7228, 0.7402, 0.7576],\n",
      "          [0.4962, 0.4962, 0.4962,  ..., 0.7228, 0.7402, 0.7576],\n",
      "          [0.4614, 0.4788, 0.4788,  ..., 0.7228, 0.7402, 0.7576],\n",
      "          ...,\n",
      "          [0.7228, 0.7054, 0.7054,  ..., 0.9494, 0.9494, 0.9494],\n",
      "          [0.7228, 0.7054, 0.7054,  ..., 0.9494, 0.9494, 0.9494],\n",
      "          [0.7228, 0.7054, 0.7054,  ..., 0.9494, 0.9494, 0.9494]]],\n",
      "\n",
      "\n",
      "        [[[0.6906, 0.6906, 0.6906,  ..., 0.3823, 0.3823, 0.3823],\n",
      "          [0.6906, 0.6906, 0.6906,  ..., 0.3823, 0.3823, 0.3823],\n",
      "          [0.6906, 0.6906, 0.6906,  ..., 0.3823, 0.3823, 0.3823],\n",
      "          ...,\n",
      "          [1.1529, 1.1529, 1.1529,  ..., 0.8789, 0.8789, 0.8789],\n",
      "          [1.1529, 1.1529, 1.1529,  ..., 0.8789, 0.8789, 0.8789],\n",
      "          [1.1529, 1.1529, 1.1529,  ..., 0.8789, 0.8789, 0.8789]],\n",
      "\n",
      "         [[0.8354, 0.8354, 0.8354,  ..., 0.5203, 0.5203, 0.5203],\n",
      "          [0.8354, 0.8354, 0.8354,  ..., 0.5203, 0.5203, 0.5203],\n",
      "          [0.8354, 0.8354, 0.8354,  ..., 0.5203, 0.5203, 0.5203],\n",
      "          ...,\n",
      "          [1.3081, 1.3081, 1.3081,  ..., 1.0280, 1.0280, 1.0280],\n",
      "          [1.3081, 1.3081, 1.3081,  ..., 1.0280, 1.0280, 1.0280],\n",
      "          [1.3081, 1.3081, 1.3081,  ..., 1.0280, 1.0280, 1.0280]],\n",
      "\n",
      "         [[1.0539, 1.0539, 1.0539,  ..., 0.7402, 0.7402, 0.7402],\n",
      "          [1.0539, 1.0539, 1.0539,  ..., 0.7402, 0.7402, 0.7402],\n",
      "          [1.0539, 1.0539, 1.0539,  ..., 0.7402, 0.7402, 0.7402],\n",
      "          ...,\n",
      "          [1.5245, 1.5245, 1.5245,  ..., 1.2457, 1.2457, 1.2457],\n",
      "          [1.5245, 1.5245, 1.5245,  ..., 1.2457, 1.2457, 1.2457],\n",
      "          [1.5245, 1.5245, 1.5245,  ..., 1.2457, 1.2457, 1.2457]]]])\n",
      "tensor([1, 0, 0, 0])\n"
     ]
    }
   ],
   "source": [
    "for i, (inputs, labels) in enumerate(image_dataloaders['train']):\n",
    "    print(inputs)\n",
    "    print(labels)\n",
    "    if i == 0:\n",
    "        break\n"
   ]
  },
  {
   "cell_type": "code",
   "execution_count": null,
   "metadata": {},
   "outputs": [],
   "source": []
  }
 ],
 "metadata": {
  "kernelspec": {
   "display_name": "Python 3",
   "language": "python",
   "name": "python3"
  },
  "language_info": {
   "codemirror_mode": {
    "name": "ipython",
    "version": 3
   },
   "file_extension": ".py",
   "mimetype": "text/x-python",
   "name": "python",
   "nbconvert_exporter": "python",
   "pygments_lexer": "ipython3",
   "version": "3.8.5"
  }
 },
 "nbformat": 4,
 "nbformat_minor": 4
}
