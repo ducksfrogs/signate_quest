{
 "cells": [
  {
   "cell_type": "code",
   "execution_count": 1,
   "metadata": {},
   "outputs": [],
   "source": [
    "import torch\n",
    "import torch.nn as nn\n",
    "import torch.nn.functional as F\n",
    "import torch.optim as optim\n",
    "\n",
    "class IrsiNet(nn.Module):\n",
    "\n",
    "    def __init__(self):\n",
    "        super(IrsiNet, self).__init__()\n",
    "        self.fc1 = nn.Linear(4,12)\n",
    "        self.fc2 = nn.Linear(12, 8)\n",
    "        self.fc3 = nn.Linear(8,4)\n",
    "        self.fc4 = nn.Linear(4,3)\n",
    "\n",
    "    def forward(self, x):\n",
    "        x = F.relu(self.fc1(x))\n",
    "        x = F.relu(self.fc2(x))\n",
    "        x = F.relu(self.fc3(x))\n",
    "        x = self.fc4(x)\n",
    "        return x\n",
    "\n",
    "net = IrsiNet()\n"
   ]
  },
  {
   "cell_type": "code",
   "execution_count": 5,
   "metadata": {},
   "outputs": [],
   "source": [
    "import numpy as np\n",
    "from sklearn import datasets\n",
    "\n",
    "\n",
    "iris = datasets.load_iris()\n",
    "X_train = iris.data\n",
    "y_train = iris.target\n",
    "x = torch.tensor(X_train, dtype=torch.float)\n",
    "y = torch.tensor(y_train)\n",
    "\n"
   ]
  },
  {
   "cell_type": "code",
   "execution_count": 6,
   "metadata": {},
   "outputs": [],
   "source": [
    "FOLD = 3\n",
    "IS_SHUFFLE =True\n",
    "SEED = 1234\n",
    "EPOCH = 10\n",
    "LEARNING_RATE = 0.01\n"
   ]
  },
  {
   "cell_type": "code",
   "execution_count": 3,
   "metadata": {},
   "outputs": [],
   "source": [
    "optimizer = optim.SGD(net.parameters(),lr=0.01)\n",
    "criterion = nn.CrossEntropyLoss()\n"
   ]
  },
  {
   "cell_type": "code",
   "execution_count": 10,
   "metadata": {},
   "outputs": [
    {
     "name": "stdout",
     "output_type": "stream",
     "text": [
      "epoch: 0, loss: 1.1337900162\n",
      "epoch: 1, loss: 1.1331852674\n",
      "epoch: 2, loss: 1.1325842142\n",
      "epoch: 3, loss: 1.1319836378\n",
      "epoch: 4, loss: 1.1313863993\n",
      "epoch: 5, loss: 1.1307930946\n",
      "epoch: 6, loss: 1.1302033663\n",
      "epoch: 7, loss: 1.1296147108\n",
      "epoch: 8, loss: 1.1290277243\n",
      "epoch: 9, loss: 1.1284403801\n"
     ]
    }
   ],
   "source": [
    "for i in range(EPOCH):\n",
    "    optimizer.zero_grad()\n",
    "    output =  net(x)\n",
    "\n",
    "    loss = criterion(output, y)\n",
    "    loss.backward()\n",
    "    optimizer.step()\n",
    "    print(\"epoch: {},\".format(i)+ \" loss: {:.10f}\".format(loss))\n",
    "\n"
   ]
  },
  {
   "cell_type": "code",
   "execution_count": null,
   "metadata": {},
   "outputs": [],
   "source": []
  }
 ],
 "metadata": {
  "kernelspec": {
   "display_name": "Python 3",
   "language": "python",
   "name": "python3"
  },
  "language_info": {
   "codemirror_mode": {
    "name": "ipython",
    "version": 3
   },
   "file_extension": ".py",
   "mimetype": "text/x-python",
   "name": "python",
   "nbconvert_exporter": "python",
   "pygments_lexer": "ipython3",
   "version": "3.7.9"
  }
 },
 "nbformat": 4,
 "nbformat_minor": 4
}
