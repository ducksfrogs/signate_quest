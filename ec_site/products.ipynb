{
 "cells": [
  {
   "cell_type": "code",
   "execution_count": 1,
   "metadata": {},
   "outputs": [],
   "source": [
    "import pandas as pd\n",
    "import numpy as np\n",
    "from matplotlib import pyplot as plt\n",
    "\n",
    "data = pd.read_csv('input/train_B.tsv',sep='\\t' )\n",
    "\n"
   ]
  },
  {
   "cell_type": "code",
   "execution_count": 2,
   "metadata": {},
   "outputs": [],
   "source": [
    "ts = pd.to_datetime(data['time_stamp'])\n"
   ]
  },
  {
   "cell_type": "code",
   "execution_count": 3,
   "metadata": {},
   "outputs": [],
   "source": [
    "data['time_stamp'] = ts"
   ]
  },
  {
   "cell_type": "code",
   "execution_count": 5,
   "metadata": {},
   "outputs": [
    {
     "data": {
      "text/plain": [
       "user_id               object\n",
       "product_id            object\n",
       "event_type             int64\n",
       "ad                     int64\n",
       "time_stamp    datetime64[ns]\n",
       "dtype: object"
      ]
     },
     "execution_count": 5,
     "metadata": {},
     "output_type": "execute_result"
    }
   ],
   "source": [
    "data.dtypes"
   ]
  },
  {
   "cell_type": "code",
   "execution_count": 6,
   "metadata": {},
   "outputs": [],
   "source": [
    "data_p = data.groupby('product_id').apply(lambda x: x.sort_values('time_stamp'))\n"
   ]
  },
  {
   "cell_type": "code",
   "execution_count": 7,
   "metadata": {},
   "outputs": [
    {
     "data": {
      "text/html": [
       "<div>\n",
       "<style scoped>\n",
       "    .dataframe tbody tr th:only-of-type {\n",
       "        vertical-align: middle;\n",
       "    }\n",
       "\n",
       "    .dataframe tbody tr th {\n",
       "        vertical-align: top;\n",
       "    }\n",
       "\n",
       "    .dataframe thead th {\n",
       "        text-align: right;\n",
       "    }\n",
       "</style>\n",
       "<table border=\"1\" class=\"dataframe\">\n",
       "  <thead>\n",
       "    <tr style=\"text-align: right;\">\n",
       "      <th></th>\n",
       "      <th></th>\n",
       "      <th>user_id</th>\n",
       "      <th>product_id</th>\n",
       "      <th>event_type</th>\n",
       "      <th>ad</th>\n",
       "      <th>time_stamp</th>\n",
       "    </tr>\n",
       "    <tr>\n",
       "      <th>product_id</th>\n",
       "      <th></th>\n",
       "      <th></th>\n",
       "      <th></th>\n",
       "      <th></th>\n",
       "      <th></th>\n",
       "      <th></th>\n",
       "    </tr>\n",
       "  </thead>\n",
       "  <tbody>\n",
       "    <tr>\n",
       "      <th rowspan=\"4\" valign=\"top\">00000000_b</th>\n",
       "      <th>28291</th>\n",
       "      <td>0020791_B</td>\n",
       "      <td>00000000_b</td>\n",
       "      <td>1</td>\n",
       "      <td>-1</td>\n",
       "      <td>2017-04-07 11:16:01.489</td>\n",
       "    </tr>\n",
       "    <tr>\n",
       "      <th>35610</th>\n",
       "      <td>0017926_B</td>\n",
       "      <td>00000000_b</td>\n",
       "      <td>1</td>\n",
       "      <td>-1</td>\n",
       "      <td>2017-04-07 12:52:41.668</td>\n",
       "    </tr>\n",
       "    <tr>\n",
       "      <th>1048769</th>\n",
       "      <td>0020976_B</td>\n",
       "      <td>00000000_b</td>\n",
       "      <td>1</td>\n",
       "      <td>-1</td>\n",
       "      <td>2017-04-26 02:06:53.170</td>\n",
       "    </tr>\n",
       "    <tr>\n",
       "      <th>1048770</th>\n",
       "      <td>0020976_B</td>\n",
       "      <td>00000000_b</td>\n",
       "      <td>1</td>\n",
       "      <td>-1</td>\n",
       "      <td>2017-04-26 02:07:18.427</td>\n",
       "    </tr>\n",
       "    <tr>\n",
       "      <th>00000001_b</th>\n",
       "      <th>205548</th>\n",
       "      <td>0001123_B</td>\n",
       "      <td>00000001_b</td>\n",
       "      <td>1</td>\n",
       "      <td>-1</td>\n",
       "      <td>2017-04-01 09:04:16.028</td>\n",
       "    </tr>\n",
       "  </tbody>\n",
       "</table>\n",
       "</div>"
      ],
      "text/plain": [
       "                      user_id  product_id  event_type  ad  \\\n",
       "product_id                                                  \n",
       "00000000_b 28291    0020791_B  00000000_b           1  -1   \n",
       "           35610    0017926_B  00000000_b           1  -1   \n",
       "           1048769  0020976_B  00000000_b           1  -1   \n",
       "           1048770  0020976_B  00000000_b           1  -1   \n",
       "00000001_b 205548   0001123_B  00000001_b           1  -1   \n",
       "\n",
       "                                time_stamp  \n",
       "product_id                                  \n",
       "00000000_b 28291   2017-04-07 11:16:01.489  \n",
       "           35610   2017-04-07 12:52:41.668  \n",
       "           1048769 2017-04-26 02:06:53.170  \n",
       "           1048770 2017-04-26 02:07:18.427  \n",
       "00000001_b 205548  2017-04-01 09:04:16.028  "
      ]
     },
     "execution_count": 7,
     "metadata": {},
     "output_type": "execute_result"
    }
   ],
   "source": [
    "data_p.head()"
   ]
  },
  {
   "cell_type": "code",
   "execution_count": 8,
   "metadata": {},
   "outputs": [
    {
     "data": {
      "text/plain": [
       "array(['0001123_B', '0002897_B', '0008312_B', '0016915_B', '0009792_B',\n",
       "       '0002930_B', '0017825_B', '0001291_B', '0022010_B', '0001962_B',\n",
       "       '0012672_B', '0019611_B', '0021231_B', '0006621_B', '0012705_B',\n",
       "       '0018317_B', '0020356_B', '0023759_B', '0006257_B', '0012740_B',\n",
       "       '0011613_B', '0018190_B', '0006211_B', '0009408_B', '0018982_B',\n",
       "       '0020271_B', '0001300_B', '0002606_B', '0005321_B', '0019160_B',\n",
       "       '0012450_B', '0000783_B'], dtype=object)"
      ]
     },
     "execution_count": 8,
     "metadata": {},
     "output_type": "execute_result"
    }
   ],
   "source": [
    "users = data_p.loc['00000001_b']['user_id'].unique()\n",
    "users"
   ]
  },
  {
   "cell_type": "code",
   "execution_count": null,
   "metadata": {},
   "outputs": [],
   "source": []
  }
 ],
 "metadata": {
  "kernelspec": {
   "display_name": "Python 3",
   "language": "python",
   "name": "python3"
  },
  "language_info": {
   "codemirror_mode": {
    "name": "ipython",
    "version": 3
   },
   "file_extension": ".py",
   "mimetype": "text/x-python",
   "name": "python",
   "nbconvert_exporter": "python",
   "pygments_lexer": "ipython3",
   "version": "3.8.5"
  }
 },
 "nbformat": 4,
 "nbformat_minor": 4
}
