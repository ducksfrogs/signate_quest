{
 "cells": [
  {
   "cell_type": "code",
   "execution_count": 1,
   "metadata": {},
   "outputs": [
    {
     "name": "stdout",
     "output_type": "stream",
     "text": [
      "sample_submit.tsv  train  train.zip\n"
     ]
    }
   ],
   "source": [
    "!ls input/"
   ]
  },
  {
   "cell_type": "code",
   "execution_count": 2,
   "metadata": {},
   "outputs": [],
   "source": [
    "import pandas as pd"
   ]
  },
  {
   "cell_type": "code",
   "execution_count": 5,
   "metadata": {},
   "outputs": [],
   "source": [
    "data = pd.read_csv('input/train_B.tsv', sep='\\t')"
   ]
  },
  {
   "cell_type": "code",
   "execution_count": 4,
   "metadata": {},
   "outputs": [
    {
     "data": {
      "text/plain": [
       "<bound method NDFrame.head of                                            user_id\\tproduc  _id\\teven   _  \\\n",
       "0        0000000_B\\t00004491_b\\t1\\t-1\\t2017-04-01 03:57...        NaN NaN   \n",
       "1        0000000_B\\t00004491_b\\t1\\t-1\\t2017-04-01 10:15...        NaN NaN   \n",
       "2        0000000_B\\t00004491_b\\t1\\t-1\\t2017-04-01 03:56...        NaN NaN   \n",
       "3        0000000_B\\t00004491_b\\t1\\t-1\\t2017-04-24 03:36...        NaN NaN   \n",
       "4        0000000_B\\t00009992_b\\t1\\t-1\\t2017-04-01 10:18...        NaN NaN   \n",
       "...                                                    ...        ...  ..   \n",
       "1113420  0023498_B\\t00014942_b\\t1\\t-1\\t2017-04-25 05:38...        NaN NaN   \n",
       "1113421  0023498_B\\t00009823_b\\t1\\t-1\\t2017-04-28 00:40...        NaN NaN   \n",
       "1113422  0023498_B\\t00004706_b\\t1\\t-1\\t2017-04-28 00:31...        NaN NaN   \n",
       "1113423  0023498_B\\t00004706_b\\t1\\t-1\\t2017-04-28 00:25...        NaN NaN   \n",
       "1113424  0023498_B\\t00000148_b\\t1\\t-1\\t2017-04-28 00:17...        NaN NaN   \n",
       "\n",
       "         ype\\tad\\t  ime_s  amp  \n",
       "0              NaN    NaN  NaN  \n",
       "1              NaN    NaN  NaN  \n",
       "2              NaN    NaN  NaN  \n",
       "3              NaN    NaN  NaN  \n",
       "4              NaN    NaN  NaN  \n",
       "...            ...    ...  ...  \n",
       "1113420        NaN    NaN  NaN  \n",
       "1113421        NaN    NaN  NaN  \n",
       "1113422        NaN    NaN  NaN  \n",
       "1113423        NaN    NaN  NaN  \n",
       "1113424        NaN    NaN  NaN  \n",
       "\n",
       "[1113425 rows x 6 columns]>"
      ]
     },
     "execution_count": 4,
     "metadata": {},
     "output_type": "execute_result"
    }
   ],
   "source": [
    "data.head"
   ]
  },
  {
   "cell_type": "code",
   "execution_count": 6,
   "metadata": {},
   "outputs": [
    {
     "data": {
      "text/html": [
       "<div>\n",
       "<style scoped>\n",
       "    .dataframe tbody tr th:only-of-type {\n",
       "        vertical-align: middle;\n",
       "    }\n",
       "\n",
       "    .dataframe tbody tr th {\n",
       "        vertical-align: top;\n",
       "    }\n",
       "\n",
       "    .dataframe thead th {\n",
       "        text-align: right;\n",
       "    }\n",
       "</style>\n",
       "<table border=\"1\" class=\"dataframe\">\n",
       "  <thead>\n",
       "    <tr style=\"text-align: right;\">\n",
       "      <th></th>\n",
       "      <th>user_id</th>\n",
       "      <th>product_id</th>\n",
       "      <th>event_type</th>\n",
       "      <th>ad</th>\n",
       "      <th>time_stamp</th>\n",
       "    </tr>\n",
       "  </thead>\n",
       "  <tbody>\n",
       "    <tr>\n",
       "      <th>0</th>\n",
       "      <td>0000000_B</td>\n",
       "      <td>00004491_b</td>\n",
       "      <td>1</td>\n",
       "      <td>-1</td>\n",
       "      <td>2017-04-01 03:57:12.488</td>\n",
       "    </tr>\n",
       "    <tr>\n",
       "      <th>1</th>\n",
       "      <td>0000000_B</td>\n",
       "      <td>00004491_b</td>\n",
       "      <td>1</td>\n",
       "      <td>-1</td>\n",
       "      <td>2017-04-01 10:15:21.492</td>\n",
       "    </tr>\n",
       "    <tr>\n",
       "      <th>2</th>\n",
       "      <td>0000000_B</td>\n",
       "      <td>00004491_b</td>\n",
       "      <td>1</td>\n",
       "      <td>-1</td>\n",
       "      <td>2017-04-01 03:56:31.945</td>\n",
       "    </tr>\n",
       "    <tr>\n",
       "      <th>3</th>\n",
       "      <td>0000000_B</td>\n",
       "      <td>00004491_b</td>\n",
       "      <td>1</td>\n",
       "      <td>-1</td>\n",
       "      <td>2017-04-24 03:36:28.216</td>\n",
       "    </tr>\n",
       "    <tr>\n",
       "      <th>4</th>\n",
       "      <td>0000000_B</td>\n",
       "      <td>00009992_b</td>\n",
       "      <td>1</td>\n",
       "      <td>-1</td>\n",
       "      <td>2017-04-01 10:18:00.540</td>\n",
       "    </tr>\n",
       "  </tbody>\n",
       "</table>\n",
       "</div>"
      ],
      "text/plain": [
       "     user_id  product_id  event_type  ad               time_stamp\n",
       "0  0000000_B  00004491_b           1  -1  2017-04-01 03:57:12.488\n",
       "1  0000000_B  00004491_b           1  -1  2017-04-01 10:15:21.492\n",
       "2  0000000_B  00004491_b           1  -1  2017-04-01 03:56:31.945\n",
       "3  0000000_B  00004491_b           1  -1  2017-04-24 03:36:28.216\n",
       "4  0000000_B  00009992_b           1  -1  2017-04-01 10:18:00.540"
      ]
     },
     "execution_count": 6,
     "metadata": {},
     "output_type": "execute_result"
    }
   ],
   "source": [
    "data.head()"
   ]
  },
  {
   "cell_type": "code",
   "execution_count": 7,
   "metadata": {},
   "outputs": [
    {
     "data": {
      "text/plain": [
       "user_id       object\n",
       "product_id    object\n",
       "event_type     int64\n",
       "ad             int64\n",
       "time_stamp    object\n",
       "dtype: object"
      ]
     },
     "execution_count": 7,
     "metadata": {},
     "output_type": "execute_result"
    }
   ],
   "source": [
    "data.dtypes"
   ]
  },
  {
   "cell_type": "code",
   "execution_count": 8,
   "metadata": {},
   "outputs": [],
   "source": [
    "ts = pd.to_datetime(data['time_stamp'])\n",
    "\n",
    "Max = max(ts)\n",
    "Min = min(ts)\n"
   ]
  },
  {
   "cell_type": "code",
   "execution_count": 10,
   "metadata": {},
   "outputs": [
    {
     "name": "stdout",
     "output_type": "stream",
     "text": [
      "29 days 23:59:56.287000\n"
     ]
    }
   ],
   "source": [
    "print(Max-Min)"
   ]
  },
  {
   "cell_type": "code",
   "execution_count": 11,
   "metadata": {},
   "outputs": [
    {
     "data": {
      "text/plain": [
       "array(['0000000_B', '0000196_B', '0000306_B', ..., '0010566_B',\n",
       "       '0006446_B', '0023498_B'], dtype=object)"
      ]
     },
     "execution_count": 11,
     "metadata": {},
     "output_type": "execute_result"
    }
   ],
   "source": [
    "users = data['user_id'].unique()\n",
    "users"
   ]
  },
  {
   "cell_type": "code",
   "execution_count": 12,
   "metadata": {},
   "outputs": [
    {
     "data": {
      "text/plain": [
       "23843"
      ]
     },
     "execution_count": 12,
     "metadata": {},
     "output_type": "execute_result"
    }
   ],
   "source": [
    "len(users)"
   ]
  },
  {
   "cell_type": "code",
   "execution_count": 13,
   "metadata": {},
   "outputs": [
    {
     "data": {
      "text/plain": [
       "1    1035637\n",
       "0      52639\n",
       "3      21710\n",
       "2       3439\n",
       "Name: event_type, dtype: int64"
      ]
     },
     "execution_count": 13,
     "metadata": {},
     "output_type": "execute_result"
    }
   ],
   "source": [
    "data['event_type'].value_counts()\n"
   ]
  },
  {
   "cell_type": "code",
   "execution_count": 14,
   "metadata": {},
   "outputs": [],
   "source": [
    "data['time_stamp'] = ts\n"
   ]
  },
  {
   "cell_type": "code",
   "execution_count": 15,
   "metadata": {},
   "outputs": [
    {
     "data": {
      "text/plain": [
       "dtype('<M8[ns]')"
      ]
     },
     "execution_count": 15,
     "metadata": {},
     "output_type": "execute_result"
    }
   ],
   "source": [
    "data['time_stamp'].dtype"
   ]
  },
  {
   "cell_type": "code",
   "execution_count": 16,
   "metadata": {},
   "outputs": [
    {
     "data": {
      "text/plain": [
       "0         2017-04-01 03:57:12.488\n",
       "1         2017-04-01 10:15:21.492\n",
       "2         2017-04-01 03:56:31.945\n",
       "3         2017-04-24 03:36:28.216\n",
       "4         2017-04-01 10:18:00.540\n",
       "                    ...          \n",
       "1113420   2017-04-25 05:38:05.889\n",
       "1113421   2017-04-28 00:40:57.531\n",
       "1113422   2017-04-28 00:31:15.306\n",
       "1113423   2017-04-28 00:25:47.358\n",
       "1113424   2017-04-28 00:17:56.048\n",
       "Name: time_stamp, Length: 1113425, dtype: datetime64[ns]"
      ]
     },
     "execution_count": 16,
     "metadata": {},
     "output_type": "execute_result"
    }
   ],
   "source": [
    "ts"
   ]
  },
  {
   "cell_type": "code",
   "execution_count": null,
   "metadata": {},
   "outputs": [],
   "source": []
  }
 ],
 "metadata": {
  "kernelspec": {
   "display_name": "Python 3",
   "language": "python",
   "name": "python3"
  },
  "language_info": {
   "codemirror_mode": {
    "name": "ipython",
    "version": 3
   },
   "file_extension": ".py",
   "mimetype": "text/x-python",
   "name": "python",
   "nbconvert_exporter": "python",
   "pygments_lexer": "ipython3",
   "version": "3.8.5"
  }
 },
 "nbformat": 4,
 "nbformat_minor": 4
}
